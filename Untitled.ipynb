{
 "cells": [
  {
   "cell_type": "markdown",
   "id": "56afe656-080e-4cfd-a6ed-3af3455c71f2",
   "metadata": {
    "tags": []
   },
   "source": [
    "Nous allons étudier la mort subite \n",
    "D'abord, importons nos packages et ouvrons les bases de données"
   ]
  },
  {
   "cell_type": "code",
   "execution_count": 2,
   "id": "0498941e-ae6b-442d-b0ae-1c516aeedd52",
   "metadata": {
    "tags": []
   },
   "outputs": [],
   "source": [
    "import numpy as np\n",
    "import pandas as pd\n",
    "import os\n",
    "import matplotlib.pyplot as plt"
   ]
  },
  {
   "cell_type": "code",
   "execution_count": 5,
   "id": "173f6d6c-f6e9-47a2-96b1-fd893642b19f",
   "metadata": {
    "tags": []
   },
   "outputs": [],
   "source": [
    "Table_Pop = pd.read_csv('MSTP.csv', sep = ';') #Je réimporte à chaque fois en local la base de données. Je ne stocke pas sur Git car données sensibles \n",
    "bd0 = pd.read_csv('MS_BD0.csv', sep = ';', parse_dates=[1])\n",
    "bd1 = pd.read_csv('MS_BD1.csv', sep = ';', parse_dates=[1])\n",
    "bd2 = pd.read_csv('MS_BD2.csv', sep = ';', parse_dates=[1])"
   ]
  },
  {
   "cell_type": "markdown",
   "id": "ca584fdd-a569-494c-869d-981fbd69df01",
   "metadata": {},
   "source": [
    "Je vais concaténer les traitements. "
   ]
  },
  {
   "cell_type": "code",
   "execution_count": 6,
   "id": "51afaaae-4a78-4897-929c-044410588938",
   "metadata": {
    "tags": []
   },
   "outputs": [],
   "source": [
    "bdtot = pd.concat([bd0, bd1, bd2])"
   ]
  },
  {
   "cell_type": "markdown",
   "id": "e37e9022-c372-4d3f-867f-4ec5f56011bb",
   "metadata": {},
   "source": [
    "On va établir une liste des enquêtés pour pouvoir compter leurs soins à l'avenir"
   ]
  },
  {
   "cell_type": "code",
   "execution_count": 7,
   "id": "3d9a3218-87d8-43dd-97ee-f770091586e9",
   "metadata": {
    "tags": []
   },
   "outputs": [],
   "source": [
    "list_enq = [] #On crée une liste vide\n",
    "for elem in Table_Pop['NUM_ENQ']:\n",
    "    list_enq.append(str(elem))#On ajoute chaque numéro d'enquêté, présent une seule fois sur la table de population"
   ]
  },
  {
   "cell_type": "markdown",
   "id": "2e436a40-8c0a-41a7-b00f-3b7560622f77",
   "metadata": {},
   "source": [
    "Maintenant, on va chercher à compter combien d'actes de soins ont été reçus par enquêtés. Pour ce faire, nous allons compter les occurences de chaque éléments de la liste dans la base de données totale. On va les implémenter dans la Table Pop ensuite. "
   ]
  },
  {
   "cell_type": "code",
   "execution_count": 8,
   "id": "a841a919-d1a1-4c8e-8ab1-044fbacffa36",
   "metadata": {
    "tags": []
   },
   "outputs": [
    {
     "data": {
      "text/html": [
       "<div>\n",
       "<style scoped>\n",
       "    .dataframe tbody tr th:only-of-type {\n",
       "        vertical-align: middle;\n",
       "    }\n",
       "\n",
       "    .dataframe tbody tr th {\n",
       "        vertical-align: top;\n",
       "    }\n",
       "\n",
       "    .dataframe thead th {\n",
       "        text-align: right;\n",
       "    }\n",
       "</style>\n",
       "<table border=\"1\" class=\"dataframe\">\n",
       "  <thead>\n",
       "    <tr style=\"text-align: right;\">\n",
       "      <th></th>\n",
       "      <th>NUM_ENQ</th>\n",
       "      <th>NB_SOIN</th>\n",
       "    </tr>\n",
       "  </thead>\n",
       "  <tbody>\n",
       "    <tr>\n",
       "      <th>0</th>\n",
       "      <td>0</td>\n",
       "      <td>0</td>\n",
       "    </tr>\n",
       "    <tr>\n",
       "      <th>0</th>\n",
       "      <td>G0-9994</td>\n",
       "      <td>419</td>\n",
       "    </tr>\n",
       "    <tr>\n",
       "      <th>0</th>\n",
       "      <td>G0-998</td>\n",
       "      <td>183</td>\n",
       "    </tr>\n",
       "    <tr>\n",
       "      <th>0</th>\n",
       "      <td>G0-9977</td>\n",
       "      <td>0</td>\n",
       "    </tr>\n",
       "    <tr>\n",
       "      <th>0</th>\n",
       "      <td>G0-9973</td>\n",
       "      <td>11</td>\n",
       "    </tr>\n",
       "    <tr>\n",
       "      <th>...</th>\n",
       "      <td>...</td>\n",
       "      <td>...</td>\n",
       "    </tr>\n",
       "    <tr>\n",
       "      <th>0</th>\n",
       "      <td>G0-10019</td>\n",
       "      <td>1</td>\n",
       "    </tr>\n",
       "    <tr>\n",
       "      <th>0</th>\n",
       "      <td>G0-10018</td>\n",
       "      <td>0</td>\n",
       "    </tr>\n",
       "    <tr>\n",
       "      <th>0</th>\n",
       "      <td>G0-10008</td>\n",
       "      <td>8</td>\n",
       "    </tr>\n",
       "    <tr>\n",
       "      <th>0</th>\n",
       "      <td>G0-10004</td>\n",
       "      <td>103</td>\n",
       "    </tr>\n",
       "    <tr>\n",
       "      <th>0</th>\n",
       "      <td>G0-10001</td>\n",
       "      <td>4</td>\n",
       "    </tr>\n",
       "  </tbody>\n",
       "</table>\n",
       "<p>4707 rows × 2 columns</p>\n",
       "</div>"
      ],
      "text/plain": [
       "     NUM_ENQ NB_SOIN\n",
       "0          0       0\n",
       "0    G0-9994     419\n",
       "0     G0-998     183\n",
       "0    G0-9977       0\n",
       "0    G0-9973      11\n",
       "..       ...     ...\n",
       "0   G0-10019       1\n",
       "0   G0-10018       0\n",
       "0   G0-10008       8\n",
       "0   G0-10004     103\n",
       "0   G0-10001       4\n",
       "\n",
       "[4707 rows x 2 columns]"
      ]
     },
     "execution_count": 8,
     "metadata": {},
     "output_type": "execute_result"
    }
   ],
   "source": [
    "#Création d'un début de dataframe pour remplir boucle\n",
    "ar = np.array([0, 0]) #Première ligne arbitraire\n",
    "Nb_Soins = pd.DataFrame(ar) #Conversion de la matrice en DataFrame\n",
    "Nb_Soins = Nb_Soins.transpose()\n",
    "Nb_Soins.columns = ['NUM_ENQ', 'NB_SOIN'] #On nomme les colonnes'''\n",
    " \n",
    "#On va maintenant chercher à associer à chaque enquêté le nombre de soin reçu.\n",
    "#Calcul des soins par personnes et création d'une dataframe qui associe au numéro le nombre de soin\n",
    "for elem in list_enq:\n",
    "    c = 0 #Ce sera notre compteur d'itération\n",
    "    for val in bdtot['NUM_ENQ']:\n",
    "        if elem==val:\n",
    "            c = c+1\n",
    "    ar_temp = np.array([elem, c])\n",
    "    df_temp = pd.DataFrame(ar_temp)\n",
    "    df_temp = df_temp.transpose()\n",
    "    df_temp.columns = ['NUM_ENQ', 'NB_SOIN']\n",
    "    Nb_Soins = pd.concat([Nb_Soins, df_temp])\n",
    "\n",
    "Nb_Soins"
   ]
  },
  {
   "cell_type": "code",
   "execution_count": 9,
   "id": "4ade2cce-544c-4489-ae05-2c09e94a3076",
   "metadata": {
    "tags": []
   },
   "outputs": [],
   "source": [
    "#on retire la ligne 0 \n",
    "Nb_Soins_c = Nb_Soins.copy()\n",
    "Nb_Soins_c = Nb_Soins_c[Nb_Soins_c['NUM_ENQ']!=0] "
   ]
  },
  {
   "cell_type": "code",
   "execution_count": 10,
   "id": "2a7a1d1f-5122-4456-a7b5-86798b189cb9",
   "metadata": {
    "tags": []
   },
   "outputs": [],
   "source": [
    "#L'opération ci-dessus étant très longue, on va exporter Nb_Soin pour pas avoir à refaire cette étape. On mettra sur drive la base de données\n",
    "#Nb_Soins_c.to_excel('Nb_Soins.xlsx')\n",
    "\n",
    "Nb_Soins_c.to_csv('Nb_Soins.csv')\n",
    "\n",
    "#Ouvrir la nouvelle dataframe après ré-importation locale \n",
    "#Nb_Soins = pd.read_excel('Nb_Soins.xlsx')"
   ]
  },
  {
   "cell_type": "code",
   "execution_count": 11,
   "id": "b37d31a9-c381-4bb3-bdb4-669900ef053f",
   "metadata": {
    "tags": []
   },
   "outputs": [],
   "source": [
    "#On va joindre la base des soins avec la Table_Pop\n",
    "Table_Pop = Table_Pop.merge(Nb_Soins)\n",
    "Table_Pop['NB_SOIN'] =  Table_Pop['NB_SOIN'].astype(float)"
   ]
  },
  {
   "cell_type": "markdown",
   "id": "7c226846-64f0-4e29-905c-f6078f30eb5f",
   "metadata": {},
   "source": [
    "Ainsi, on peut commencer à effectuer quelques statistiques descriptives"
   ]
  },
  {
   "cell_type": "code",
   "execution_count": 27,
   "id": "6779d4d9-7409-4c02-8f39-925fad9f9dac",
   "metadata": {
    "tags": []
   },
   "outputs": [
    {
     "data": {
      "text/html": [
       "<div>\n",
       "<style scoped>\n",
       "    .dataframe tbody tr th:only-of-type {\n",
       "        vertical-align: middle;\n",
       "    }\n",
       "\n",
       "    .dataframe tbody tr th {\n",
       "        vertical-align: top;\n",
       "    }\n",
       "\n",
       "    .dataframe thead th {\n",
       "        text-align: right;\n",
       "    }\n",
       "</style>\n",
       "<table border=\"1\" class=\"dataframe\">\n",
       "  <thead>\n",
       "    <tr style=\"text-align: right;\">\n",
       "      <th></th>\n",
       "      <th>ANTERIORITE_DISPONIBLE</th>\n",
       "      <th>SEXE</th>\n",
       "      <th>CMU</th>\n",
       "      <th>AME</th>\n",
       "      <th>DECES</th>\n",
       "      <th>AGE</th>\n",
       "      <th>TYPE_LIEU</th>\n",
       "      <th>TEMOIN</th>\n",
       "      <th>RCP_TEMOIN</th>\n",
       "      <th>ADMIS_VIVANT_HOPITAL</th>\n",
       "      <th>RYTHME_CHOQUABLE</th>\n",
       "      <th>CORO</th>\n",
       "      <th>ANN_EVT</th>\n",
       "      <th>TYPE_ASSURANCE</th>\n",
       "    </tr>\n",
       "  </thead>\n",
       "  <tbody>\n",
       "    <tr>\n",
       "      <th>count</th>\n",
       "      <td>4706.000000</td>\n",
       "      <td>4706.000000</td>\n",
       "      <td>4686.000000</td>\n",
       "      <td>4686.000000</td>\n",
       "      <td>4706.000000</td>\n",
       "      <td>4706.000000</td>\n",
       "      <td>4692.000000</td>\n",
       "      <td>4642.000000</td>\n",
       "      <td>3127.000000</td>\n",
       "      <td>4706.000000</td>\n",
       "      <td>4207.000000</td>\n",
       "      <td>1893.000000</td>\n",
       "      <td>0.0</td>\n",
       "      <td>0.0</td>\n",
       "    </tr>\n",
       "    <tr>\n",
       "      <th>mean</th>\n",
       "      <td>3485.071186</td>\n",
       "      <td>0.716107</td>\n",
       "      <td>0.147461</td>\n",
       "      <td>0.018353</td>\n",
       "      <td>0.888228</td>\n",
       "      <td>43.804098</td>\n",
       "      <td>0.355712</td>\n",
       "      <td>0.657691</td>\n",
       "      <td>0.647586</td>\n",
       "      <td>0.373991</td>\n",
       "      <td>0.293558</td>\n",
       "      <td>0.505018</td>\n",
       "      <td>NaN</td>\n",
       "      <td>NaN</td>\n",
       "    </tr>\n",
       "    <tr>\n",
       "      <th>std</th>\n",
       "      <td>940.866164</td>\n",
       "      <td>0.450933</td>\n",
       "      <td>0.354602</td>\n",
       "      <td>0.134237</td>\n",
       "      <td>0.315119</td>\n",
       "      <td>9.324248</td>\n",
       "      <td>0.478779</td>\n",
       "      <td>0.474534</td>\n",
       "      <td>0.477799</td>\n",
       "      <td>0.483913</td>\n",
       "      <td>0.455446</td>\n",
       "      <td>0.500107</td>\n",
       "      <td>NaN</td>\n",
       "      <td>NaN</td>\n",
       "    </tr>\n",
       "    <tr>\n",
       "      <th>min</th>\n",
       "      <td>1961.000000</td>\n",
       "      <td>0.000000</td>\n",
       "      <td>0.000000</td>\n",
       "      <td>0.000000</td>\n",
       "      <td>0.000000</td>\n",
       "      <td>18.015428</td>\n",
       "      <td>0.000000</td>\n",
       "      <td>0.000000</td>\n",
       "      <td>0.000000</td>\n",
       "      <td>0.000000</td>\n",
       "      <td>0.000000</td>\n",
       "      <td>0.000000</td>\n",
       "      <td>NaN</td>\n",
       "      <td>NaN</td>\n",
       "    </tr>\n",
       "    <tr>\n",
       "      <th>25%</th>\n",
       "      <td>2677.000000</td>\n",
       "      <td>0.000000</td>\n",
       "      <td>0.000000</td>\n",
       "      <td>0.000000</td>\n",
       "      <td>1.000000</td>\n",
       "      <td>38.514822</td>\n",
       "      <td>0.000000</td>\n",
       "      <td>0.000000</td>\n",
       "      <td>0.000000</td>\n",
       "      <td>0.000000</td>\n",
       "      <td>0.000000</td>\n",
       "      <td>0.000000</td>\n",
       "      <td>NaN</td>\n",
       "      <td>NaN</td>\n",
       "    </tr>\n",
       "    <tr>\n",
       "      <th>50%</th>\n",
       "      <td>3390.000000</td>\n",
       "      <td>1.000000</td>\n",
       "      <td>0.000000</td>\n",
       "      <td>0.000000</td>\n",
       "      <td>1.000000</td>\n",
       "      <td>46.517040</td>\n",
       "      <td>0.000000</td>\n",
       "      <td>1.000000</td>\n",
       "      <td>1.000000</td>\n",
       "      <td>0.000000</td>\n",
       "      <td>0.000000</td>\n",
       "      <td>1.000000</td>\n",
       "      <td>NaN</td>\n",
       "      <td>NaN</td>\n",
       "    </tr>\n",
       "    <tr>\n",
       "      <th>75%</th>\n",
       "      <td>4307.750000</td>\n",
       "      <td>1.000000</td>\n",
       "      <td>0.000000</td>\n",
       "      <td>0.000000</td>\n",
       "      <td>1.000000</td>\n",
       "      <td>51.272100</td>\n",
       "      <td>1.000000</td>\n",
       "      <td>1.000000</td>\n",
       "      <td>1.000000</td>\n",
       "      <td>1.000000</td>\n",
       "      <td>1.000000</td>\n",
       "      <td>1.000000</td>\n",
       "      <td>NaN</td>\n",
       "      <td>NaN</td>\n",
       "    </tr>\n",
       "    <tr>\n",
       "      <th>max</th>\n",
       "      <td>5248.000000</td>\n",
       "      <td>1.000000</td>\n",
       "      <td>1.000000</td>\n",
       "      <td>1.000000</td>\n",
       "      <td>1.000000</td>\n",
       "      <td>54.996338</td>\n",
       "      <td>1.000000</td>\n",
       "      <td>1.000000</td>\n",
       "      <td>1.000000</td>\n",
       "      <td>1.000000</td>\n",
       "      <td>1.000000</td>\n",
       "      <td>1.000000</td>\n",
       "      <td>NaN</td>\n",
       "      <td>NaN</td>\n",
       "    </tr>\n",
       "  </tbody>\n",
       "</table>\n",
       "</div>"
      ],
      "text/plain": [
       "       ANTERIORITE_DISPONIBLE         SEXE          CMU          AME  \\\n",
       "count             4706.000000  4706.000000  4686.000000  4686.000000   \n",
       "mean              3485.071186     0.716107     0.147461     0.018353   \n",
       "std                940.866164     0.450933     0.354602     0.134237   \n",
       "min               1961.000000     0.000000     0.000000     0.000000   \n",
       "25%               2677.000000     0.000000     0.000000     0.000000   \n",
       "50%               3390.000000     1.000000     0.000000     0.000000   \n",
       "75%               4307.750000     1.000000     0.000000     0.000000   \n",
       "max               5248.000000     1.000000     1.000000     1.000000   \n",
       "\n",
       "             DECES          AGE    TYPE_LIEU       TEMOIN   RCP_TEMOIN  \\\n",
       "count  4706.000000  4706.000000  4692.000000  4642.000000  3127.000000   \n",
       "mean      0.888228    43.804098     0.355712     0.657691     0.647586   \n",
       "std       0.315119     9.324248     0.478779     0.474534     0.477799   \n",
       "min       0.000000    18.015428     0.000000     0.000000     0.000000   \n",
       "25%       1.000000    38.514822     0.000000     0.000000     0.000000   \n",
       "50%       1.000000    46.517040     0.000000     1.000000     1.000000   \n",
       "75%       1.000000    51.272100     1.000000     1.000000     1.000000   \n",
       "max       1.000000    54.996338     1.000000     1.000000     1.000000   \n",
       "\n",
       "       ADMIS_VIVANT_HOPITAL  RYTHME_CHOQUABLE         CORO  ANN_EVT  \\\n",
       "count           4706.000000       4207.000000  1893.000000      0.0   \n",
       "mean               0.373991          0.293558     0.505018      NaN   \n",
       "std                0.483913          0.455446     0.500107      NaN   \n",
       "min                0.000000          0.000000     0.000000      NaN   \n",
       "25%                0.000000          0.000000     0.000000      NaN   \n",
       "50%                0.000000          0.000000     1.000000      NaN   \n",
       "75%                1.000000          1.000000     1.000000      NaN   \n",
       "max                1.000000          1.000000     1.000000      NaN   \n",
       "\n",
       "       TYPE_ASSURANCE  \n",
       "count             0.0  \n",
       "mean              NaN  \n",
       "std               NaN  \n",
       "min               NaN  \n",
       "25%               NaN  \n",
       "50%               NaN  \n",
       "75%               NaN  \n",
       "max               NaN  "
      ]
     },
     "execution_count": 27,
     "metadata": {},
     "output_type": "execute_result"
    }
   ],
   "source": [
    "Table_Pop.describe()"
   ]
  },
  {
   "cell_type": "markdown",
   "id": "bc18255a-62d1-4745-a4e9-39d6a8171ee9",
   "metadata": {},
   "source": [
    "On peut essayer de comparer avec des variables socio-démographiques. Par exemple, on pourrait penser que les hommes se rendent moins chez le médecin, et donc subissent moins d'actes médicaux, ou sont éventuellement sur-représentés faute de traitement de signe avant coureur. (Pb : Je sais pas si 1 correspond à homme ou femme donc je ne pourrai pas livrer une interprétation de suite)\n",
    "\n",
    "Autres idées que j'ai pas codé :\n",
    "- Régression linéraire entre nbr soin et décès\n",
    "- Lien entre présence de témoins/décès/fait d'être transporté vivant"
   ]
  },
  {
   "cell_type": "code",
   "execution_count": null,
   "id": "69503fb0-c0c2-48f2-aa74-7a291958436b",
   "metadata": {},
   "outputs": [],
   "source": [
    "df_0 = Table_Pop[Table_Pop['SEXE']==0.0]\n",
    "df_1 = Table_Pop[Table_Pop['SEXE']==1.0]\n",
    "\n",
    "df_0.describe()\n",
    "df_1.describe()"
   ]
  },
  {
   "cell_type": "markdown",
   "id": "260a902a-edf0-462f-857e-2d9a6c1334d1",
   "metadata": {},
   "source": [
    "Cependant, nous perdons l'aspect temporel avec cette manière de décrire, il faudrait indexer par les jours la fréquence de soins pour avoir une idée de leur comportement dans le temps\n",
    "\n",
    "On va donc essayer de déterminer le nombre de soins à l'approche de la date, en faisant des variables catégorielles pour ensuite représenter un histogramme. On se servira de bdtot. Idées sur : https://ichi.pro/fr/statistiques-de-base-pour-l-analyse-des-series-temporelles-en-python-84324298089781"
   ]
  },
  {
   "cell_type": "code",
   "execution_count": 12,
   "id": "d9978709-2d1c-4fad-b0a9-578d44e51e05",
   "metadata": {
    "tags": []
   },
   "outputs": [],
   "source": [
    "bdtot['DIFF_DAY'] = bdtot['DIFF_DAY'].astype(np.float64)"
   ]
  },
  {
   "cell_type": "code",
   "execution_count": 13,
   "id": "43af0b08-a440-4e22-8147-e7935d54a36f",
   "metadata": {
    "tags": []
   },
   "outputs": [
    {
     "data": {
      "text/plain": [
       "array([[<Axes: title={'center': 'DIFF_DAY'}>]], dtype=object)"
      ]
     },
     "execution_count": 13,
     "metadata": {},
     "output_type": "execute_result"
    },
    {
     "data": {
      "image/png": "[encoded data removed]",
      "text/plain": [
       "<Figure size 640x480 with 1 Axes>"
      ]
     },
     "metadata": {},
     "output_type": "display_data"
    }
   ],
   "source": [
    "bdtot.hist()\n",
    "\n",
    "#"
   ]
  },
  {
   "cell_type": "code",
   "execution_count": 14,
   "id": "1d48ca44-d8bc-4964-8632-193810339d56",
   "metadata": {
    "tags": []
   },
   "outputs": [
    {
     "data": {
      "text/html": [
       "<div>\n",
       "<style scoped>\n",
       "    .dataframe tbody tr th:only-of-type {\n",
       "        vertical-align: middle;\n",
       "    }\n",
       "\n",
       "    .dataframe tbody tr th {\n",
       "        vertical-align: top;\n",
       "    }\n",
       "\n",
       "    .dataframe thead th {\n",
       "        text-align: right;\n",
       "    }\n",
       "</style>\n",
       "<table border=\"1\" class=\"dataframe\">\n",
       "  <thead>\n",
       "    <tr style=\"text-align: right;\">\n",
       "      <th></th>\n",
       "      <th>NUM_ENQ</th>\n",
       "      <th>DIFF_DAY</th>\n",
       "      <th>NIVEAU_1</th>\n",
       "      <th>NIVEAU_2</th>\n",
       "      <th>NIVEAU_3</th>\n",
       "      <th>NIVEAU_4</th>\n",
       "      <th>NIVEAU_5</th>\n",
       "    </tr>\n",
       "  </thead>\n",
       "  <tbody>\n",
       "    <tr>\n",
       "      <th>0</th>\n",
       "      <td>G0-749</td>\n",
       "      <td>-1799.0</td>\n",
       "      <td>PHA_R</td>\n",
       "      <td>PHA_R06</td>\n",
       "      <td>PHA_R06A</td>\n",
       "      <td>PHA_R06AB</td>\n",
       "      <td>PHA_R06AB52</td>\n",
       "    </tr>\n",
       "    <tr>\n",
       "      <th>1</th>\n",
       "      <td>G0-749</td>\n",
       "      <td>-1799.0</td>\n",
       "      <td>PHA_D</td>\n",
       "      <td>PHA_D08</td>\n",
       "      <td>PHA_D08A</td>\n",
       "      <td>PHA_D08AC</td>\n",
       "      <td>PHA_D08AC52</td>\n",
       "    </tr>\n",
       "    <tr>\n",
       "      <th>2</th>\n",
       "      <td>G0-749</td>\n",
       "      <td>-1799.0</td>\n",
       "      <td>PHA_R</td>\n",
       "      <td>PHA_R06</td>\n",
       "      <td>PHA_R06A</td>\n",
       "      <td>PHA_R06AE</td>\n",
       "      <td>PHA_R06AE09</td>\n",
       "    </tr>\n",
       "    <tr>\n",
       "      <th>3</th>\n",
       "      <td>G0-749</td>\n",
       "      <td>-1799.0</td>\n",
       "      <td>PHA_D</td>\n",
       "      <td>PHA_D08</td>\n",
       "      <td>PHA_D08A</td>\n",
       "      <td>PHA_D08AC</td>\n",
       "      <td>PHA_D08AC52</td>\n",
       "    </tr>\n",
       "    <tr>\n",
       "      <th>4</th>\n",
       "      <td>G0-749</td>\n",
       "      <td>-1799.0</td>\n",
       "      <td>PHA_D</td>\n",
       "      <td>PHA_D07</td>\n",
       "      <td>PHA_D07A</td>\n",
       "      <td>PHA_D07AB</td>\n",
       "      <td>PHA_D07AB02</td>\n",
       "    </tr>\n",
       "    <tr>\n",
       "      <th>...</th>\n",
       "      <td>...</td>\n",
       "      <td>...</td>\n",
       "      <td>...</td>\n",
       "      <td>...</td>\n",
       "      <td>...</td>\n",
       "      <td>...</td>\n",
       "      <td>...</td>\n",
       "    </tr>\n",
       "    <tr>\n",
       "      <th>153978</th>\n",
       "      <td>G0-11578</td>\n",
       "      <td>-1594.0</td>\n",
       "      <td>PMSI_R00-R99</td>\n",
       "      <td>PMSI_R30-R39</td>\n",
       "      <td>PMSI_R33</td>\n",
       "      <td>PMSI_R33</td>\n",
       "      <td>PMSI_R33</td>\n",
       "    </tr>\n",
       "    <tr>\n",
       "      <th>153979</th>\n",
       "      <td>G0-2648</td>\n",
       "      <td>-429.0</td>\n",
       "      <td>PMSI_C00-D49</td>\n",
       "      <td>PMSI_C30-C39</td>\n",
       "      <td>PMSI_C34</td>\n",
       "      <td>PMSI_C348</td>\n",
       "      <td>PMSI_C348</td>\n",
       "    </tr>\n",
       "    <tr>\n",
       "      <th>153980</th>\n",
       "      <td>G0-4117</td>\n",
       "      <td>-651.0</td>\n",
       "      <td>PMSI_F00-F99</td>\n",
       "      <td>PMSI_F50-F59</td>\n",
       "      <td>PMSI_F51</td>\n",
       "      <td>PMSI_F511</td>\n",
       "      <td>PMSI_F511</td>\n",
       "    </tr>\n",
       "    <tr>\n",
       "      <th>153981</th>\n",
       "      <td>G0-1738</td>\n",
       "      <td>-639.0</td>\n",
       "      <td>PMSI_Z00-Z99</td>\n",
       "      <td>PMSI_Z40-Z54</td>\n",
       "      <td>PMSI_Z49</td>\n",
       "      <td>PMSI_Z491</td>\n",
       "      <td>PMSI_Z491</td>\n",
       "    </tr>\n",
       "    <tr>\n",
       "      <th>153982</th>\n",
       "      <td>G0-949</td>\n",
       "      <td>NaN</td>\n",
       "      <td>NaN</td>\n",
       "      <td>NaN</td>\n",
       "      <td>NaN</td>\n",
       "      <td>NaN</td>\n",
       "      <td>NaN</td>\n",
       "    </tr>\n",
       "  </tbody>\n",
       "</table>\n",
       "<p>468195 rows × 7 columns</p>\n",
       "</div>"
      ],
      "text/plain": [
       "         NUM_ENQ  DIFF_DAY      NIVEAU_1      NIVEAU_2  NIVEAU_3   NIVEAU_4  \\\n",
       "0         G0-749   -1799.0         PHA_R       PHA_R06  PHA_R06A  PHA_R06AB   \n",
       "1         G0-749   -1799.0         PHA_D       PHA_D08  PHA_D08A  PHA_D08AC   \n",
       "2         G0-749   -1799.0         PHA_R       PHA_R06  PHA_R06A  PHA_R06AE   \n",
       "3         G0-749   -1799.0         PHA_D       PHA_D08  PHA_D08A  PHA_D08AC   \n",
       "4         G0-749   -1799.0         PHA_D       PHA_D07  PHA_D07A  PHA_D07AB   \n",
       "...          ...       ...           ...           ...       ...        ...   \n",
       "153978  G0-11578   -1594.0  PMSI_R00-R99  PMSI_R30-R39  PMSI_R33   PMSI_R33   \n",
       "153979   G0-2648    -429.0  PMSI_C00-D49  PMSI_C30-C39  PMSI_C34  PMSI_C348   \n",
       "153980   G0-4117    -651.0  PMSI_F00-F99  PMSI_F50-F59  PMSI_F51  PMSI_F511   \n",
       "153981   G0-1738    -639.0  PMSI_Z00-Z99  PMSI_Z40-Z54  PMSI_Z49  PMSI_Z491   \n",
       "153982    G0-949       NaN           NaN           NaN       NaN        NaN   \n",
       "\n",
       "           NIVEAU_5  \n",
       "0       PHA_R06AB52  \n",
       "1       PHA_D08AC52  \n",
       "2       PHA_R06AE09  \n",
       "3       PHA_D08AC52  \n",
       "4       PHA_D07AB02  \n",
       "...             ...  \n",
       "153978     PMSI_R33  \n",
       "153979    PMSI_C348  \n",
       "153980    PMSI_F511  \n",
       "153981    PMSI_Z491  \n",
       "153982          NaN  \n",
       "\n",
       "[468195 rows x 7 columns]"
      ]
     },
     "execution_count": 14,
     "metadata": {},
     "output_type": "execute_result"
    }
   ],
   "source": [
    "bdtot"
   ]
  },
  {
   "cell_type": "code",
   "execution_count": 9,
   "id": "eafb7f7b-33bb-4aff-a259-ac5933195258",
   "metadata": {
    "tags": []
   },
   "outputs": [
    {
     "data": {
      "text/plain": [
       "0.0   -1824.0\n",
       "0.1   -1598.0\n",
       "0.2   -1379.0\n",
       "0.3   -1169.0\n",
       "0.4    -973.0\n",
       "0.5    -784.0\n",
       "0.6    -606.0\n",
       "0.7    -437.0\n",
       "0.8    -284.0\n",
       "0.9    -136.0\n",
       "1.0      -1.0\n",
       "Name: DIFF_DAY, dtype: float64"
      ]
     },
     "execution_count": 9,
     "metadata": {},
     "output_type": "execute_result"
    }
   ],
   "source": [
    "bdtot['DIFF_DAY'].quantile(q =[0,0.1,0.2,0.3,0.4,0.5,0.6,0.7,0.8,0.9,1]) #On détermine les déciles pour créer des catégories"
   ]
  },
  {
   "cell_type": "markdown",
   "id": "979ad683-7d6d-4ad6-abef-55db757a7409",
   "metadata": {},
   "source": [
    "Nous allons donc créer des catégories à partir de ces valeurs."
   ]
  },
  {
   "cell_type": "code",
   "execution_count": 40,
   "id": "12ca13ee-9005-48d7-a264-53fe5b729f1c",
   "metadata": {
    "tags": []
   },
   "outputs": [],
   "source": [
    "bdtot_c = bdtot.copy() #On conserve une copie"
   ]
  },
  {
   "cell_type": "code",
   "execution_count": 41,
   "id": "adec3ac7-6b50-4637-9a23-07ab6f035336",
   "metadata": {
    "tags": []
   },
   "outputs": [],
   "source": [
    "bdtot_c['DIFF_DAY'] = pd.cut(bdtot_c['DIFF_DAY'], 10)"
   ]
  },
  {
   "cell_type": "code",
   "execution_count": 46,
   "id": "cb98a786-f883-4727-8acb-f047d6f75c38",
   "metadata": {
    "tags": []
   },
   "outputs": [
    {
     "data": {
      "text/plain": [
       "[Interval(-365.6, -183.3, closed='right'),\n",
       " Interval(-1641.7, -1459.4, closed='right'),\n",
       " Interval(-547.9, -365.6, closed='right'),\n",
       " Interval(-183.3, -1.0, closed='right'),\n",
       " Interval(-1094.8, -912.5, closed='right'),\n",
       " Interval(-912.5, -730.2, closed='right'),\n",
       " Interval(-1825.823, -1641.7, closed='right'),\n",
       " Interval(-1277.1, -1094.8, closed='right'),\n",
       " Interval(-730.2, -547.9, closed='right'),\n",
       " Interval(-1459.4, -1277.1, closed='right')]"
      ]
     },
     "execution_count": 46,
     "metadata": {},
     "output_type": "execute_result"
    }
   ],
   "source": [
    "bdtot_c.dtypes\n",
    "\n",
    "liste"
   ]
  },
  {
   "cell_type": "code",
   "execution_count": 47,
   "id": "a60b314a-34e7-4602-a34d-e74c4a17d075",
   "metadata": {
    "tags": []
   },
   "outputs": [
    {
     "data": {
      "text/html": [
       "<div>\n",
       "<style scoped>\n",
       "    .dataframe tbody tr th:only-of-type {\n",
       "        vertical-align: middle;\n",
       "    }\n",
       "\n",
       "    .dataframe tbody tr th {\n",
       "        vertical-align: top;\n",
       "    }\n",
       "\n",
       "    .dataframe thead th {\n",
       "        text-align: right;\n",
       "    }\n",
       "</style>\n",
       "<table border=\"1\" class=\"dataframe\">\n",
       "  <thead>\n",
       "    <tr style=\"text-align: right;\">\n",
       "      <th></th>\n",
       "      <th>TPS</th>\n",
       "      <th>NB_SOIN</th>\n",
       "    </tr>\n",
       "  </thead>\n",
       "  <tbody>\n",
       "    <tr>\n",
       "      <th>0</th>\n",
       "      <td>0</td>\n",
       "      <td>0</td>\n",
       "    </tr>\n",
       "    <tr>\n",
       "      <th>0</th>\n",
       "      <td>(-365.6, -183.3]</td>\n",
       "      <td>111825</td>\n",
       "    </tr>\n",
       "    <tr>\n",
       "      <th>0</th>\n",
       "      <td>(-1641.7, -1459.4]</td>\n",
       "      <td>74602</td>\n",
       "    </tr>\n",
       "    <tr>\n",
       "      <th>0</th>\n",
       "      <td>(-547.9, -365.6]</td>\n",
       "      <td>99804</td>\n",
       "    </tr>\n",
       "    <tr>\n",
       "      <th>0</th>\n",
       "      <td>(-183.3, -1.0]</td>\n",
       "      <td>119825</td>\n",
       "    </tr>\n",
       "    <tr>\n",
       "      <th>0</th>\n",
       "      <td>(-1094.8, -912.5]</td>\n",
       "      <td>85375</td>\n",
       "    </tr>\n",
       "    <tr>\n",
       "      <th>0</th>\n",
       "      <td>(-912.5, -730.2]</td>\n",
       "      <td>88814</td>\n",
       "    </tr>\n",
       "    <tr>\n",
       "      <th>0</th>\n",
       "      <td>(-1825.823, -1641.7]</td>\n",
       "      <td>72994</td>\n",
       "    </tr>\n",
       "    <tr>\n",
       "      <th>0</th>\n",
       "      <td>(-1277.1, -1094.8]</td>\n",
       "      <td>82162</td>\n",
       "    </tr>\n",
       "    <tr>\n",
       "      <th>0</th>\n",
       "      <td>(-730.2, -547.9]</td>\n",
       "      <td>95525</td>\n",
       "    </tr>\n",
       "    <tr>\n",
       "      <th>0</th>\n",
       "      <td>(-1459.4, -1277.1]</td>\n",
       "      <td>76887</td>\n",
       "    </tr>\n",
       "  </tbody>\n",
       "</table>\n",
       "</div>"
      ],
      "text/plain": [
       "                    TPS NB_SOIN\n",
       "0                     0       0\n",
       "0      (-365.6, -183.3]  111825\n",
       "0    (-1641.7, -1459.4]   74602\n",
       "0      (-547.9, -365.6]   99804\n",
       "0        (-183.3, -1.0]  119825\n",
       "0     (-1094.8, -912.5]   85375\n",
       "0      (-912.5, -730.2]   88814\n",
       "0  (-1825.823, -1641.7]   72994\n",
       "0    (-1277.1, -1094.8]   82162\n",
       "0      (-730.2, -547.9]   95525\n",
       "0    (-1459.4, -1277.1]   76887"
      ]
     },
     "execution_count": 47,
     "metadata": {},
     "output_type": "execute_result"
    }
   ],
   "source": [
    "ar = np.array([0, 0]) #Première ligne arbitraire\n",
    "Nb_Soins = pd.DataFrame(ar) #Conversion de la matrice en DataFrame\n",
    "Nb_Soins = Nb_Soins.transpose()\n",
    "Nb_Soins.columns = ['TPS', 'NB_SOIN'] #On nomme les colonnes'''\n",
    "liste = list(set(list(bdtot_c['DIFF_DAY'])))\n",
    "\n",
    "\n",
    " \n",
    "#On va maintenant chercher à associer à chaque enquêté le nombre de soin reçu.\n",
    "#Calcul des soins par personnes et création d'une dataframe qui associe au numéro le nombre de soin\n",
    "for elem in liste:\n",
    "    c = 0 #Ce sera notre compteur d'itération\n",
    "    for val in bdtot_c['DIFF_DAY']:\n",
    "        if elem==val:\n",
    "            c = c+1\n",
    "    ar_temp = np.array([elem, c])\n",
    "    df_temp = pd.DataFrame(ar_temp)\n",
    "    df_temp = df_temp.transpose()\n",
    "    df_temp.columns = ['TPS', 'NB_SOIN']\n",
    "    Nb_Soins = pd.concat([Nb_Soins, df_temp])\n",
    "\n",
    "Nb_Soins"
   ]
  },
  {
   "cell_type": "code",
   "execution_count": 70,
   "id": "f1725020-e746-4e86-a17a-f020fb84d014",
   "metadata": {
    "tags": []
   },
   "outputs": [],
   "source": [
    "Nb_Soins_c = Nb_Soins.copy()\n",
    "Nb_Soins_c = Nb_Soins_c[Nb_Soins_c['TPS']!=0] "
   ]
  },
  {
   "cell_type": "code",
   "execution_count": 71,
   "id": "c5c57b10-2153-4542-8f99-11ae6a8c384d",
   "metadata": {
    "tags": []
   },
   "outputs": [
    {
     "data": {
      "text/plain": [
       "TPS        object\n",
       "NB_SOIN    object\n",
       "dtype: object"
      ]
     },
     "execution_count": 71,
     "metadata": {},
     "output_type": "execute_result"
    }
   ],
   "source": [
    "Nb_Soins_c.dtypes"
   ]
  },
  {
   "cell_type": "code",
   "execution_count": 75,
   "id": "1866914a-70fb-4d1b-b321-66725f677427",
   "metadata": {
    "tags": []
   },
   "outputs": [],
   "source": [
    "Nb_Soins_c['NB_SOIN']=Nb_Soins_c['NB_SOIN'].astype(np.float64)"
   ]
  },
  {
   "cell_type": "code",
   "execution_count": 73,
   "id": "f245bc1d-2c01-4c3e-bea9-c1e2ff3ebe91",
   "metadata": {
    "tags": []
   },
   "outputs": [],
   "source": []
  },
  {
   "cell_type": "code",
   "execution_count": 76,
   "id": "2253ea09-c2de-48f4-bc4f-6cc1c5cd8e52",
   "metadata": {
    "tags": []
   },
   "outputs": [
    {
     "ename": "KeyError",
     "evalue": "\"None of [Index([((-365.6, -183.3], (-1641.7, -1459.4], (-547.9, -365.6], (-183.3, -1.0], (-1094.8, -912.5], (-912.5, -730.2], (-1825.823, -1641.7], (-1277.1, -1094.8], (-730.2, -547.9], (-1459.4, -1277.1])], dtype='object')] are in the [columns]\"",
     "output_type": "error",
     "traceback": [
      "\u001b[0;31m---------------------------------------------------------------------------\u001b[0m",
      "\u001b[0;31mKeyError\u001b[0m                                  Traceback (most recent call last)",
      "Cell \u001b[0;32mIn[76], line 1\u001b[0m\n\u001b[0;32m----> 1\u001b[0m \u001b[43mNb_Soins_c\u001b[49m\u001b[38;5;241;43m.\u001b[39;49m\u001b[43mhist\u001b[49m\u001b[43m(\u001b[49m\u001b[43mNb_Soins_c\u001b[49m\u001b[43m[\u001b[49m\u001b[38;5;124;43m'\u001b[39;49m\u001b[38;5;124;43mTPS\u001b[39;49m\u001b[38;5;124;43m'\u001b[39;49m\u001b[43m]\u001b[49m\u001b[43m)\u001b[49m\n",
      "File \u001b[0;32m/opt/mamba/lib/python3.10/site-packages/pandas/plotting/_core.py:231\u001b[0m, in \u001b[0;36mhist_frame\u001b[0;34m(data, column, by, grid, xlabelsize, xrot, ylabelsize, yrot, ax, sharex, sharey, figsize, layout, bins, backend, legend, **kwargs)\u001b[0m\n\u001b[1;32m    140\u001b[0m \u001b[38;5;250m\u001b[39m\u001b[38;5;124;03m\"\"\"\u001b[39;00m\n\u001b[1;32m    141\u001b[0m \u001b[38;5;124;03mMake a histogram of the DataFrame's columns.\u001b[39;00m\n\u001b[1;32m    142\u001b[0m \n\u001b[0;32m   (...)\u001b[0m\n\u001b[1;32m    228\u001b[0m \u001b[38;5;124;03m    >>> hist = df.hist(bins=3)\u001b[39;00m\n\u001b[1;32m    229\u001b[0m \u001b[38;5;124;03m\"\"\"\u001b[39;00m\n\u001b[1;32m    230\u001b[0m plot_backend \u001b[38;5;241m=\u001b[39m _get_plot_backend(backend)\n\u001b[0;32m--> 231\u001b[0m \u001b[38;5;28;01mreturn\u001b[39;00m \u001b[43mplot_backend\u001b[49m\u001b[38;5;241;43m.\u001b[39;49m\u001b[43mhist_frame\u001b[49m\u001b[43m(\u001b[49m\n\u001b[1;32m    232\u001b[0m \u001b[43m    \u001b[49m\u001b[43mdata\u001b[49m\u001b[43m,\u001b[49m\n\u001b[1;32m    233\u001b[0m \u001b[43m    \u001b[49m\u001b[43mcolumn\u001b[49m\u001b[38;5;241;43m=\u001b[39;49m\u001b[43mcolumn\u001b[49m\u001b[43m,\u001b[49m\n\u001b[1;32m    234\u001b[0m \u001b[43m    \u001b[49m\u001b[43mby\u001b[49m\u001b[38;5;241;43m=\u001b[39;49m\u001b[43mby\u001b[49m\u001b[43m,\u001b[49m\n\u001b[1;32m    235\u001b[0m \u001b[43m    \u001b[49m\u001b[43mgrid\u001b[49m\u001b[38;5;241;43m=\u001b[39;49m\u001b[43mgrid\u001b[49m\u001b[43m,\u001b[49m\n\u001b[1;32m    236\u001b[0m \u001b[43m    \u001b[49m\u001b[43mxlabelsize\u001b[49m\u001b[38;5;241;43m=\u001b[39;49m\u001b[43mxlabelsize\u001b[49m\u001b[43m,\u001b[49m\n\u001b[1;32m    237\u001b[0m \u001b[43m    \u001b[49m\u001b[43mxrot\u001b[49m\u001b[38;5;241;43m=\u001b[39;49m\u001b[43mxrot\u001b[49m\u001b[43m,\u001b[49m\n\u001b[1;32m    238\u001b[0m \u001b[43m    \u001b[49m\u001b[43mylabelsize\u001b[49m\u001b[38;5;241;43m=\u001b[39;49m\u001b[43mylabelsize\u001b[49m\u001b[43m,\u001b[49m\n\u001b[1;32m    239\u001b[0m \u001b[43m    \u001b[49m\u001b[43myrot\u001b[49m\u001b[38;5;241;43m=\u001b[39;49m\u001b[43myrot\u001b[49m\u001b[43m,\u001b[49m\n\u001b[1;32m    240\u001b[0m \u001b[43m    \u001b[49m\u001b[43max\u001b[49m\u001b[38;5;241;43m=\u001b[39;49m\u001b[43max\u001b[49m\u001b[43m,\u001b[49m\n\u001b[1;32m    241\u001b[0m \u001b[43m    \u001b[49m\u001b[43msharex\u001b[49m\u001b[38;5;241;43m=\u001b[39;49m\u001b[43msharex\u001b[49m\u001b[43m,\u001b[49m\n\u001b[1;32m    242\u001b[0m \u001b[43m    \u001b[49m\u001b[43msharey\u001b[49m\u001b[38;5;241;43m=\u001b[39;49m\u001b[43msharey\u001b[49m\u001b[43m,\u001b[49m\n\u001b[1;32m    243\u001b[0m \u001b[43m    \u001b[49m\u001b[43mfigsize\u001b[49m\u001b[38;5;241;43m=\u001b[39;49m\u001b[43mfigsize\u001b[49m\u001b[43m,\u001b[49m\n\u001b[1;32m    244\u001b[0m \u001b[43m    \u001b[49m\u001b[43mlayout\u001b[49m\u001b[38;5;241;43m=\u001b[39;49m\u001b[43mlayout\u001b[49m\u001b[43m,\u001b[49m\n\u001b[1;32m    245\u001b[0m \u001b[43m    \u001b[49m\u001b[43mlegend\u001b[49m\u001b[38;5;241;43m=\u001b[39;49m\u001b[43mlegend\u001b[49m\u001b[43m,\u001b[49m\n\u001b[1;32m    246\u001b[0m \u001b[43m    \u001b[49m\u001b[43mbins\u001b[49m\u001b[38;5;241;43m=\u001b[39;49m\u001b[43mbins\u001b[49m\u001b[43m,\u001b[49m\n\u001b[1;32m    247\u001b[0m \u001b[43m    \u001b[49m\u001b[38;5;241;43m*\u001b[39;49m\u001b[38;5;241;43m*\u001b[39;49m\u001b[43mkwargs\u001b[49m\u001b[43m,\u001b[49m\n\u001b[1;32m    248\u001b[0m \u001b[43m\u001b[49m\u001b[43m)\u001b[49m\n",
      "File \u001b[0;32m/opt/mamba/lib/python3.10/site-packages/pandas/plotting/_matplotlib/hist.py:491\u001b[0m, in \u001b[0;36mhist_frame\u001b[0;34m(data, column, by, grid, xlabelsize, xrot, ylabelsize, yrot, ax, sharex, sharey, figsize, layout, bins, legend, **kwds)\u001b[0m\n\u001b[1;32m    489\u001b[0m     \u001b[38;5;28;01mif\u001b[39;00m \u001b[38;5;129;01mnot\u001b[39;00m \u001b[38;5;28misinstance\u001b[39m(column, (\u001b[38;5;28mlist\u001b[39m, np\u001b[38;5;241m.\u001b[39mndarray, ABCIndex)):\n\u001b[1;32m    490\u001b[0m         column \u001b[38;5;241m=\u001b[39m [column]\n\u001b[0;32m--> 491\u001b[0m     data \u001b[38;5;241m=\u001b[39m \u001b[43mdata\u001b[49m\u001b[43m[\u001b[49m\u001b[43mcolumn\u001b[49m\u001b[43m]\u001b[49m\n\u001b[1;32m    492\u001b[0m \u001b[38;5;66;03m# GH32590\u001b[39;00m\n\u001b[1;32m    493\u001b[0m data \u001b[38;5;241m=\u001b[39m data\u001b[38;5;241m.\u001b[39mselect_dtypes(\n\u001b[1;32m    494\u001b[0m     include\u001b[38;5;241m=\u001b[39m(np\u001b[38;5;241m.\u001b[39mnumber, \u001b[38;5;124m\"\u001b[39m\u001b[38;5;124mdatetime64\u001b[39m\u001b[38;5;124m\"\u001b[39m, \u001b[38;5;124m\"\u001b[39m\u001b[38;5;124mdatetimetz\u001b[39m\u001b[38;5;124m\"\u001b[39m), exclude\u001b[38;5;241m=\u001b[39m\u001b[38;5;124m\"\u001b[39m\u001b[38;5;124mtimedelta\u001b[39m\u001b[38;5;124m\"\u001b[39m\n\u001b[1;32m    495\u001b[0m )\n",
      "File \u001b[0;32m/opt/mamba/lib/python3.10/site-packages/pandas/core/frame.py:3813\u001b[0m, in \u001b[0;36mDataFrame.__getitem__\u001b[0;34m(self, key)\u001b[0m\n\u001b[1;32m   3811\u001b[0m     \u001b[38;5;28;01mif\u001b[39;00m is_iterator(key):\n\u001b[1;32m   3812\u001b[0m         key \u001b[38;5;241m=\u001b[39m \u001b[38;5;28mlist\u001b[39m(key)\n\u001b[0;32m-> 3813\u001b[0m     indexer \u001b[38;5;241m=\u001b[39m \u001b[38;5;28;43mself\u001b[39;49m\u001b[38;5;241;43m.\u001b[39;49m\u001b[43mcolumns\u001b[49m\u001b[38;5;241;43m.\u001b[39;49m\u001b[43m_get_indexer_strict\u001b[49m\u001b[43m(\u001b[49m\u001b[43mkey\u001b[49m\u001b[43m,\u001b[49m\u001b[43m \u001b[49m\u001b[38;5;124;43m\"\u001b[39;49m\u001b[38;5;124;43mcolumns\u001b[39;49m\u001b[38;5;124;43m\"\u001b[39;49m\u001b[43m)\u001b[49m[\u001b[38;5;241m1\u001b[39m]\n\u001b[1;32m   3815\u001b[0m \u001b[38;5;66;03m# take() does not accept boolean indexers\u001b[39;00m\n\u001b[1;32m   3816\u001b[0m \u001b[38;5;28;01mif\u001b[39;00m \u001b[38;5;28mgetattr\u001b[39m(indexer, \u001b[38;5;124m\"\u001b[39m\u001b[38;5;124mdtype\u001b[39m\u001b[38;5;124m\"\u001b[39m, \u001b[38;5;28;01mNone\u001b[39;00m) \u001b[38;5;241m==\u001b[39m \u001b[38;5;28mbool\u001b[39m:\n",
      "File \u001b[0;32m/opt/mamba/lib/python3.10/site-packages/pandas/core/indexes/base.py:6070\u001b[0m, in \u001b[0;36mIndex._get_indexer_strict\u001b[0;34m(self, key, axis_name)\u001b[0m\n\u001b[1;32m   6067\u001b[0m \u001b[38;5;28;01melse\u001b[39;00m:\n\u001b[1;32m   6068\u001b[0m     keyarr, indexer, new_indexer \u001b[38;5;241m=\u001b[39m \u001b[38;5;28mself\u001b[39m\u001b[38;5;241m.\u001b[39m_reindex_non_unique(keyarr)\n\u001b[0;32m-> 6070\u001b[0m \u001b[38;5;28;43mself\u001b[39;49m\u001b[38;5;241;43m.\u001b[39;49m\u001b[43m_raise_if_missing\u001b[49m\u001b[43m(\u001b[49m\u001b[43mkeyarr\u001b[49m\u001b[43m,\u001b[49m\u001b[43m \u001b[49m\u001b[43mindexer\u001b[49m\u001b[43m,\u001b[49m\u001b[43m \u001b[49m\u001b[43maxis_name\u001b[49m\u001b[43m)\u001b[49m\n\u001b[1;32m   6072\u001b[0m keyarr \u001b[38;5;241m=\u001b[39m \u001b[38;5;28mself\u001b[39m\u001b[38;5;241m.\u001b[39mtake(indexer)\n\u001b[1;32m   6073\u001b[0m \u001b[38;5;28;01mif\u001b[39;00m \u001b[38;5;28misinstance\u001b[39m(key, Index):\n\u001b[1;32m   6074\u001b[0m     \u001b[38;5;66;03m# GH 42790 - Preserve name from an Index\u001b[39;00m\n",
      "File \u001b[0;32m/opt/mamba/lib/python3.10/site-packages/pandas/core/indexes/base.py:6130\u001b[0m, in \u001b[0;36mIndex._raise_if_missing\u001b[0;34m(self, key, indexer, axis_name)\u001b[0m\n\u001b[1;32m   6128\u001b[0m     \u001b[38;5;28;01mif\u001b[39;00m use_interval_msg:\n\u001b[1;32m   6129\u001b[0m         key \u001b[38;5;241m=\u001b[39m \u001b[38;5;28mlist\u001b[39m(key)\n\u001b[0;32m-> 6130\u001b[0m     \u001b[38;5;28;01mraise\u001b[39;00m \u001b[38;5;167;01mKeyError\u001b[39;00m(\u001b[38;5;124mf\u001b[39m\u001b[38;5;124m\"\u001b[39m\u001b[38;5;124mNone of [\u001b[39m\u001b[38;5;132;01m{\u001b[39;00mkey\u001b[38;5;132;01m}\u001b[39;00m\u001b[38;5;124m] are in the [\u001b[39m\u001b[38;5;132;01m{\u001b[39;00maxis_name\u001b[38;5;132;01m}\u001b[39;00m\u001b[38;5;124m]\u001b[39m\u001b[38;5;124m\"\u001b[39m)\n\u001b[1;32m   6132\u001b[0m not_found \u001b[38;5;241m=\u001b[39m \u001b[38;5;28mlist\u001b[39m(ensure_index(key)[missing_mask\u001b[38;5;241m.\u001b[39mnonzero()[\u001b[38;5;241m0\u001b[39m]]\u001b[38;5;241m.\u001b[39munique())\n\u001b[1;32m   6133\u001b[0m \u001b[38;5;28;01mraise\u001b[39;00m \u001b[38;5;167;01mKeyError\u001b[39;00m(\u001b[38;5;124mf\u001b[39m\u001b[38;5;124m\"\u001b[39m\u001b[38;5;132;01m{\u001b[39;00mnot_found\u001b[38;5;132;01m}\u001b[39;00m\u001b[38;5;124m not in index\u001b[39m\u001b[38;5;124m\"\u001b[39m)\n",
      "\u001b[0;31mKeyError\u001b[0m: \"None of [Index([((-365.6, -183.3], (-1641.7, -1459.4], (-547.9, -365.6], (-183.3, -1.0], (-1094.8, -912.5], (-912.5, -730.2], (-1825.823, -1641.7], (-1277.1, -1094.8], (-730.2, -547.9], (-1459.4, -1277.1])], dtype='object')] are in the [columns]\""
     ]
    }
   ],
   "source": [
    "Nb_Soins_c.hist(Nb_Soins_c['TPS'])"
   ]
  },
  {
   "cell_type": "code",
   "execution_count": null,
   "id": "c4773dde-b7ba-4e8d-82cf-8a006a654379",
   "metadata": {},
   "outputs": [],
   "source": []
  }
 ],
 "metadata": {
  "kernelspec": {
   "display_name": "Python 3 (ipykernel)",
   "language": "python",
   "name": "python3"
  },
  "language_info": {
   "codemirror_mode": {
    "name": "ipython",
    "version": 3
   },
   "file_extension": ".py",
   "mimetype": "text/x-python",
   "name": "python",
   "nbconvert_exporter": "python",
   "pygments_lexer": "ipython3",
   "version": "3.10.8"
  }
 },
 "nbformat": 4,
 "nbformat_minor": 5
}
