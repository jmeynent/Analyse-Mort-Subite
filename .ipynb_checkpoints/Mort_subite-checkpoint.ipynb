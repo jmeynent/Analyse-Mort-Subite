{
 "cells": [
  {
   "cell_type": "markdown",
   "id": "adea2d63-1cec-4336-8cba-27ff258b4549",
   "metadata": {
    "tags": []
   },
   "source": [
    "# Mort Subite"
   ]
  },
  {
   "cell_type": "markdown",
   "id": "a17c4a65-9cee-4af6-8ec2-b2c74933fe85",
   "metadata": {
    "tags": []
   },
   "source": [
    "## I. Mise en forme de la base de données et chargement des packages"
   ]
  },
  {
   "cell_type": "code",
   "execution_count": null,
   "id": "6d42367e-9f5d-4332-ab7f-02ee1ec24755",
   "metadata": {
    "tags": []
   },
   "outputs": [],
   "source": [
    "!pip install tslearn\n",
    "!pip install h5py\n",
    "!pip install kneed"
   ]
  },
  {
   "cell_type": "code",
   "execution_count": null,
   "id": "7e5c03a1-ee17-48fe-9f97-2d071492e078",
   "metadata": {
    "tags": []
   },
   "outputs": [],
   "source": [
    "import pandas as pd\n",
    "import numpy as np\n",
    "import matplotlib.pyplot as plt\n",
    "from tslearn.metrics import dtw\n",
    "from tslearn.clustering import TimeSeriesKMeans"
   ]
  },
  {
   "cell_type": "markdown",
   "id": "56afe656-080e-4cfd-a6ed-3af3455c71f2",
   "metadata": {
    "tags": []
   },
   "source": [
    "Nous allons étudier la mort subite.\n",
    "\n",
    "\n",
    "D'abord, importons nos packages et ouvrons les bases de données"
   ]
  },
  {
   "cell_type": "code",
   "execution_count": null,
   "id": "173f6d6c-f6e9-47a2-96b1-fd893642b19f",
   "metadata": {
    "tags": []
   },
   "outputs": [],
   "source": [
    "Table_Pop = pd.read_csv('MSTP.csv', sep = ';') #Je réimporte à chaque fois en local la base de données. Je ne stocke pas sur Git car données sensibles \n",
    "bd0 = pd.read_csv('MS_BD0.csv', sep = ';', parse_dates=[1])\n",
    "bd1 = pd.read_csv('MS_BD1.csv', sep = ';', parse_dates=[1])\n",
    "bd2 = pd.read_csv('MS_BD2.csv', sep = ';', parse_dates=[1])"
   ]
  },
  {
   "cell_type": "markdown",
   "id": "ca584fdd-a569-494c-869d-981fbd69df01",
   "metadata": {},
   "source": [
    "Je vais concaténer les traitements. "
   ]
  },
  {
   "cell_type": "code",
   "execution_count": null,
   "id": "51afaaae-4a78-4897-929c-044410588938",
   "metadata": {
    "tags": []
   },
   "outputs": [],
   "source": [
    "bdtot = pd.concat([bd0, bd1, bd2])"
   ]
  },
  {
   "cell_type": "markdown",
   "id": "e37e9022-c372-4d3f-867f-4ec5f56011bb",
   "metadata": {},
   "source": [
    "On va établir une liste des enquêtés pour pouvoir compter leurs soins à l'avenir"
   ]
  },
  {
   "cell_type": "code",
   "execution_count": 85,
   "id": "3d9a3218-87d8-43dd-97ee-f770091586e9",
   "metadata": {
    "tags": []
   },
   "outputs": [],
   "source": [
    "list_enq = [] #On crée une liste vide\n",
    "for elem in Table_Pop['NUM_ENQ']:\n",
    "    list_enq.append(str(elem))#On ajoute chaque numéro d'enquêté, présent une seule fois sur la table de population"
   ]
  },
  {
   "cell_type": "markdown",
   "id": "2e436a40-8c0a-41a7-b00f-3b7560622f77",
   "metadata": {},
   "source": [
    "Maintenant, on va chercher à compter combien d'actes de soins ont été reçus par enquêtés. Pour ce faire, nous allons compter les occurences de chaque éléments de la liste dans la base de données totale. On va les implémenter dans la Table Pop ensuite. "
   ]
  },
  {
   "cell_type": "code",
   "execution_count": null,
   "id": "a841a919-d1a1-4c8e-8ab1-044fbacffa36",
   "metadata": {
    "tags": []
   },
   "outputs": [],
   "source": [
    "#Création d'un début de dataframe pour remplir boucle\n",
    "ar = np.array([0, 0]) #Première ligne arbitraire\n",
    "Nb_Soins = pd.DataFrame(ar) #Conversion de la matrice en DataFrame\n",
    "Nb_Soins = Nb_Soins.transpose()\n",
    "Nb_Soins.columns = ['NUM_ENQ', 'NB_SOIN'] #On nomme les colonnes'''\n",
    " \n",
    "#On va maintenant chercher à associer à chaque enquêté le nombre de soin reçu.\n",
    "#Calcul des soins par personnes et création d'une dataframe qui associe au numéro le nombre de soin\n",
    "for elem in list_enq:\n",
    "    c = 0 #Ce sera notre compteur d'itération\n",
    "    for val in bdtot['NUM_ENQ']:\n",
    "        if elem==val:\n",
    "            c = c+1\n",
    "    ar_temp = np.array([elem, c])\n",
    "    df_temp = pd.DataFrame(ar_temp)\n",
    "    df_temp = df_temp.transpose()\n",
    "    df_temp.columns = ['NUM_ENQ', 'NB_SOIN']\n",
    "    Nb_Soins = pd.concat([Nb_Soins, df_temp])\n",
    "\n",
    "Nb_Soins"
   ]
  },
  {
   "cell_type": "code",
   "execution_count": null,
   "id": "4ade2cce-544c-4489-ae05-2c09e94a3076",
   "metadata": {
    "tags": []
   },
   "outputs": [],
   "source": [
    "#on retire la ligne 0 \n",
    "Nb_Soins_c = Nb_Soins.copy()\n",
    "Nb_Soins_c = Nb_Soins_c[Nb_Soins_c['NUM_ENQ']!=0] "
   ]
  },
  {
   "cell_type": "code",
   "execution_count": null,
   "id": "3f5677c9-67d7-4def-a07e-ceb0c8e189a6",
   "metadata": {
    "tags": []
   },
   "outputs": [],
   "source": [
    "Table_Pop"
   ]
  },
  {
   "cell_type": "code",
   "execution_count": null,
   "id": "2a7a1d1f-5122-4456-a7b5-86798b189cb9",
   "metadata": {
    "tags": []
   },
   "outputs": [],
   "source": [
    "#L'opération ci-dessus étant très longue, on va exporter Nb_Soin pour pas avoir à refaire cette étape. On mettra sur drive la base de données\n",
    "#Nb_Soins_c.to_excel('Nb_Soins.xlsx')\n",
    "\n",
    "Nb_Soins_c.to_csv('Nb_Soins.csv')\n",
    "\n",
    "#Ouvrir la nouvelle dataframe après ré-importation locale \n",
    "#Nb_Soins = pd.read_excel('Nb_Soins.xlsx')"
   ]
  },
  {
   "cell_type": "code",
   "execution_count": null,
   "id": "b37d31a9-c381-4bb3-bdb4-669900ef053f",
   "metadata": {
    "tags": []
   },
   "outputs": [],
   "source": [
    "#On va joindre la base des soins avec la Table_Pop\n",
    "Table_Pop = Table_Pop.merge(Nb_Soins_c, on='NUM_ENQ')\n"
   ]
  },
  {
   "cell_type": "code",
   "execution_count": null,
   "id": "b54fe8e5-5ab8-4635-8891-ac809f9574ad",
   "metadata": {
    "tags": []
   },
   "outputs": [],
   "source": [
    "Table_Pop['NB_SOIN'] =  Table_Pop['NB_SOIN'].astype(float)"
   ]
  },
  {
   "cell_type": "markdown",
   "id": "7c226846-64f0-4e29-905c-f6078f30eb5f",
   "metadata": {
    "tags": []
   },
   "source": [
    "## II. Statistiques descriptives\n",
    "\n",
    "Ainsi, on peut commencer à effectuer quelques statistiques descriptives"
   ]
  },
  {
   "cell_type": "code",
   "execution_count": null,
   "id": "6779d4d9-7409-4c02-8f39-925fad9f9dac",
   "metadata": {
    "tags": []
   },
   "outputs": [],
   "source": [
    "Table_Pop.describe()"
   ]
  },
  {
   "cell_type": "markdown",
   "id": "bc18255a-62d1-4745-a4e9-39d6a8171ee9",
   "metadata": {},
   "source": [
    "On peut essayer de comparer avec des variables socio-démographiques. Par exemple, on pourrait penser que les hommes se rendent moins chez le médecin, et donc subissent moins d'actes médicaux, ou sont éventuellement sur-représentés faute de traitement de signe avant coureur. (Pb : Je sais pas si 1 correspond à homme ou femme donc je ne pourrai pas livrer une interprétation de suite)\n",
    "\n",
    "Autres idées que j'ai pas codé :\n",
    "- Régression linéraire entre nbr soin et décès\n",
    "- Lien entre présence de témoins/décès/fait d'être transporté vivant"
   ]
  },
  {
   "cell_type": "code",
   "execution_count": null,
   "id": "fdabcfa1-9e9c-479c-938b-1b6c85771a52",
   "metadata": {
    "tags": []
   },
   "outputs": [],
   "source": [
    "#Pour décrire les variables quanti\n",
    "Table_Pop_red = Table_Pop.drop(['mean_AGE', 'SEXE', 'CMU', 'AME', 'DECES', 'TYPE_LIEU', 'TEMOIN', 'RCP_TEMOIN', 'ADMIS_VIVANT_HOPITAL', 'RYTHME_CHOQUABLE', 'CORO', 'ANN_EVT', 'TYPE_ASSURANCE'], axis=1)\n",
    "# on enlève les variables binaires\n",
    "sns.pairplot(Table_Pop_red, kind = \"scatter\")\n",
    "plt.show()"
   ]
  },
  {
   "cell_type": "code",
   "execution_count": 84,
   "id": "7813ed2a-92a5-4f45-b5b6-58a5754b36ec",
   "metadata": {
    "tags": []
   },
   "outputs": [
    {
     "data": {
      "text/html": [
       "<div>\n",
       "<style scoped>\n",
       "    .dataframe tbody tr th:only-of-type {\n",
       "        vertical-align: middle;\n",
       "    }\n",
       "\n",
       "    .dataframe tbody tr th {\n",
       "        vertical-align: top;\n",
       "    }\n",
       "\n",
       "    .dataframe thead th {\n",
       "        text-align: right;\n",
       "    }\n",
       "</style>\n",
       "<table border=\"1\" class=\"dataframe\">\n",
       "  <thead>\n",
       "    <tr style=\"text-align: right;\">\n",
       "      <th></th>\n",
       "      <th>NUM_ENQ</th>\n",
       "      <th>GROUPE</th>\n",
       "      <th>ID_MATCHING</th>\n",
       "      <th>ANTERIORITE_DISPONIBLE</th>\n",
       "      <th>DTD_EVT</th>\n",
       "      <th>SEXE</th>\n",
       "      <th>CMU</th>\n",
       "      <th>AME</th>\n",
       "      <th>DECES</th>\n",
       "      <th>DTD_DCD</th>\n",
       "      <th>...</th>\n",
       "      <th>TEMOIN</th>\n",
       "      <th>RCP_TEMOIN</th>\n",
       "      <th>ADMIS_VIVANT_HOPITAL</th>\n",
       "      <th>RYTHME_CHOQUABLE</th>\n",
       "      <th>CORO</th>\n",
       "      <th>ANN_EVT</th>\n",
       "      <th>TYPE_ASSURANCE</th>\n",
       "      <th>NB_SOIN</th>\n",
       "      <th>AGE_CAT</th>\n",
       "      <th>mean_AGE</th>\n",
       "    </tr>\n",
       "  </thead>\n",
       "  <tbody>\n",
       "    <tr>\n",
       "      <th>0</th>\n",
       "      <td>G0-9994</td>\n",
       "      <td>mort_subite</td>\n",
       "      <td>G0-&lt;NA&gt;</td>\n",
       "      <td>2956.0</td>\n",
       "      <td>2014-02-04</td>\n",
       "      <td>1.0</td>\n",
       "      <td>0.0</td>\n",
       "      <td>0.0</td>\n",
       "      <td>1.0</td>\n",
       "      <td>NaN</td>\n",
       "      <td>...</td>\n",
       "      <td>0.0</td>\n",
       "      <td>NaN</td>\n",
       "      <td>0.0</td>\n",
       "      <td>0.0</td>\n",
       "      <td>NaN</td>\n",
       "      <td>NaN</td>\n",
       "      <td>NaN</td>\n",
       "      <td>1023.0</td>\n",
       "      <td>(50, 55]</td>\n",
       "      <td>1023.000000</td>\n",
       "    </tr>\n",
       "    <tr>\n",
       "      <th>1</th>\n",
       "      <td>G0-998</td>\n",
       "      <td>mort_subite</td>\n",
       "      <td>G0-&lt;NA&gt;</td>\n",
       "      <td>2104.0</td>\n",
       "      <td>2011-10-06</td>\n",
       "      <td>1.0</td>\n",
       "      <td>0.0</td>\n",
       "      <td>0.0</td>\n",
       "      <td>1.0</td>\n",
       "      <td>2011-10-12</td>\n",
       "      <td>...</td>\n",
       "      <td>1.0</td>\n",
       "      <td>0.0</td>\n",
       "      <td>1.0</td>\n",
       "      <td>1.0</td>\n",
       "      <td>1.0</td>\n",
       "      <td>NaN</td>\n",
       "      <td>NaN</td>\n",
       "      <td>512.0</td>\n",
       "      <td>(50, 55]</td>\n",
       "      <td>512.000000</td>\n",
       "    </tr>\n",
       "    <tr>\n",
       "      <th>2</th>\n",
       "      <td>G0-9977</td>\n",
       "      <td>mort_subite</td>\n",
       "      <td>G0-&lt;NA&gt;</td>\n",
       "      <td>2950.0</td>\n",
       "      <td>2014-01-29</td>\n",
       "      <td>1.0</td>\n",
       "      <td>0.0</td>\n",
       "      <td>0.0</td>\n",
       "      <td>1.0</td>\n",
       "      <td>NaN</td>\n",
       "      <td>...</td>\n",
       "      <td>1.0</td>\n",
       "      <td>0.0</td>\n",
       "      <td>0.0</td>\n",
       "      <td>0.0</td>\n",
       "      <td>NaN</td>\n",
       "      <td>NaN</td>\n",
       "      <td>NaN</td>\n",
       "      <td>0.0</td>\n",
       "      <td>(50, 55]</td>\n",
       "      <td>0.000000</td>\n",
       "    </tr>\n",
       "    <tr>\n",
       "      <th>3</th>\n",
       "      <td>G0-9973</td>\n",
       "      <td>mort_subite</td>\n",
       "      <td>G0-&lt;NA&gt;</td>\n",
       "      <td>2950.0</td>\n",
       "      <td>2014-01-29</td>\n",
       "      <td>1.0</td>\n",
       "      <td>0.0</td>\n",
       "      <td>0.0</td>\n",
       "      <td>1.0</td>\n",
       "      <td>2014-01-29</td>\n",
       "      <td>...</td>\n",
       "      <td>1.0</td>\n",
       "      <td>0.0</td>\n",
       "      <td>1.0</td>\n",
       "      <td>0.0</td>\n",
       "      <td>0.0</td>\n",
       "      <td>NaN</td>\n",
       "      <td>NaN</td>\n",
       "      <td>12.0</td>\n",
       "      <td>(30, 40]</td>\n",
       "      <td>12.000000</td>\n",
       "    </tr>\n",
       "    <tr>\n",
       "      <th>4</th>\n",
       "      <td>G0-9970</td>\n",
       "      <td>mort_subite</td>\n",
       "      <td>G0-&lt;NA&gt;</td>\n",
       "      <td>2947.0</td>\n",
       "      <td>2014-01-26</td>\n",
       "      <td>1.0</td>\n",
       "      <td>0.0</td>\n",
       "      <td>0.0</td>\n",
       "      <td>1.0</td>\n",
       "      <td>NaN</td>\n",
       "      <td>...</td>\n",
       "      <td>0.0</td>\n",
       "      <td>NaN</td>\n",
       "      <td>0.0</td>\n",
       "      <td>0.0</td>\n",
       "      <td>NaN</td>\n",
       "      <td>NaN</td>\n",
       "      <td>NaN</td>\n",
       "      <td>10.0</td>\n",
       "      <td>(40, 50]</td>\n",
       "      <td>10.000000</td>\n",
       "    </tr>\n",
       "    <tr>\n",
       "      <th>...</th>\n",
       "      <td>...</td>\n",
       "      <td>...</td>\n",
       "      <td>...</td>\n",
       "      <td>...</td>\n",
       "      <td>...</td>\n",
       "      <td>...</td>\n",
       "      <td>...</td>\n",
       "      <td>...</td>\n",
       "      <td>...</td>\n",
       "      <td>...</td>\n",
       "      <td>...</td>\n",
       "      <td>...</td>\n",
       "      <td>...</td>\n",
       "      <td>...</td>\n",
       "      <td>...</td>\n",
       "      <td>...</td>\n",
       "      <td>...</td>\n",
       "      <td>...</td>\n",
       "      <td>...</td>\n",
       "      <td>...</td>\n",
       "      <td>...</td>\n",
       "    </tr>\n",
       "    <tr>\n",
       "      <th>4701</th>\n",
       "      <td>G0-10019</td>\n",
       "      <td>mort_subite</td>\n",
       "      <td>G0-&lt;NA&gt;</td>\n",
       "      <td>2876.0</td>\n",
       "      <td>2013-11-16</td>\n",
       "      <td>1.0</td>\n",
       "      <td>0.0</td>\n",
       "      <td>0.0</td>\n",
       "      <td>1.0</td>\n",
       "      <td>2013-11-28</td>\n",
       "      <td>...</td>\n",
       "      <td>1.0</td>\n",
       "      <td>1.0</td>\n",
       "      <td>1.0</td>\n",
       "      <td>0.0</td>\n",
       "      <td>0.0</td>\n",
       "      <td>NaN</td>\n",
       "      <td>NaN</td>\n",
       "      <td>1.0</td>\n",
       "      <td>(50, 55]</td>\n",
       "      <td>1.000000</td>\n",
       "    </tr>\n",
       "    <tr>\n",
       "      <th>4702</th>\n",
       "      <td>G0-10018</td>\n",
       "      <td>mort_subite</td>\n",
       "      <td>G0-&lt;NA&gt;</td>\n",
       "      <td>2961.0</td>\n",
       "      <td>2014-02-09</td>\n",
       "      <td>1.0</td>\n",
       "      <td>0.0</td>\n",
       "      <td>0.0</td>\n",
       "      <td>1.0</td>\n",
       "      <td>NaN</td>\n",
       "      <td>...</td>\n",
       "      <td>0.0</td>\n",
       "      <td>NaN</td>\n",
       "      <td>0.0</td>\n",
       "      <td>0.0</td>\n",
       "      <td>NaN</td>\n",
       "      <td>NaN</td>\n",
       "      <td>NaN</td>\n",
       "      <td>1.0</td>\n",
       "      <td>(40, 50]</td>\n",
       "      <td>1.000000</td>\n",
       "    </tr>\n",
       "    <tr>\n",
       "      <th>4703</th>\n",
       "      <td>G0-10008</td>\n",
       "      <td>mort_subite</td>\n",
       "      <td>G0-&lt;NA&gt;</td>\n",
       "      <td>2838.0</td>\n",
       "      <td>2013-10-09</td>\n",
       "      <td>1.0</td>\n",
       "      <td>0.0</td>\n",
       "      <td>0.0</td>\n",
       "      <td>1.0</td>\n",
       "      <td>2013-10-09</td>\n",
       "      <td>...</td>\n",
       "      <td>1.0</td>\n",
       "      <td>1.0</td>\n",
       "      <td>1.0</td>\n",
       "      <td>NaN</td>\n",
       "      <td>1.0</td>\n",
       "      <td>NaN</td>\n",
       "      <td>NaN</td>\n",
       "      <td>8.0</td>\n",
       "      <td>(50, 55]</td>\n",
       "      <td>25.666667</td>\n",
       "    </tr>\n",
       "    <tr>\n",
       "      <th>4704</th>\n",
       "      <td>G0-10004</td>\n",
       "      <td>mort_subite</td>\n",
       "      <td>G0-&lt;NA&gt;</td>\n",
       "      <td>2821.0</td>\n",
       "      <td>2013-09-22</td>\n",
       "      <td>0.0</td>\n",
       "      <td>1.0</td>\n",
       "      <td>0.0</td>\n",
       "      <td>1.0</td>\n",
       "      <td>NaN</td>\n",
       "      <td>...</td>\n",
       "      <td>0.0</td>\n",
       "      <td>NaN</td>\n",
       "      <td>0.0</td>\n",
       "      <td>0.0</td>\n",
       "      <td>NaN</td>\n",
       "      <td>NaN</td>\n",
       "      <td>NaN</td>\n",
       "      <td>354.0</td>\n",
       "      <td>(40, 50]</td>\n",
       "      <td>354.000000</td>\n",
       "    </tr>\n",
       "    <tr>\n",
       "      <th>4705</th>\n",
       "      <td>G0-10001</td>\n",
       "      <td>mort_subite</td>\n",
       "      <td>G0-&lt;NA&gt;</td>\n",
       "      <td>2805.0</td>\n",
       "      <td>2013-09-06</td>\n",
       "      <td>1.0</td>\n",
       "      <td>0.0</td>\n",
       "      <td>0.0</td>\n",
       "      <td>1.0</td>\n",
       "      <td>NaN</td>\n",
       "      <td>...</td>\n",
       "      <td>1.0</td>\n",
       "      <td>1.0</td>\n",
       "      <td>0.0</td>\n",
       "      <td>0.0</td>\n",
       "      <td>NaN</td>\n",
       "      <td>NaN</td>\n",
       "      <td>NaN</td>\n",
       "      <td>16.0</td>\n",
       "      <td>(18, 30]</td>\n",
       "      <td>16.000000</td>\n",
       "    </tr>\n",
       "  </tbody>\n",
       "</table>\n",
       "<p>4706 rows × 22 columns</p>\n",
       "</div>"
      ],
      "text/plain": [
       "       NUM_ENQ       GROUPE ID_MATCHING  ANTERIORITE_DISPONIBLE     DTD_EVT   \n",
       "0      G0-9994  mort_subite     G0-<NA>                  2956.0  2014-02-04  \\\n",
       "1       G0-998  mort_subite     G0-<NA>                  2104.0  2011-10-06   \n",
       "2      G0-9977  mort_subite     G0-<NA>                  2950.0  2014-01-29   \n",
       "3      G0-9973  mort_subite     G0-<NA>                  2950.0  2014-01-29   \n",
       "4      G0-9970  mort_subite     G0-<NA>                  2947.0  2014-01-26   \n",
       "...        ...          ...         ...                     ...         ...   \n",
       "4701  G0-10019  mort_subite     G0-<NA>                  2876.0  2013-11-16   \n",
       "4702  G0-10018  mort_subite     G0-<NA>                  2961.0  2014-02-09   \n",
       "4703  G0-10008  mort_subite     G0-<NA>                  2838.0  2013-10-09   \n",
       "4704  G0-10004  mort_subite     G0-<NA>                  2821.0  2013-09-22   \n",
       "4705  G0-10001  mort_subite     G0-<NA>                  2805.0  2013-09-06   \n",
       "\n",
       "      SEXE  CMU  AME  DECES     DTD_DCD  ...  TEMOIN  RCP_TEMOIN   \n",
       "0      1.0  0.0  0.0    1.0         NaN  ...     0.0         NaN  \\\n",
       "1      1.0  0.0  0.0    1.0  2011-10-12  ...     1.0         0.0   \n",
       "2      1.0  0.0  0.0    1.0         NaN  ...     1.0         0.0   \n",
       "3      1.0  0.0  0.0    1.0  2014-01-29  ...     1.0         0.0   \n",
       "4      1.0  0.0  0.0    1.0         NaN  ...     0.0         NaN   \n",
       "...    ...  ...  ...    ...         ...  ...     ...         ...   \n",
       "4701   1.0  0.0  0.0    1.0  2013-11-28  ...     1.0         1.0   \n",
       "4702   1.0  0.0  0.0    1.0         NaN  ...     0.0         NaN   \n",
       "4703   1.0  0.0  0.0    1.0  2013-10-09  ...     1.0         1.0   \n",
       "4704   0.0  1.0  0.0    1.0         NaN  ...     0.0         NaN   \n",
       "4705   1.0  0.0  0.0    1.0         NaN  ...     1.0         1.0   \n",
       "\n",
       "      ADMIS_VIVANT_HOPITAL  RYTHME_CHOQUABLE  CORO  ANN_EVT  TYPE_ASSURANCE   \n",
       "0                      0.0               0.0   NaN      NaN             NaN  \\\n",
       "1                      1.0               1.0   1.0      NaN             NaN   \n",
       "2                      0.0               0.0   NaN      NaN             NaN   \n",
       "3                      1.0               0.0   0.0      NaN             NaN   \n",
       "4                      0.0               0.0   NaN      NaN             NaN   \n",
       "...                    ...               ...   ...      ...             ...   \n",
       "4701                   1.0               0.0   0.0      NaN             NaN   \n",
       "4702                   0.0               0.0   NaN      NaN             NaN   \n",
       "4703                   1.0               NaN   1.0      NaN             NaN   \n",
       "4704                   0.0               0.0   NaN      NaN             NaN   \n",
       "4705                   0.0               0.0   NaN      NaN             NaN   \n",
       "\n",
       "      NB_SOIN   AGE_CAT     mean_AGE  \n",
       "0      1023.0  (50, 55]  1023.000000  \n",
       "1       512.0  (50, 55]   512.000000  \n",
       "2         0.0  (50, 55]     0.000000  \n",
       "3        12.0  (30, 40]    12.000000  \n",
       "4        10.0  (40, 50]    10.000000  \n",
       "...       ...       ...          ...  \n",
       "4701      1.0  (50, 55]     1.000000  \n",
       "4702      1.0  (40, 50]     1.000000  \n",
       "4703      8.0  (50, 55]    25.666667  \n",
       "4704    354.0  (40, 50]   354.000000  \n",
       "4705     16.0  (18, 30]    16.000000  \n",
       "\n",
       "[4706 rows x 22 columns]"
      ]
     },
     "execution_count": 84,
     "metadata": {},
     "output_type": "execute_result"
    }
   ],
   "source": [
    "Table_Pop_num = Table_Pop.drop"
   ]
  },
  {
   "cell_type": "code",
   "execution_count": null,
   "id": "5dc2c50a-a7e9-46f2-b81e-7614fe2a94ec",
   "metadata": {
    "tags": []
   },
   "outputs": [],
   "source": [
    "sns.heatmap(Table_Pop)"
   ]
  },
  {
   "cell_type": "markdown",
   "id": "7f372721-d64f-421d-ba6a-08e4e1371359",
   "metadata": {},
   "source": [
    "### A. Sexe"
   ]
  },
  {
   "cell_type": "code",
   "execution_count": null,
   "id": "69503fb0-c0c2-48f2-aa74-7a291958436b",
   "metadata": {
    "tags": []
   },
   "outputs": [],
   "source": [
    "df_0 = Table_Pop[Table_Pop['SEXE']==0.0]\n",
    "df_1 = Table_Pop[Table_Pop['SEXE']==1.0]\n",
    "\n",
    "df_0.describe()\n",
    "df_1.describe()"
   ]
  },
  {
   "cell_type": "code",
   "execution_count": null,
   "id": "fda9e63a-135a-4248-9792-71990576c5aa",
   "metadata": {
    "tags": []
   },
   "outputs": [],
   "source": [
    "sns.violinplot(x=Table_Pop[\"SEXE\"], y=Table_Pop[\"NB_SOIN\"])"
   ]
  },
  {
   "cell_type": "markdown",
   "id": "dcff327b-7f2d-4648-ad9e-9fce6bdf60dc",
   "metadata": {},
   "source": [
    "### B. Âge"
   ]
  },
  {
   "cell_type": "code",
   "execution_count": null,
   "id": "cbf08652-cfac-4251-b101-87199cdee6e5",
   "metadata": {
    "tags": []
   },
   "outputs": [],
   "source": [
    "Table_Pop[\"AGE\"].max()"
   ]
  },
  {
   "cell_type": "code",
   "execution_count": null,
   "id": "70b2dcaf-ea74-4485-b8a5-cf79dae37c18",
   "metadata": {
    "tags": []
   },
   "outputs": [],
   "source": [
    "Table_Pop[\"AGE\"].min()"
   ]
  },
  {
   "cell_type": "code",
   "execution_count": null,
   "id": "f8d761f6-d301-4304-b21f-a3abcb466f5e",
   "metadata": {
    "tags": []
   },
   "outputs": [],
   "source": [
    "import seaborn as sns\n",
    "sns.distplot(a=Table_Pop[\"AGE\"], hist=True, kde=True, rug=False)\n"
   ]
  },
  {
   "cell_type": "code",
   "execution_count": null,
   "id": "1234e664-0b02-4e29-8967-aeaeb8a82f12",
   "metadata": {
    "tags": []
   },
   "outputs": [],
   "source": [
    "Table_Pop['AGE_CAT'] = pd.cut(Table_Pop['AGE'], bins =  [18, 30, 40, 50, 55])\n"
   ]
  },
  {
   "cell_type": "code",
   "execution_count": null,
   "id": "5ce3b5c8-6c2e-4d8e-a063-b2a86501d140",
   "metadata": {
    "tags": []
   },
   "outputs": [],
   "source": [
    "## Ridgeline : marche pas\n",
    "# Initialize the FacetGrid object\n",
    "pal = sns.cubehelix_palette(10, rot=-.25, light=.7)\n",
    "Table_Pop['mean_AGE'] = Table_Pop['AGE'].map(Table_Pop.groupby('AGE')['NB_SOIN'].mean())\n",
    "g = sns.FacetGrid(Table_Pop, row=\"AGE\", hue=\"mean_AGE\", aspect=15, height=.5, palette=pal)\n",
    "\n",
    "# we generate a color palette with Seaborn.color_palette()\n",
    "pal = sns.color_palette(palette='coolwarm', n_colors=12)\n",
    "\n",
    "# in the sns.FacetGrid class, the 'hue' argument is the one that is the one that will be represented by colors with 'palette'\n",
    "g = sns.FacetGrid(Table_Pop, row='AGE', hue='mean_AGE', aspect=15, height=0.75, palette=pal)\n",
    "\n",
    "# then we add the densities kdeplots for each month\n",
    "g.map(sns.kdeplot, 'mean_AGE',\n",
    "      bw_adjust=1, clip_on=False,\n",
    "      fill=True, alpha=1, linewidth=1.5)\n",
    "\n",
    "# here we add a white line that represents the contour of each kdeplot\n",
    "g.map(sns.kdeplot, 'Mean_AGE', \n",
    "      bw_adjust=1, clip_on=False, \n",
    "      color=\"w\", lw=2)\n",
    "\n",
    "# here we add a horizontal line for each plot\n",
    "g.map(plt.axhline, y=0,\n",
    "      lw=2, clip_on=False)\n",
    "    \n",
    "# we use matplotlib.Figure.subplots_adjust() function to get the subplots to overlap\n",
    "g.fig.subplots_adjust(hspace=-0.3)\n",
    "\n",
    "# eventually we remove axes titles, yticks and spines\n",
    "g.set_titles(\"\")\n",
    "g.set(yticks=[])\n",
    "g.despine(bottom=True, left=True)\n",
    "\n",
    "plt.setp(ax.get_xticklabels(), fontsize=15, fontweight='bold')\n",
    "plt.xlabel('Temperature in degree Celsius', fontweight='bold', fontsize=15)\n",
    "g.fig.suptitle('Daily average temperature in Seattle per month',\n",
    "               ha='right',\n",
    "               fontsize=20,\n",
    "               fontweight=20)\n",
    "\n",
    "plt.show()\n",
    "\n"
   ]
  },
  {
   "cell_type": "markdown",
   "id": "7cf7ac5d-813a-4666-bdad-fb806080850a",
   "metadata": {},
   "source": [
    "### C. CMU"
   ]
  },
  {
   "cell_type": "code",
   "execution_count": null,
   "id": "28a8af65-6a31-494a-a585-a21cde9ceeb3",
   "metadata": {
    "tags": []
   },
   "outputs": [],
   "source": [
    "sns.violinplot(x=Table_Pop[\"CMU\"], y=Table_Pop[\"NB_SOIN\"])"
   ]
  },
  {
   "cell_type": "markdown",
   "id": "7876fd78-e4c5-4706-b827-1dcc23c9f953",
   "metadata": {
    "jp-MarkdownHeadingCollapsed": true,
    "tags": []
   },
   "source": [
    "### Description temporelle\n"
   ]
  },
  {
   "cell_type": "markdown",
   "id": "260a902a-edf0-462f-857e-2d9a6c1334d1",
   "metadata": {},
   "source": [
    "Cependant, nous perdons l'aspect temporel avec cette manière de décrire, il faudrait indexer par les jours la fréquence de soins pour avoir une idée de leur comportement dans le temps\n",
    "\n",
    "On va donc essayer de déterminer le nombre de soins à l'approche de la date, en faisant des variables catégorielles pour ensuite représenter un histogramme. On se servira de bdtot. Idées sur : https://ichi.pro/fr/statistiques-de-base-pour-l-analyse-des-series-temporelles-en-python-84324298089781"
   ]
  },
  {
   "cell_type": "code",
   "execution_count": null,
   "id": "d9978709-2d1c-4fad-b0a9-578d44e51e05",
   "metadata": {
    "tags": []
   },
   "outputs": [],
   "source": [
    "bdtot['DIFF_DAY'] = bdtot['DIFF_DAY'].astype(np.float64)"
   ]
  },
  {
   "cell_type": "code",
   "execution_count": null,
   "id": "43af0b08-a440-4e22-8147-e7935d54a36f",
   "metadata": {
    "tags": []
   },
   "outputs": [],
   "source": [
    "bdtot.hist()\n",
    "import plotly.express as px\n",
    "fig = px.bar(bdtot, barmode = 'stack')\n",
    "#Ici ce serait pas mal de faire un graphique empilé avec des couleurs selon le type de conso de soins (hospitalière avec un code commençant par PMSI, pharmaceutique avec un code commençant par PHA)"
   ]
  },
  {
   "cell_type": "code",
   "execution_count": null,
   "id": "058c240f-9487-4b16-903d-aa7ec2f82605",
   "metadata": {
    "tags": []
   },
   "outputs": [],
   "source": [
    "q1 = bdtot['DIFF_DAY'].quantile(0.1)\n",
    "q2 = bdtot['DIFF_DAY'].quantile(0.2)\n",
    "q3 = bdtot['DIFF_DAY'].quantile(0.3)\n",
    "q4 = bdtot['DIFF_DAY'].quantile(0.4)\n",
    "q5 = bdtot['DIFF_DAY'].quantile(0.5)\n",
    "q6 = bdtot['DIFF_DAY'].quantile(0.6)\n",
    "q7 = bdtot['DIFF_DAY'].quantile(0.7)\n",
    "q8 = bdtot['DIFF_DAY'].quantile(0.8)\n",
    "q9 = bdtot['DIFF_DAY'].quantile(0.9)\n",
    "\n",
    "df1 = bdtot[bdtot['DIFF_DAY']<q1] #Premier décile\n",
    "df2 = bdtot[bdtot['DIFF_DAY']>=q1] \n",
    "df2 = df2[df2['DIFF_DAY']<q2] #Deuxième décile\n",
    "df3 = bdtot[bdtot['DIFF_DAY']>=q2] \n",
    "df3 = df3[df3['DIFF_DAY']<q3]\n",
    "df4 = bdtot[bdtot['DIFF_DAY']>=q3] \n",
    "df4 = df4[df4['DIFF_DAY']<q4]\n",
    "df5 = bdtot[bdtot['DIFF_DAY']>=q4] \n",
    "df5 = df5[df5['DIFF_DAY']<q5]\n",
    "df6 = bdtot[bdtot['DIFF_DAY']>=q5] \n",
    "df6 = df6[df6['DIFF_DAY']<q6]\n",
    "df7 = bdtot[bdtot['DIFF_DAY']>=q6] \n",
    "df7 = df7[df7['DIFF_DAY']<q7]\n",
    "df8 = bdtot[bdtot['DIFF_DAY']>=q7] \n",
    "df8 = df8[df8['DIFF_DAY']<q8]\n",
    "df9 = bdtot[bdtot['DIFF_DAY']>=q8] \n",
    "df9 = df9[df9['DIFF_DAY']<q9]\n",
    "df10 = bdtot[bdtot['DIFF_DAY']>=q9]"
   ]
  },
  {
   "cell_type": "code",
   "execution_count": null,
   "id": "86d258d6-4aa2-4a55-a973-78ca96751329",
   "metadata": {
    "tags": []
   },
   "outputs": [],
   "source": [
    "listedf = [df1, df2, df3, df4, df5, df6, df7, df8, df9, df10]\n",
    "diag = []\n",
    "medic = []\n",
    "for elem in listedf:\n",
    "    cdiag = 0\n",
    "    cmedic = 0\n",
    "    for i in range(elem.shape[0]):\n",
    "        if elem['NIVEAU_1'].values[i].startswith('PHA')==True:\n",
    "            cmedic = cmedic+1\n",
    "        else:\n",
    "            cdiag = cdiag+1\n",
    "    diag.append(cdiag)\n",
    "    medic.append(cmedic)"
   ]
  },
  {
   "cell_type": "code",
   "execution_count": null,
   "id": "7486ec55-8316-4083-ae41-9d6d6a6f5cf7",
   "metadata": {
    "tags": []
   },
   "outputs": [],
   "source": [
    "dfbar = pd.DataFrame(dict(Medic=medic, Diagnostics=diag))\n",
    "dfbar = dfbar.rename(index={0:'[-1826, -1642]',1:'[-1641, -1460]',2:'[-1459, -1278]',3:'[-1277, -1095]',4:'[-1094, -913)]',5:'[-912, -731]',6:'[-730, -546]',7:'[-547, -366]',8:'[-365, -184] ',9:'[-183, -1]'})\n",
    "ax = dfbar.plot.bar(stacked=True, color=['blue', 'red'])\n",
    "plt.title(\"Diagnostics et de médicaments avant le diagnostic\")\n",
    "h,l = ax.get_legend_handles_labels()\n",
    "ax.legend(h[:3],[\"Médicaments\", \"Diagnostics\"], loc=3, fontsize=14)\n",
    "plt.show()"
   ]
  },
  {
   "cell_type": "markdown",
   "id": "979ad683-7d6d-4ad6-abef-55db757a7409",
   "metadata": {},
   "source": [
    "Nous allons donc créer des catégories à partir de ces valeurs."
   ]
  },
  {
   "cell_type": "code",
   "execution_count": null,
   "id": "adec3ac7-6b50-4637-9a23-07ab6f035336",
   "metadata": {
    "jupyter": {
     "source_hidden": true
    },
    "tags": []
   },
   "outputs": [],
   "source": [
    "bdtot_c = bdtot.copy()\n",
    "bdtot_c['DIFF_DAY'] = pd.cut(bdtot_c['DIFF_DAY'], 10)\n",
    "bdtot_c['DIFF_DAY'].sample(20)"
   ]
  },
  {
   "cell_type": "code",
   "execution_count": null,
   "id": "a60b314a-34e7-4602-a34d-e74c4a17d075",
   "metadata": {
    "jupyter": {
     "source_hidden": true
    },
    "tags": []
   },
   "outputs": [],
   "source": [
    "ar = np.array([0, 0]) #Première ligne arbitraire\n",
    "Nb_Soins = pd.DataFrame(ar) #Conversion de la matrice en DataFrame\n",
    "Nb_Soins = Nb_Soins.transpose()\n",
    "Nb_Soins.columns = ['TPS', 'NB_SOIN'] #On nomme les colonnes'''\n",
    "liste = list(set(list(bdtot_c['DIFF_DAY'])))\n",
    "\n",
    "\n",
    " \n",
    "#On va maintenant chercher à associer à chaque enquêté le nombre de soin reçu.\n",
    "#Calcul des soins par personnes et création d'une dataframe qui associe au numéro le nombre de soin\n",
    "for elem in liste:\n",
    "    c = 0 #Ce sera notre compteur d'itération\n",
    "    for val in bdtot_c['DIFF_DAY']:\n",
    "        if elem==val:\n",
    "            c = c+1\n",
    "    ar_temp = np.array([elem, c])\n",
    "    df_temp = pd.DataFrame(ar_temp)\n",
    "    df_temp = df_temp.transpose()\n",
    "    df_temp.columns = ['TPS', 'NB_SOIN']\n",
    "    Nb_Soins = pd.concat([Nb_Soins, df_temp])\n",
    "\n",
    "Nb_Soins"
   ]
  },
  {
   "cell_type": "code",
   "execution_count": null,
   "id": "f1725020-e746-4e86-a17a-f020fb84d014",
   "metadata": {
    "tags": []
   },
   "outputs": [],
   "source": [
    "Nb_Soins_c = Nb_Soins.copy()\n",
    "Nb_Soins_c = Nb_Soins_c[Nb_Soins_c['TPS']!=0] "
   ]
  },
  {
   "cell_type": "markdown",
   "id": "5c89535f-1f4a-457c-8226-874820555cb0",
   "metadata": {},
   "source": [
    "Stats desc : âge, CMU, sexe"
   ]
  },
  {
   "cell_type": "code",
   "execution_count": null,
   "id": "b075c8bf-32db-41de-84e6-84c089cf0c00",
   "metadata": {
    "tags": []
   },
   "outputs": [],
   "source": []
  },
  {
   "cell_type": "markdown",
   "id": "ac7a5320-2903-4aff-b3b8-9098ca847894",
   "metadata": {
    "jp-MarkdownHeadingCollapsed": true,
    "tags": []
   },
   "source": [
    "## III. Modélisation : Clustering de séries temporelles**"
   ]
  },
  {
   "cell_type": "markdown",
   "id": "2aabdf04-0632-4cbd-9e99-46552cb8b38e",
   "metadata": {},
   "source": [
    "On va appliquer l'algorithme des k-means pour établir des clusters (et donc des profils de patient). Cependant, ayant entre les mains une série temporelle, nous n'allons pas utiliser une distance euclidienne classique mais la \"Dynamic Time Warping Distance\" qui est plus adaptée au type de données qu'on traite. En effet, la distance euclidienne ne permet pas d'absorber l'aspect temporel de la data.\n",
    "\n",
    "Cependant, pour dessiner les profils, on va accoler les informations de la table de population des individus sur la base de soins totale. "
   ]
  },
  {
   "cell_type": "markdown",
   "id": "4c8033e5-6ee8-45f3-8913-65f80bebf341",
   "metadata": {},
   "source": [
    "*Génération de la base de données du clustering*"
   ]
  },
  {
   "cell_type": "code",
   "execution_count": null,
   "id": "f1c68a87-5ebd-439c-bd48-6812b13d1523",
   "metadata": {
    "tags": []
   },
   "outputs": [],
   "source": [
    "df_cl = pd.merge(bdtot, Table_Pop, on =['NUM_ENQ'])\n",
    "df_cl"
   ]
  },
  {
   "cell_type": "markdown",
   "id": "5028bb86-679e-4a90-a710-6b8719a03171",
   "metadata": {
    "tags": []
   },
   "source": [
    "*Choisir le bon nombre de clusters*"
   ]
  },
  {
   "cell_type": "markdown",
   "id": "62e56c40-2730-45c2-b5e5-4fc5a7d79860",
   "metadata": {},
   "source": [
    "Nous allons estimer cela en ayant recours à la méthode \"silhouette coefficient\". Ce coefficient calcule à quel point les points d'un même cluster sont proches entre eux et à quel point ces points sont bien éloignés des autres clusters. On va donc le calculer pour un certain nombre de cluster afin de déterminer le nombre idéal à générer : ce nombre sera celui qui maximise le coefficient. \n",
    "\n",
    "Il faudra réfléchir à comment on procède pour mettre de la distance entre des attributs qualitatifs."
   ]
  },
  {
   "cell_type": "code",
   "execution_count": null,
   "id": "73a5184f-240f-4447-86c7-c76e075000e8",
   "metadata": {
    "tags": []
   },
   "outputs": [],
   "source": [
    "silhouette_coefficients = []\n",
    "\n",
    "for k in range(2, 11):\n",
    "    kmeans = TimeSeriesKMeans(n_clusters=k,metric=\"dtw\", max_iter=10)\n",
    "    kmeans.fit(df_cl)\n",
    "    score = silhouette_score(df_cl, kmeans.labels_)\n",
    "    silhouette_coefficients.append(score)\n",
    "\n",
    "nb_ideal = max(silhouette_coefficients)\n",
    "    "
   ]
  },
  {
   "cell_type": "markdown",
   "id": "5b8b3138-c7fd-4c12-9535-49712bafec56",
   "metadata": {
    "tags": []
   },
   "source": [
    "*k-means*"
   ]
  },
  {
   "cell_type": "code",
   "execution_count": null,
   "id": "afe7da81-7ea1-45a0-ab2f-b17f4d6fd775",
   "metadata": {
    "tags": []
   },
   "outputs": [],
   "source": [
    "model = TimeSeriesKMeans(n_clusters=nb_ideal, metric=\"dtw\", max_iter=10)\n",
    "model.fit(df_cl)"
   ]
  }
 ],
 "metadata": {
  "kernelspec": {
   "display_name": "Python 3 (ipykernel)",
   "language": "python",
   "name": "python3"
  },
  "language_info": {
   "codemirror_mode": {
    "name": "ipython",
    "version": 3
   },
   "file_extension": ".py",
   "mimetype": "text/x-python",
   "name": "python",
   "nbconvert_exporter": "python",
   "pygments_lexer": "ipython3",
   "version": "3.10.9"
  }
 },
 "nbformat": 4,
 "nbformat_minor": 5
}
