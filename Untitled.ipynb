{
 "cells": [
  {
   "cell_type": "markdown",
   "id": "56afe656-080e-4cfd-a6ed-3af3455c71f2",
   "metadata": {
    "tags": []
   },
   "source": [
    "Nous allons étudier la mort subite \n",
    "D'abord, importons nos packages et ouvrons les bases de données"
   ]
  },
  {
   "cell_type": "code",
   "execution_count": 15,
   "id": "0498941e-ae6b-442d-b0ae-1c516aeedd52",
   "metadata": {
    "tags": []
   },
   "outputs": [],
   "source": [
    "import numpy as np\n",
    "import pandas as pd\n",
    "import os\n",
    "import matplotlib.pyplot as plt"
   ]
  },
  {
   "cell_type": "code",
   "execution_count": 22,
   "id": "173f6d6c-f6e9-47a2-96b1-fd893642b19f",
   "metadata": {
    "tags": []
   },
   "outputs": [
    {
     "ename": "FileNotFoundError",
     "evalue": "[Errno 2] No such file or directory: 'W:/Documents/SemModStat/MS_BD0.csv/'",
     "output_type": "error",
     "traceback": [
      "\u001b[0;31m---------------------------------------------------------------------------\u001b[0m",
      "\u001b[0;31mFileNotFoundError\u001b[0m                         Traceback (most recent call last)",
      "Cell \u001b[0;32mIn[22], line 1\u001b[0m\n\u001b[0;32m----> 1\u001b[0m f \u001b[38;5;241m=\u001b[39m \u001b[43mos\u001b[49m\u001b[38;5;241;43m.\u001b[39;49m\u001b[43mopen\u001b[49m\u001b[43m(\u001b[49m\u001b[38;5;124;43m'\u001b[39;49m\u001b[38;5;124;43mW:/Documents/SemModStat/MS_BD0.csv/\u001b[39;49m\u001b[38;5;124;43m'\u001b[39;49m\u001b[43m,\u001b[49m\u001b[43m \u001b[49m\u001b[43mos\u001b[49m\u001b[38;5;241;43m.\u001b[39;49m\u001b[43mO_RDONLY\u001b[49m\u001b[43m)\u001b[49m\n\u001b[1;32m      2\u001b[0m Table_Pop \u001b[38;5;241m=\u001b[39m pd\u001b[38;5;241m.\u001b[39mread_csv(f)\n\u001b[1;32m      3\u001b[0m Table_Pop\n",
      "\u001b[0;31mFileNotFoundError\u001b[0m: [Errno 2] No such file or directory: 'W:/Documents/SemModStat/MS_BD0.csv/'"
     ]
    }
   ],
   "source": [
    "f = os.open('W:/Documents/SemModStat/MS_BD0.csv/', os.O_RDONLY)\n",
    "Table_Pop = pd.read_csv(f)\n",
    "Table_Pop"
   ]
  },
  {
   "cell_type": "code",
   "execution_count": null,
   "id": "728f3d68-3ec8-416f-bd57-4849aac665b1",
   "metadata": {},
   "outputs": [],
   "source": []
  }
 ],
 "metadata": {
  "kernelspec": {
   "display_name": "Python 3 (ipykernel)",
   "language": "python",
   "name": "python3"
  },
  "language_info": {
   "codemirror_mode": {
    "name": "ipython",
    "version": 3
   },
   "file_extension": ".py",
   "mimetype": "text/x-python",
   "name": "python",
   "nbconvert_exporter": "python",
   "pygments_lexer": "ipython3",
   "version": "3.10.8"
  }
 },
 "nbformat": 4,
 "nbformat_minor": 5
}
