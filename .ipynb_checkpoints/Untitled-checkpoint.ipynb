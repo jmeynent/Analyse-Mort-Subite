{
 "cells": [
  {
   "cell_type": "code",
   "execution_count": 14,
   "id": "6d42367e-9f5d-4332-ab7f-02ee1ec24755",
   "metadata": {
    "tags": []
   },
   "outputs": [
    {
     "name": "stdout",
     "output_type": "stream",
     "text": [
      "Requirement already satisfied: tslearn in /opt/mamba/lib/python3.10/site-packages (0.5.3.2)\n",
      "Requirement already satisfied: numba in /opt/mamba/lib/python3.10/site-packages (from tslearn) (0.56.4)\n",
      "Requirement already satisfied: scipy in /opt/mamba/lib/python3.10/site-packages (from tslearn) (1.10.1)\n",
      "Requirement already satisfied: joblib in /opt/mamba/lib/python3.10/site-packages (from tslearn) (1.2.0)\n",
      "Requirement already satisfied: scikit-learn in /opt/mamba/lib/python3.10/site-packages (from tslearn) (1.2.2)\n",
      "Requirement already satisfied: numpy in /opt/mamba/lib/python3.10/site-packages (from tslearn) (1.23.5)\n",
      "Requirement already satisfied: setuptools in /opt/mamba/lib/python3.10/site-packages (from numba->tslearn) (65.6.3)\n",
      "Requirement already satisfied: llvmlite<0.40,>=0.39.0dev0 in /opt/mamba/lib/python3.10/site-packages (from numba->tslearn) (0.39.1)\n",
      "Requirement already satisfied: threadpoolctl>=2.0.0 in /opt/mamba/lib/python3.10/site-packages (from scikit-learn->tslearn) (3.1.0)\n",
      "Requirement already satisfied: h5py in /opt/mamba/lib/python3.10/site-packages (3.8.0)\n",
      "Requirement already satisfied: numpy>=1.14.5 in /opt/mamba/lib/python3.10/site-packages (from h5py) (1.23.5)\n",
      "Collecting kneed\n",
      "  Downloading kneed-0.8.2-py3-none-any.whl (10 kB)\n",
      "Requirement already satisfied: numpy>=1.14.2 in /opt/mamba/lib/python3.10/site-packages (from kneed) (1.23.5)\n",
      "Requirement already satisfied: scipy>=1.0.0 in /opt/mamba/lib/python3.10/site-packages (from kneed) (1.10.1)\n",
      "Installing collected packages: kneed\n",
      "Successfully installed kneed-0.8.2\n"
     ]
    }
   ],
   "source": [
    "!pip install tslearn\n",
    "!pip install h5py\n",
    "!pip install kneed"
   ]
  },
  {
   "cell_type": "code",
   "execution_count": 17,
   "id": "7e5c03a1-ee17-48fe-9f97-2d071492e078",
   "metadata": {
    "tags": []
   },
   "outputs": [],
   "source": [
    "import pandas as pd\n",
    "import matplotlib.pyplot as plt\n",
    "from tslearn.metrics import dtw\n",
    "from tslearn.clustering import TimeSeriesKMeans"
   ]
  },
  {
   "cell_type": "markdown",
   "id": "56afe656-080e-4cfd-a6ed-3af3455c71f2",
   "metadata": {
    "tags": []
   },
   "source": [
    "Nous allons étudier la mort subite \n",
    "D'abord, importons nos packages et ouvrons les bases de données"
   ]
  },
  {
   "cell_type": "code",
   "execution_count": 2,
   "id": "173f6d6c-f6e9-47a2-96b1-fd893642b19f",
   "metadata": {
    "tags": []
   },
   "outputs": [],
   "source": [
    "Table_Pop = pd.read_csv('MSTP.csv', sep = ';') #Je réimporte à chaque fois en local la base de données. Je ne stocke pas sur Git car données sensibles \n",
    "bd0 = pd.read_csv('MS_BD0.csv', sep = ';', parse_dates=[1])\n",
    "bd1 = pd.read_csv('MS_BD1.csv', sep = ';', parse_dates=[1])\n",
    "bd2 = pd.read_csv('MS_BD2.csv', sep = ';', parse_dates=[1])"
   ]
  },
  {
   "cell_type": "markdown",
   "id": "ca584fdd-a569-494c-869d-981fbd69df01",
   "metadata": {},
   "source": [
    "Je vais concaténer les traitements. "
   ]
  },
  {
   "cell_type": "code",
   "execution_count": 3,
   "id": "51afaaae-4a78-4897-929c-044410588938",
   "metadata": {
    "tags": []
   },
   "outputs": [],
   "source": [
    "bdtot = pd.concat([bd0, bd1, bd2])"
   ]
  },
  {
   "cell_type": "markdown",
   "id": "e37e9022-c372-4d3f-867f-4ec5f56011bb",
   "metadata": {},
   "source": [
    "On va établir une liste des enquêtés pour pouvoir compter leurs soins à l'avenir"
   ]
  },
  {
   "cell_type": "code",
   "execution_count": 7,
   "id": "3d9a3218-87d8-43dd-97ee-f770091586e9",
   "metadata": {
    "tags": []
   },
   "outputs": [],
   "source": [
    "list_enq = [] #On crée une liste vide\n",
    "for elem in Table_Pop['NUM_ENQ']:\n",
    "    list_enq.append(str(elem))#On ajoute chaque numéro d'enquêté, présent une seule fois sur la table de population"
   ]
  },
  {
   "cell_type": "markdown",
   "id": "2e436a40-8c0a-41a7-b00f-3b7560622f77",
   "metadata": {},
   "source": [
    "Maintenant, on va chercher à compter combien d'actes de soins ont été reçus par enquêtés. Pour ce faire, nous allons compter les occurences de chaque éléments de la liste dans la base de données totale. On va les implémenter dans la Table Pop ensuite. "
   ]
  },
  {
   "cell_type": "code",
   "execution_count": 8,
   "id": "a841a919-d1a1-4c8e-8ab1-044fbacffa36",
   "metadata": {
    "tags": []
   },
   "outputs": [
    {
     "data": {
      "text/html": [
       "<div>\n",
       "<style scoped>\n",
       "    .dataframe tbody tr th:only-of-type {\n",
       "        vertical-align: middle;\n",
       "    }\n",
       "\n",
       "    .dataframe tbody tr th {\n",
       "        vertical-align: top;\n",
       "    }\n",
       "\n",
       "    .dataframe thead th {\n",
       "        text-align: right;\n",
       "    }\n",
       "</style>\n",
       "<table border=\"1\" class=\"dataframe\">\n",
       "  <thead>\n",
       "    <tr style=\"text-align: right;\">\n",
       "      <th></th>\n",
       "      <th>NUM_ENQ</th>\n",
       "      <th>NB_SOIN</th>\n",
       "    </tr>\n",
       "  </thead>\n",
       "  <tbody>\n",
       "    <tr>\n",
       "      <th>0</th>\n",
       "      <td>0</td>\n",
       "      <td>0</td>\n",
       "    </tr>\n",
       "    <tr>\n",
       "      <th>0</th>\n",
       "      <td>G0-9994</td>\n",
       "      <td>419</td>\n",
       "    </tr>\n",
       "    <tr>\n",
       "      <th>0</th>\n",
       "      <td>G0-998</td>\n",
       "      <td>183</td>\n",
       "    </tr>\n",
       "    <tr>\n",
       "      <th>0</th>\n",
       "      <td>G0-9977</td>\n",
       "      <td>0</td>\n",
       "    </tr>\n",
       "    <tr>\n",
       "      <th>0</th>\n",
       "      <td>G0-9973</td>\n",
       "      <td>11</td>\n",
       "    </tr>\n",
       "    <tr>\n",
       "      <th>...</th>\n",
       "      <td>...</td>\n",
       "      <td>...</td>\n",
       "    </tr>\n",
       "    <tr>\n",
       "      <th>0</th>\n",
       "      <td>G0-10019</td>\n",
       "      <td>1</td>\n",
       "    </tr>\n",
       "    <tr>\n",
       "      <th>0</th>\n",
       "      <td>G0-10018</td>\n",
       "      <td>0</td>\n",
       "    </tr>\n",
       "    <tr>\n",
       "      <th>0</th>\n",
       "      <td>G0-10008</td>\n",
       "      <td>8</td>\n",
       "    </tr>\n",
       "    <tr>\n",
       "      <th>0</th>\n",
       "      <td>G0-10004</td>\n",
       "      <td>103</td>\n",
       "    </tr>\n",
       "    <tr>\n",
       "      <th>0</th>\n",
       "      <td>G0-10001</td>\n",
       "      <td>4</td>\n",
       "    </tr>\n",
       "  </tbody>\n",
       "</table>\n",
       "<p>4707 rows × 2 columns</p>\n",
       "</div>"
      ],
      "text/plain": [
       "     NUM_ENQ NB_SOIN\n",
       "0          0       0\n",
       "0    G0-9994     419\n",
       "0     G0-998     183\n",
       "0    G0-9977       0\n",
       "0    G0-9973      11\n",
       "..       ...     ...\n",
       "0   G0-10019       1\n",
       "0   G0-10018       0\n",
       "0   G0-10008       8\n",
       "0   G0-10004     103\n",
       "0   G0-10001       4\n",
       "\n",
       "[4707 rows x 2 columns]"
      ]
     },
     "execution_count": 8,
     "metadata": {},
     "output_type": "execute_result"
    }
   ],
   "source": [
    "#Création d'un début de dataframe pour remplir boucle\n",
    "ar = np.array([0, 0]) #Première ligne arbitraire\n",
    "Nb_Soins = pd.DataFrame(ar) #Conversion de la matrice en DataFrame\n",
    "Nb_Soins = Nb_Soins.transpose()\n",
    "Nb_Soins.columns = ['NUM_ENQ', 'NB_SOIN'] #On nomme les colonnes'''\n",
    " \n",
    "#On va maintenant chercher à associer à chaque enquêté le nombre de soin reçu.\n",
    "#Calcul des soins par personnes et création d'une dataframe qui associe au numéro le nombre de soin\n",
    "for elem in list_enq:\n",
    "    c = 0 #Ce sera notre compteur d'itération\n",
    "    for val in bdtot['NUM_ENQ']:\n",
    "        if elem==val:\n",
    "            c = c+1\n",
    "    ar_temp = np.array([elem, c])\n",
    "    df_temp = pd.DataFrame(ar_temp)\n",
    "    df_temp = df_temp.transpose()\n",
    "    df_temp.columns = ['NUM_ENQ', 'NB_SOIN']\n",
    "    Nb_Soins = pd.concat([Nb_Soins, df_temp])\n",
    "\n",
    "Nb_Soins"
   ]
  },
  {
   "cell_type": "code",
   "execution_count": 9,
   "id": "4ade2cce-544c-4489-ae05-2c09e94a3076",
   "metadata": {
    "tags": []
   },
   "outputs": [],
   "source": [
    "#on retire la ligne 0 \n",
    "Nb_Soins_c = Nb_Soins.copy()\n",
    "Nb_Soins_c = Nb_Soins_c[Nb_Soins_c['NUM_ENQ']!=0] "
   ]
  },
  {
   "cell_type": "code",
   "execution_count": 10,
   "id": "2a7a1d1f-5122-4456-a7b5-86798b189cb9",
   "metadata": {
    "tags": []
   },
   "outputs": [],
   "source": [
    "#L'opération ci-dessus étant très longue, on va exporter Nb_Soin pour pas avoir à refaire cette étape. On mettra sur drive la base de données\n",
    "#Nb_Soins_c.to_excel('Nb_Soins.xlsx')\n",
    "\n",
    "Nb_Soins_c.to_csv('Nb_Soins.csv')\n",
    "\n",
    "#Ouvrir la nouvelle dataframe après ré-importation locale \n",
    "#Nb_Soins = pd.read_excel('Nb_Soins.xlsx')"
   ]
  },
  {
   "cell_type": "code",
   "execution_count": 11,
   "id": "b37d31a9-c381-4bb3-bdb4-669900ef053f",
   "metadata": {
    "tags": []
   },
   "outputs": [],
   "source": [
    "#On va joindre la base des soins avec la Table_Pop\n",
    "Table_Pop = Table_Pop.merge(Nb_Soins)\n",
    "Table_Pop['NB_SOIN'] =  Table_Pop['NB_SOIN'].astype(float)"
   ]
  },
  {
   "cell_type": "markdown",
   "id": "7c226846-64f0-4e29-905c-f6078f30eb5f",
   "metadata": {},
   "source": [
    "Ainsi, on peut commencer à effectuer quelques statistiques descriptives"
   ]
  },
  {
   "cell_type": "code",
   "execution_count": 27,
   "id": "6779d4d9-7409-4c02-8f39-925fad9f9dac",
   "metadata": {
    "tags": []
   },
   "outputs": [
    {
     "data": {
      "text/html": [
       "<div>\n",
       "<style scoped>\n",
       "    .dataframe tbody tr th:only-of-type {\n",
       "        vertical-align: middle;\n",
       "    }\n",
       "\n",
       "    .dataframe tbody tr th {\n",
       "        vertical-align: top;\n",
       "    }\n",
       "\n",
       "    .dataframe thead th {\n",
       "        text-align: right;\n",
       "    }\n",
       "</style>\n",
       "<table border=\"1\" class=\"dataframe\">\n",
       "  <thead>\n",
       "    <tr style=\"text-align: right;\">\n",
       "      <th></th>\n",
       "      <th>ANTERIORITE_DISPONIBLE</th>\n",
       "      <th>SEXE</th>\n",
       "      <th>CMU</th>\n",
       "      <th>AME</th>\n",
       "      <th>DECES</th>\n",
       "      <th>AGE</th>\n",
       "      <th>TYPE_LIEU</th>\n",
       "      <th>TEMOIN</th>\n",
       "      <th>RCP_TEMOIN</th>\n",
       "      <th>ADMIS_VIVANT_HOPITAL</th>\n",
       "      <th>RYTHME_CHOQUABLE</th>\n",
       "      <th>CORO</th>\n",
       "      <th>ANN_EVT</th>\n",
       "      <th>TYPE_ASSURANCE</th>\n",
       "    </tr>\n",
       "  </thead>\n",
       "  <tbody>\n",
       "    <tr>\n",
       "      <th>count</th>\n",
       "      <td>4706.000000</td>\n",
       "      <td>4706.000000</td>\n",
       "      <td>4686.000000</td>\n",
       "      <td>4686.000000</td>\n",
       "      <td>4706.000000</td>\n",
       "      <td>4706.000000</td>\n",
       "      <td>4692.000000</td>\n",
       "      <td>4642.000000</td>\n",
       "      <td>3127.000000</td>\n",
       "      <td>4706.000000</td>\n",
       "      <td>4207.000000</td>\n",
       "      <td>1893.000000</td>\n",
       "      <td>0.0</td>\n",
       "      <td>0.0</td>\n",
       "    </tr>\n",
       "    <tr>\n",
       "      <th>mean</th>\n",
       "      <td>3485.071186</td>\n",
       "      <td>0.716107</td>\n",
       "      <td>0.147461</td>\n",
       "      <td>0.018353</td>\n",
       "      <td>0.888228</td>\n",
       "      <td>43.804098</td>\n",
       "      <td>0.355712</td>\n",
       "      <td>0.657691</td>\n",
       "      <td>0.647586</td>\n",
       "      <td>0.373991</td>\n",
       "      <td>0.293558</td>\n",
       "      <td>0.505018</td>\n",
       "      <td>NaN</td>\n",
       "      <td>NaN</td>\n",
       "    </tr>\n",
       "    <tr>\n",
       "      <th>std</th>\n",
       "      <td>940.866164</td>\n",
       "      <td>0.450933</td>\n",
       "      <td>0.354602</td>\n",
       "      <td>0.134237</td>\n",
       "      <td>0.315119</td>\n",
       "      <td>9.324248</td>\n",
       "      <td>0.478779</td>\n",
       "      <td>0.474534</td>\n",
       "      <td>0.477799</td>\n",
       "      <td>0.483913</td>\n",
       "      <td>0.455446</td>\n",
       "      <td>0.500107</td>\n",
       "      <td>NaN</td>\n",
       "      <td>NaN</td>\n",
       "    </tr>\n",
       "    <tr>\n",
       "      <th>min</th>\n",
       "      <td>1961.000000</td>\n",
       "      <td>0.000000</td>\n",
       "      <td>0.000000</td>\n",
       "      <td>0.000000</td>\n",
       "      <td>0.000000</td>\n",
       "      <td>18.015428</td>\n",
       "      <td>0.000000</td>\n",
       "      <td>0.000000</td>\n",
       "      <td>0.000000</td>\n",
       "      <td>0.000000</td>\n",
       "      <td>0.000000</td>\n",
       "      <td>0.000000</td>\n",
       "      <td>NaN</td>\n",
       "      <td>NaN</td>\n",
       "    </tr>\n",
       "    <tr>\n",
       "      <th>25%</th>\n",
       "      <td>2677.000000</td>\n",
       "      <td>0.000000</td>\n",
       "      <td>0.000000</td>\n",
       "      <td>0.000000</td>\n",
       "      <td>1.000000</td>\n",
       "      <td>38.514822</td>\n",
       "      <td>0.000000</td>\n",
       "      <td>0.000000</td>\n",
       "      <td>0.000000</td>\n",
       "      <td>0.000000</td>\n",
       "      <td>0.000000</td>\n",
       "      <td>0.000000</td>\n",
       "      <td>NaN</td>\n",
       "      <td>NaN</td>\n",
       "    </tr>\n",
       "    <tr>\n",
       "      <th>50%</th>\n",
       "      <td>3390.000000</td>\n",
       "      <td>1.000000</td>\n",
       "      <td>0.000000</td>\n",
       "      <td>0.000000</td>\n",
       "      <td>1.000000</td>\n",
       "      <td>46.517040</td>\n",
       "      <td>0.000000</td>\n",
       "      <td>1.000000</td>\n",
       "      <td>1.000000</td>\n",
       "      <td>0.000000</td>\n",
       "      <td>0.000000</td>\n",
       "      <td>1.000000</td>\n",
       "      <td>NaN</td>\n",
       "      <td>NaN</td>\n",
       "    </tr>\n",
       "    <tr>\n",
       "      <th>75%</th>\n",
       "      <td>4307.750000</td>\n",
       "      <td>1.000000</td>\n",
       "      <td>0.000000</td>\n",
       "      <td>0.000000</td>\n",
       "      <td>1.000000</td>\n",
       "      <td>51.272100</td>\n",
       "      <td>1.000000</td>\n",
       "      <td>1.000000</td>\n",
       "      <td>1.000000</td>\n",
       "      <td>1.000000</td>\n",
       "      <td>1.000000</td>\n",
       "      <td>1.000000</td>\n",
       "      <td>NaN</td>\n",
       "      <td>NaN</td>\n",
       "    </tr>\n",
       "    <tr>\n",
       "      <th>max</th>\n",
       "      <td>5248.000000</td>\n",
       "      <td>1.000000</td>\n",
       "      <td>1.000000</td>\n",
       "      <td>1.000000</td>\n",
       "      <td>1.000000</td>\n",
       "      <td>54.996338</td>\n",
       "      <td>1.000000</td>\n",
       "      <td>1.000000</td>\n",
       "      <td>1.000000</td>\n",
       "      <td>1.000000</td>\n",
       "      <td>1.000000</td>\n",
       "      <td>1.000000</td>\n",
       "      <td>NaN</td>\n",
       "      <td>NaN</td>\n",
       "    </tr>\n",
       "  </tbody>\n",
       "</table>\n",
       "</div>"
      ],
      "text/plain": [
       "       ANTERIORITE_DISPONIBLE         SEXE          CMU          AME  \\\n",
       "count             4706.000000  4706.000000  4686.000000  4686.000000   \n",
       "mean              3485.071186     0.716107     0.147461     0.018353   \n",
       "std                940.866164     0.450933     0.354602     0.134237   \n",
       "min               1961.000000     0.000000     0.000000     0.000000   \n",
       "25%               2677.000000     0.000000     0.000000     0.000000   \n",
       "50%               3390.000000     1.000000     0.000000     0.000000   \n",
       "75%               4307.750000     1.000000     0.000000     0.000000   \n",
       "max               5248.000000     1.000000     1.000000     1.000000   \n",
       "\n",
       "             DECES          AGE    TYPE_LIEU       TEMOIN   RCP_TEMOIN  \\\n",
       "count  4706.000000  4706.000000  4692.000000  4642.000000  3127.000000   \n",
       "mean      0.888228    43.804098     0.355712     0.657691     0.647586   \n",
       "std       0.315119     9.324248     0.478779     0.474534     0.477799   \n",
       "min       0.000000    18.015428     0.000000     0.000000     0.000000   \n",
       "25%       1.000000    38.514822     0.000000     0.000000     0.000000   \n",
       "50%       1.000000    46.517040     0.000000     1.000000     1.000000   \n",
       "75%       1.000000    51.272100     1.000000     1.000000     1.000000   \n",
       "max       1.000000    54.996338     1.000000     1.000000     1.000000   \n",
       "\n",
       "       ADMIS_VIVANT_HOPITAL  RYTHME_CHOQUABLE         CORO  ANN_EVT  \\\n",
       "count           4706.000000       4207.000000  1893.000000      0.0   \n",
       "mean               0.373991          0.293558     0.505018      NaN   \n",
       "std                0.483913          0.455446     0.500107      NaN   \n",
       "min                0.000000          0.000000     0.000000      NaN   \n",
       "25%                0.000000          0.000000     0.000000      NaN   \n",
       "50%                0.000000          0.000000     1.000000      NaN   \n",
       "75%                1.000000          1.000000     1.000000      NaN   \n",
       "max                1.000000          1.000000     1.000000      NaN   \n",
       "\n",
       "       TYPE_ASSURANCE  \n",
       "count             0.0  \n",
       "mean              NaN  \n",
       "std               NaN  \n",
       "min               NaN  \n",
       "25%               NaN  \n",
       "50%               NaN  \n",
       "75%               NaN  \n",
       "max               NaN  "
      ]
     },
     "execution_count": 27,
     "metadata": {},
     "output_type": "execute_result"
    }
   ],
   "source": [
    "Table_Pop.describe()"
   ]
  },
  {
   "cell_type": "markdown",
   "id": "bc18255a-62d1-4745-a4e9-39d6a8171ee9",
   "metadata": {},
   "source": [
    "On peut essayer de comparer avec des variables socio-démographiques. Par exemple, on pourrait penser que les hommes se rendent moins chez le médecin, et donc subissent moins d'actes médicaux, ou sont éventuellement sur-représentés faute de traitement de signe avant coureur. (Pb : Je sais pas si 1 correspond à homme ou femme donc je ne pourrai pas livrer une interprétation de suite)\n",
    "\n",
    "Autres idées que j'ai pas codé :\n",
    "- Régression linéraire entre nbr soin et décès\n",
    "- Lien entre présence de témoins/décès/fait d'être transporté vivant"
   ]
  },
  {
   "cell_type": "code",
   "execution_count": null,
   "id": "69503fb0-c0c2-48f2-aa74-7a291958436b",
   "metadata": {},
   "outputs": [],
   "source": [
    "df_0 = Table_Pop[Table_Pop['SEXE']==0.0]\n",
    "df_1 = Table_Pop[Table_Pop['SEXE']==1.0]\n",
    "\n",
    "df_0.describe()\n",
    "df_1.describe()"
   ]
  },
  {
   "cell_type": "markdown",
   "id": "260a902a-edf0-462f-857e-2d9a6c1334d1",
   "metadata": {},
   "source": [
    "Cependant, nous perdons l'aspect temporel avec cette manière de décrire, il faudrait indexer par les jours la fréquence de soins pour avoir une idée de leur comportement dans le temps\n",
    "\n",
    "On va donc essayer de déterminer le nombre de soins à l'approche de la date, en faisant des variables catégorielles pour ensuite représenter un histogramme. On se servira de bdtot. Idées sur : https://ichi.pro/fr/statistiques-de-base-pour-l-analyse-des-series-temporelles-en-python-84324298089781"
   ]
  },
  {
   "cell_type": "code",
   "execution_count": 5,
   "id": "d9978709-2d1c-4fad-b0a9-578d44e51e05",
   "metadata": {
    "tags": []
   },
   "outputs": [],
   "source": [
    "bdtot['DIFF_DAY'] = bdtot['DIFF_DAY'].astype(np.float64)"
   ]
  },
  {
   "cell_type": "code",
   "execution_count": 18,
   "id": "43af0b08-a440-4e22-8147-e7935d54a36f",
   "metadata": {
    "tags": []
   },
   "outputs": [
    {
     "ename": "ValueError",
     "evalue": "Plotly Express cannot process wide-form data with columns of different type.",
     "output_type": "error",
     "traceback": [
      "\u001b[0;31m---------------------------------------------------------------------------\u001b[0m",
      "\u001b[0;31mValueError\u001b[0m                                Traceback (most recent call last)",
      "Cell \u001b[0;32mIn[18], line 3\u001b[0m\n\u001b[1;32m      1\u001b[0m bdtot\u001b[38;5;241m.\u001b[39mhist()\n\u001b[1;32m      2\u001b[0m \u001b[38;5;28;01mimport\u001b[39;00m \u001b[38;5;21;01mplotly\u001b[39;00m\u001b[38;5;21;01m.\u001b[39;00m\u001b[38;5;21;01mexpress\u001b[39;00m \u001b[38;5;28;01mas\u001b[39;00m \u001b[38;5;21;01mpx\u001b[39;00m\n\u001b[0;32m----> 3\u001b[0m fig \u001b[38;5;241m=\u001b[39m \u001b[43mpx\u001b[49m\u001b[38;5;241;43m.\u001b[39;49m\u001b[43mbar\u001b[49m\u001b[43m(\u001b[49m\u001b[43mbdtot\u001b[49m\u001b[43m,\u001b[49m\u001b[43m \u001b[49m\u001b[43mbarmode\u001b[49m\u001b[43m \u001b[49m\u001b[38;5;241;43m=\u001b[39;49m\u001b[43m \u001b[49m\u001b[38;5;124;43m'\u001b[39;49m\u001b[38;5;124;43mstack\u001b[39;49m\u001b[38;5;124;43m'\u001b[39;49m\u001b[43m)\u001b[49m\n\u001b[1;32m      4\u001b[0m \u001b[38;5;66;03m#Ici ce serait pas mal de faire un graphique empilé avec des couleurs selon le type de conso de soins (hospitalière avec un code commençant par PMSI, pharmaceutique avec un code commençant par PHA)\u001b[39;00m\n\u001b[1;32m      5\u001b[0m fig\n",
      "File \u001b[0;32m/opt/mamba/lib/python3.10/site-packages/plotly/express/_chart_types.py:373\u001b[0m, in \u001b[0;36mbar\u001b[0;34m(data_frame, x, y, color, pattern_shape, facet_row, facet_col, facet_col_wrap, facet_row_spacing, facet_col_spacing, hover_name, hover_data, custom_data, text, base, error_x, error_x_minus, error_y, error_y_minus, animation_frame, animation_group, category_orders, labels, color_discrete_sequence, color_discrete_map, color_continuous_scale, pattern_shape_sequence, pattern_shape_map, range_color, color_continuous_midpoint, opacity, orientation, barmode, log_x, log_y, range_x, range_y, text_auto, title, template, width, height)\u001b[0m\n\u001b[1;32m    325\u001b[0m \u001b[38;5;28;01mdef\u001b[39;00m \u001b[38;5;21mbar\u001b[39m(\n\u001b[1;32m    326\u001b[0m     data_frame\u001b[38;5;241m=\u001b[39m\u001b[38;5;28;01mNone\u001b[39;00m,\n\u001b[1;32m    327\u001b[0m     x\u001b[38;5;241m=\u001b[39m\u001b[38;5;28;01mNone\u001b[39;00m,\n\u001b[0;32m   (...)\u001b[0m\n\u001b[1;32m    367\u001b[0m     height\u001b[38;5;241m=\u001b[39m\u001b[38;5;28;01mNone\u001b[39;00m,\n\u001b[1;32m    368\u001b[0m ) \u001b[38;5;241m-\u001b[39m\u001b[38;5;241m>\u001b[39m go\u001b[38;5;241m.\u001b[39mFigure:\n\u001b[1;32m    369\u001b[0m \u001b[38;5;250m    \u001b[39m\u001b[38;5;124;03m\"\"\"\u001b[39;00m\n\u001b[1;32m    370\u001b[0m \u001b[38;5;124;03m    In a bar plot, each row of `data_frame` is represented as a rectangular\u001b[39;00m\n\u001b[1;32m    371\u001b[0m \u001b[38;5;124;03m    mark.\u001b[39;00m\n\u001b[1;32m    372\u001b[0m \u001b[38;5;124;03m    \"\"\"\u001b[39;00m\n\u001b[0;32m--> 373\u001b[0m     \u001b[38;5;28;01mreturn\u001b[39;00m \u001b[43mmake_figure\u001b[49m\u001b[43m(\u001b[49m\n\u001b[1;32m    374\u001b[0m \u001b[43m        \u001b[49m\u001b[43margs\u001b[49m\u001b[38;5;241;43m=\u001b[39;49m\u001b[38;5;28;43mlocals\u001b[39;49m\u001b[43m(\u001b[49m\u001b[43m)\u001b[49m\u001b[43m,\u001b[49m\n\u001b[1;32m    375\u001b[0m \u001b[43m        \u001b[49m\u001b[43mconstructor\u001b[49m\u001b[38;5;241;43m=\u001b[39;49m\u001b[43mgo\u001b[49m\u001b[38;5;241;43m.\u001b[39;49m\u001b[43mBar\u001b[49m\u001b[43m,\u001b[49m\n\u001b[1;32m    376\u001b[0m \u001b[43m        \u001b[49m\u001b[43mtrace_patch\u001b[49m\u001b[38;5;241;43m=\u001b[39;49m\u001b[38;5;28;43mdict\u001b[39;49m\u001b[43m(\u001b[49m\u001b[43mtextposition\u001b[49m\u001b[38;5;241;43m=\u001b[39;49m\u001b[38;5;124;43m\"\u001b[39;49m\u001b[38;5;124;43mauto\u001b[39;49m\u001b[38;5;124;43m\"\u001b[39;49m\u001b[43m)\u001b[49m\u001b[43m,\u001b[49m\n\u001b[1;32m    377\u001b[0m \u001b[43m        \u001b[49m\u001b[43mlayout_patch\u001b[49m\u001b[38;5;241;43m=\u001b[39;49m\u001b[38;5;28;43mdict\u001b[39;49m\u001b[43m(\u001b[49m\u001b[43mbarmode\u001b[49m\u001b[38;5;241;43m=\u001b[39;49m\u001b[43mbarmode\u001b[49m\u001b[43m)\u001b[49m\u001b[43m,\u001b[49m\n\u001b[1;32m    378\u001b[0m \u001b[43m    \u001b[49m\u001b[43m)\u001b[49m\n",
      "File \u001b[0;32m/opt/mamba/lib/python3.10/site-packages/plotly/express/_core.py:1991\u001b[0m, in \u001b[0;36mmake_figure\u001b[0;34m(args, constructor, trace_patch, layout_patch)\u001b[0m\n\u001b[1;32m   1988\u001b[0m layout_patch \u001b[38;5;241m=\u001b[39m layout_patch \u001b[38;5;129;01mor\u001b[39;00m {}\n\u001b[1;32m   1989\u001b[0m apply_default_cascade(args)\n\u001b[0;32m-> 1991\u001b[0m args \u001b[38;5;241m=\u001b[39m \u001b[43mbuild_dataframe\u001b[49m\u001b[43m(\u001b[49m\u001b[43margs\u001b[49m\u001b[43m,\u001b[49m\u001b[43m \u001b[49m\u001b[43mconstructor\u001b[49m\u001b[43m)\u001b[49m\n\u001b[1;32m   1992\u001b[0m \u001b[38;5;28;01mif\u001b[39;00m constructor \u001b[38;5;129;01min\u001b[39;00m [go\u001b[38;5;241m.\u001b[39mTreemap, go\u001b[38;5;241m.\u001b[39mSunburst, go\u001b[38;5;241m.\u001b[39mIcicle] \u001b[38;5;129;01mand\u001b[39;00m args[\u001b[38;5;124m\"\u001b[39m\u001b[38;5;124mpath\u001b[39m\u001b[38;5;124m\"\u001b[39m] \u001b[38;5;129;01mis\u001b[39;00m \u001b[38;5;129;01mnot\u001b[39;00m \u001b[38;5;28;01mNone\u001b[39;00m:\n\u001b[1;32m   1993\u001b[0m     args \u001b[38;5;241m=\u001b[39m process_dataframe_hierarchy(args)\n",
      "File \u001b[0;32m/opt/mamba/lib/python3.10/site-packages/plotly/express/_core.py:1453\u001b[0m, in \u001b[0;36mbuild_dataframe\u001b[0;34m(args, constructor)\u001b[0m\n\u001b[1;32m   1451\u001b[0m         dtype \u001b[38;5;241m=\u001b[39m v_dtype\n\u001b[1;32m   1452\u001b[0m     \u001b[38;5;28;01melif\u001b[39;00m dtype \u001b[38;5;241m!=\u001b[39m v_dtype:\n\u001b[0;32m-> 1453\u001b[0m         \u001b[38;5;28;01mraise\u001b[39;00m \u001b[38;5;167;01mValueError\u001b[39;00m(\n\u001b[1;32m   1454\u001b[0m             \u001b[38;5;124m\"\u001b[39m\u001b[38;5;124mPlotly Express cannot process wide-form data with columns of different type.\u001b[39m\u001b[38;5;124m\"\u001b[39m\n\u001b[1;32m   1455\u001b[0m         )\n\u001b[1;32m   1456\u001b[0m df_output \u001b[38;5;241m=\u001b[39m df_output\u001b[38;5;241m.\u001b[39mmelt(\n\u001b[1;32m   1457\u001b[0m     id_vars\u001b[38;5;241m=\u001b[39mwide_id_vars,\n\u001b[1;32m   1458\u001b[0m     value_vars\u001b[38;5;241m=\u001b[39mwide_value_vars,\n\u001b[1;32m   1459\u001b[0m     var_name\u001b[38;5;241m=\u001b[39mvar_name,\n\u001b[1;32m   1460\u001b[0m     value_name\u001b[38;5;241m=\u001b[39mvalue_name,\n\u001b[1;32m   1461\u001b[0m )\n\u001b[1;32m   1462\u001b[0m \u001b[38;5;28;01massert\u001b[39;00m \u001b[38;5;28mlen\u001b[39m(df_output\u001b[38;5;241m.\u001b[39mcolumns) \u001b[38;5;241m==\u001b[39m \u001b[38;5;28mlen\u001b[39m(\u001b[38;5;28mset\u001b[39m(df_output\u001b[38;5;241m.\u001b[39mcolumns)), (\n\u001b[1;32m   1463\u001b[0m     \u001b[38;5;124m\"\u001b[39m\u001b[38;5;124mWide-mode name-inference failure, likely due to a internal bug. \u001b[39m\u001b[38;5;124m\"\u001b[39m\n\u001b[1;32m   1464\u001b[0m     \u001b[38;5;124m\"\u001b[39m\u001b[38;5;124mPlease report this to \u001b[39m\u001b[38;5;124m\"\u001b[39m\n\u001b[1;32m   1465\u001b[0m     \u001b[38;5;124m\"\u001b[39m\u001b[38;5;124mhttps://github.com/plotly/plotly.py/issues/new and we will try to \u001b[39m\u001b[38;5;124m\"\u001b[39m\n\u001b[1;32m   1466\u001b[0m     \u001b[38;5;124m\"\u001b[39m\u001b[38;5;124mreplicate and fix it.\u001b[39m\u001b[38;5;124m\"\u001b[39m\n\u001b[1;32m   1467\u001b[0m )\n",
      "\u001b[0;31mValueError\u001b[0m: Plotly Express cannot process wide-form data with columns of different type."
     ]
    },
    {
     "data": {
      "image/png": "[encoded data removed]",
      "text/plain": [
       "<Figure size 640x480 with 1 Axes>"
      ]
     },
     "metadata": {},
     "output_type": "display_data"
    }
   ],
   "source": [
    "bdtot.hist()\n",
    "import plotly.express as px\n",
    "fig = px.bar(bdtot, barmode = 'stack')\n",
    "#Ici ce serait pas mal de faire un graphique empilé avec des couleurs selon le type de conso de soins (hospitalière avec un code commençant par PMSI, pharmaceutique avec un code commençant par PHA)"
   ]
  },
  {
   "cell_type": "code",
   "execution_count": 8,
   "id": "eafb7f7b-33bb-4aff-a259-ac5933195258",
   "metadata": {
    "tags": []
   },
   "outputs": [
    {
     "data": {
      "text/plain": [
       "0.0   -1824.0\n",
       "0.1   -1694.0\n",
       "0.2   -1549.0\n",
       "0.3   -1403.0\n",
       "0.4   -1249.0\n",
       "0.5   -1089.0\n",
       "0.6    -900.0\n",
       "0.7    -702.0\n",
       "0.8    -492.0\n",
       "0.9    -251.0\n",
       "1.0      -1.0\n",
       "Name: DIFF_DAY, dtype: float64"
      ]
     },
     "execution_count": 8,
     "metadata": {},
     "output_type": "execute_result"
    }
   ],
   "source": [
    "bdtot['DIFF_DAY'].quantile(q =[0,0.1,0.2,0.3,0.4,0.5,0.6,0.7,0.8,0.9,1]) #On détermine les déciles pour créer des catégories"
   ]
  },
  {
   "cell_type": "markdown",
   "id": "979ad683-7d6d-4ad6-abef-55db757a7409",
   "metadata": {},
   "source": [
    "Nous allons donc créer des catégories à partir de ces valeurs."
   ]
  },
  {
   "cell_type": "code",
   "execution_count": 9,
   "id": "12ca13ee-9005-48d7-a264-53fe5b729f1c",
   "metadata": {
    "tags": []
   },
   "outputs": [],
   "source": [
    "bdtot_c = bdtot.copy() #On conserve une copie"
   ]
  },
  {
   "cell_type": "code",
   "execution_count": 10,
   "id": "adec3ac7-6b50-4637-9a23-07ab6f035336",
   "metadata": {
    "tags": []
   },
   "outputs": [],
   "source": [
    "bdtot_c['DIFF_DAY'] = pd.cut(bdtot_c['DIFF_DAY'], 10)"
   ]
  },
  {
   "cell_type": "code",
   "execution_count": null,
   "id": "bc86d733-95ea-4a99-b0f4-5a34e8a78b94",
   "metadata": {},
   "outputs": [],
   "source": []
  },
  {
   "cell_type": "code",
   "execution_count": 12,
   "id": "a60b314a-34e7-4602-a34d-e74c4a17d075",
   "metadata": {
    "tags": []
   },
   "outputs": [
    {
     "data": {
      "text/html": [
       "<div>\n",
       "<style scoped>\n",
       "    .dataframe tbody tr th:only-of-type {\n",
       "        vertical-align: middle;\n",
       "    }\n",
       "\n",
       "    .dataframe tbody tr th {\n",
       "        vertical-align: top;\n",
       "    }\n",
       "\n",
       "    .dataframe thead th {\n",
       "        text-align: right;\n",
       "    }\n",
       "</style>\n",
       "<table border=\"1\" class=\"dataframe\">\n",
       "  <thead>\n",
       "    <tr style=\"text-align: right;\">\n",
       "      <th></th>\n",
       "      <th>TPS</th>\n",
       "      <th>NB_SOIN</th>\n",
       "    </tr>\n",
       "  </thead>\n",
       "  <tbody>\n",
       "    <tr>\n",
       "      <th>0</th>\n",
       "      <td>0</td>\n",
       "      <td>0</td>\n",
       "    </tr>\n",
       "    <tr>\n",
       "      <th>0</th>\n",
       "      <td>(-1459.4, -1277.1]</td>\n",
       "      <td>21103</td>\n",
       "    </tr>\n",
       "    <tr>\n",
       "      <th>0</th>\n",
       "      <td>(-365.6, -183.3]</td>\n",
       "      <td>12679</td>\n",
       "    </tr>\n",
       "    <tr>\n",
       "      <th>0</th>\n",
       "      <td>(-1641.7, -1459.4]</td>\n",
       "      <td>22094</td>\n",
       "    </tr>\n",
       "    <tr>\n",
       "      <th>0</th>\n",
       "      <td>(-547.9, -365.6]</td>\n",
       "      <td>13729</td>\n",
       "    </tr>\n",
       "    <tr>\n",
       "      <th>0</th>\n",
       "      <td>(-183.3, -1.0]</td>\n",
       "      <td>12630</td>\n",
       "    </tr>\n",
       "    <tr>\n",
       "      <th>0</th>\n",
       "      <td>(-1094.8, -912.5]</td>\n",
       "      <td>16882</td>\n",
       "    </tr>\n",
       "    <tr>\n",
       "      <th>0</th>\n",
       "      <td>(-912.5, -730.2]</td>\n",
       "      <td>15924</td>\n",
       "    </tr>\n",
       "    <tr>\n",
       "      <th>0</th>\n",
       "      <td>(-1825.823, -1641.7]</td>\n",
       "      <td>23674</td>\n",
       "    </tr>\n",
       "    <tr>\n",
       "      <th>0</th>\n",
       "      <td>(-1277.1, -1094.8]</td>\n",
       "      <td>20068</td>\n",
       "    </tr>\n",
       "    <tr>\n",
       "      <th>0</th>\n",
       "      <td>(-730.2, -547.9]</td>\n",
       "      <td>16186</td>\n",
       "    </tr>\n",
       "  </tbody>\n",
       "</table>\n",
       "</div>"
      ],
      "text/plain": [
       "                    TPS NB_SOIN\n",
       "0                     0       0\n",
       "0    (-1459.4, -1277.1]   21103\n",
       "0      (-365.6, -183.3]   12679\n",
       "0    (-1641.7, -1459.4]   22094\n",
       "0      (-547.9, -365.6]   13729\n",
       "0        (-183.3, -1.0]   12630\n",
       "0     (-1094.8, -912.5]   16882\n",
       "0      (-912.5, -730.2]   15924\n",
       "0  (-1825.823, -1641.7]   23674\n",
       "0    (-1277.1, -1094.8]   20068\n",
       "0      (-730.2, -547.9]   16186"
      ]
     },
     "execution_count": 12,
     "metadata": {},
     "output_type": "execute_result"
    }
   ],
   "source": [
    "ar = np.array([0, 0]) #Première ligne arbitraire\n",
    "Nb_Soins = pd.DataFrame(ar) #Conversion de la matrice en DataFrame\n",
    "Nb_Soins = Nb_Soins.transpose()\n",
    "Nb_Soins.columns = ['TPS', 'NB_SOIN'] #On nomme les colonnes'''\n",
    "liste = list(set(list(bdtot_c['DIFF_DAY'])))\n",
    "\n",
    "\n",
    " \n",
    "#On va maintenant chercher à associer à chaque enquêté le nombre de soin reçu.\n",
    "#Calcul des soins par personnes et création d'une dataframe qui associe au numéro le nombre de soin\n",
    "for elem in liste:\n",
    "    c = 0 #Ce sera notre compteur d'itération\n",
    "    for val in bdtot_c['DIFF_DAY']:\n",
    "        if elem==val:\n",
    "            c = c+1\n",
    "    ar_temp = np.array([elem, c])\n",
    "    df_temp = pd.DataFrame(ar_temp)\n",
    "    df_temp = df_temp.transpose()\n",
    "    df_temp.columns = ['TPS', 'NB_SOIN']\n",
    "    Nb_Soins = pd.concat([Nb_Soins, df_temp])\n",
    "\n",
    "Nb_Soins"
   ]
  },
  {
   "cell_type": "code",
   "execution_count": 39,
   "id": "f1725020-e746-4e86-a17a-f020fb84d014",
   "metadata": {
    "tags": []
   },
   "outputs": [],
   "source": [
    "Nb_Soins_c = Nb_Soins.copy()\n",
    "Nb_Soins_c = Nb_Soins_c[Nb_Soins_c['TPS']!=0] "
   ]
  },
  {
   "cell_type": "code",
   "execution_count": 40,
   "id": "1866914a-70fb-4d1b-b321-66725f677427",
   "metadata": {
    "tags": []
   },
   "outputs": [],
   "source": [
    "Nb_Soins_c['NB_SOIN']=Nb_Soins_c['NB_SOIN'].astype(np.float64)"
   ]
  },
  {
   "cell_type": "code",
   "execution_count": 44,
   "id": "2253ea09-c2de-48f4-bc4f-6cc1c5cd8e52",
   "metadata": {
    "tags": []
   },
   "outputs": [
    {
     "data": {
      "application/vnd.plotly.v1+json": {
       "config": {
        "plotlyServerURL": "https://plot.ly"
       },
       "data": [
        {
         "alignmentgroup": "True",
         "hovertemplate": "<extra></extra>",
         "legendgroup": "",
         "marker": {
          "color": "#636efa",
          "pattern": {
           "shape": ""
          }
         },
         "name": "",
         "offsetgroup": "",
         "orientation": "v",
         "showlegend": false,
         "textposition": "auto",
         "type": "bar",
         "xaxis": "x",
         "yaxis": "y"
        }
       ],
       "layout": {
        "autosize": true,
        "barmode": "relative",
        "legend": {
         "tracegroupgap": 0
        },
        "margin": {
         "t": 60
        },
        "template": {
         "data": {
          "bar": [
           {
            "error_x": {
             "color": "#2a3f5f"
            },
            "error_y": {
             "color": "#2a3f5f"
            },
            "marker": {
             "line": {
              "color": "#E5ECF6",
              "width": 0.5
             },
             "pattern": {
              "fillmode": "overlay",
              "size": 10,
              "solidity": 0.2
             }
            },
            "type": "bar"
           }
          ],
          "barpolar": [
           {
            "marker": {
             "line": {
              "color": "#E5ECF6",
              "width": 0.5
             },
             "pattern": {
              "fillmode": "overlay",
              "size": 10,
              "solidity": 0.2
             }
            },
            "type": "barpolar"
           }
          ],
          "carpet": [
           {
            "aaxis": {
             "endlinecolor": "#2a3f5f",
             "gridcolor": "white",
             "linecolor": "white",
             "minorgridcolor": "white",
             "startlinecolor": "#2a3f5f"
            },
            "baxis": {
             "endlinecolor": "#2a3f5f",
             "gridcolor": "white",
             "linecolor": "white",
             "minorgridcolor": "white",
             "startlinecolor": "#2a3f5f"
            },
            "type": "carpet"
           }
          ],
          "choropleth": [
           {
            "colorbar": {
             "outlinewidth": 0,
             "ticks": ""
            },
            "type": "choropleth"
           }
          ],
          "contour": [
           {
            "colorbar": {
             "outlinewidth": 0,
             "ticks": ""
            },
            "colorscale": [
             [
              0,
              "#0d0887"
             ],
             [
              0.1111111111111111,
              "#46039f"
             ],
             [
              0.2222222222222222,
              "#7201a8"
             ],
             [
              0.3333333333333333,
              "#9c179e"
             ],
             [
              0.4444444444444444,
              "#bd3786"
             ],
             [
              0.5555555555555556,
              "#d8576b"
             ],
             [
              0.6666666666666666,
              "#ed7953"
             ],
             [
              0.7777777777777778,
              "#fb9f3a"
             ],
             [
              0.8888888888888888,
              "#fdca26"
             ],
             [
              1,
              "#f0f921"
             ]
            ],
            "type": "contour"
           }
          ],
          "contourcarpet": [
           {
            "colorbar": {
             "outlinewidth": 0,
             "ticks": ""
            },
            "type": "contourcarpet"
           }
          ],
          "heatmap": [
           {
            "colorbar": {
             "outlinewidth": 0,
             "ticks": ""
            },
            "colorscale": [
             [
              0,
              "#0d0887"
             ],
             [
              0.1111111111111111,
              "#46039f"
             ],
             [
              0.2222222222222222,
              "#7201a8"
             ],
             [
              0.3333333333333333,
              "#9c179e"
             ],
             [
              0.4444444444444444,
              "#bd3786"
             ],
             [
              0.5555555555555556,
              "#d8576b"
             ],
             [
              0.6666666666666666,
              "#ed7953"
             ],
             [
              0.7777777777777778,
              "#fb9f3a"
             ],
             [
              0.8888888888888888,
              "#fdca26"
             ],
             [
              1,
              "#f0f921"
             ]
            ],
            "type": "heatmap"
           }
          ],
          "heatmapgl": [
           {
            "colorbar": {
             "outlinewidth": 0,
             "ticks": ""
            },
            "colorscale": [
             [
              0,
              "#0d0887"
             ],
             [
              0.1111111111111111,
              "#46039f"
             ],
             [
              0.2222222222222222,
              "#7201a8"
             ],
             [
              0.3333333333333333,
              "#9c179e"
             ],
             [
              0.4444444444444444,
              "#bd3786"
             ],
             [
              0.5555555555555556,
              "#d8576b"
             ],
             [
              0.6666666666666666,
              "#ed7953"
             ],
             [
              0.7777777777777778,
              "#fb9f3a"
             ],
             [
              0.8888888888888888,
              "#fdca26"
             ],
             [
              1,
              "#f0f921"
             ]
            ],
            "type": "heatmapgl"
           }
          ],
          "histogram": [
           {
            "marker": {
             "pattern": {
              "fillmode": "overlay",
              "size": 10,
              "solidity": 0.2
             }
            },
            "type": "histogram"
           }
          ],
          "histogram2d": [
           {
            "colorbar": {
             "outlinewidth": 0,
             "ticks": ""
            },
            "colorscale": [
             [
              0,
              "#0d0887"
             ],
             [
              0.1111111111111111,
              "#46039f"
             ],
             [
              0.2222222222222222,
              "#7201a8"
             ],
             [
              0.3333333333333333,
              "#9c179e"
             ],
             [
              0.4444444444444444,
              "#bd3786"
             ],
             [
              0.5555555555555556,
              "#d8576b"
             ],
             [
              0.6666666666666666,
              "#ed7953"
             ],
             [
              0.7777777777777778,
              "#fb9f3a"
             ],
             [
              0.8888888888888888,
              "#fdca26"
             ],
             [
              1,
              "#f0f921"
             ]
            ],
            "type": "histogram2d"
           }
          ],
          "histogram2dcontour": [
           {
            "colorbar": {
             "outlinewidth": 0,
             "ticks": ""
            },
            "colorscale": [
             [
              0,
              "#0d0887"
             ],
             [
              0.1111111111111111,
              "#46039f"
             ],
             [
              0.2222222222222222,
              "#7201a8"
             ],
             [
              0.3333333333333333,
              "#9c179e"
             ],
             [
              0.4444444444444444,
              "#bd3786"
             ],
             [
              0.5555555555555556,
              "#d8576b"
             ],
             [
              0.6666666666666666,
              "#ed7953"
             ],
             [
              0.7777777777777778,
              "#fb9f3a"
             ],
             [
              0.8888888888888888,
              "#fdca26"
             ],
             [
              1,
              "#f0f921"
             ]
            ],
            "type": "histogram2dcontour"
           }
          ],
          "mesh3d": [
           {
            "colorbar": {
             "outlinewidth": 0,
             "ticks": ""
            },
            "type": "mesh3d"
           }
          ],
          "parcoords": [
           {
            "line": {
             "colorbar": {
              "outlinewidth": 0,
              "ticks": ""
             }
            },
            "type": "parcoords"
           }
          ],
          "pie": [
           {
            "automargin": true,
            "type": "pie"
           }
          ],
          "scatter": [
           {
            "fillpattern": {
             "fillmode": "overlay",
             "size": 10,
             "solidity": 0.2
            },
            "type": "scatter"
           }
          ],
          "scatter3d": [
           {
            "line": {
             "colorbar": {
              "outlinewidth": 0,
              "ticks": ""
             }
            },
            "marker": {
             "colorbar": {
              "outlinewidth": 0,
              "ticks": ""
             }
            },
            "type": "scatter3d"
           }
          ],
          "scattercarpet": [
           {
            "marker": {
             "colorbar": {
              "outlinewidth": 0,
              "ticks": ""
             }
            },
            "type": "scattercarpet"
           }
          ],
          "scattergeo": [
           {
            "marker": {
             "colorbar": {
              "outlinewidth": 0,
              "ticks": ""
             }
            },
            "type": "scattergeo"
           }
          ],
          "scattergl": [
           {
            "marker": {
             "colorbar": {
              "outlinewidth": 0,
              "ticks": ""
             }
            },
            "type": "scattergl"
           }
          ],
          "scattermapbox": [
           {
            "marker": {
             "colorbar": {
              "outlinewidth": 0,
              "ticks": ""
             }
            },
            "type": "scattermapbox"
           }
          ],
          "scatterpolar": [
           {
            "marker": {
             "colorbar": {
              "outlinewidth": 0,
              "ticks": ""
             }
            },
            "type": "scatterpolar"
           }
          ],
          "scatterpolargl": [
           {
            "marker": {
             "colorbar": {
              "outlinewidth": 0,
              "ticks": ""
             }
            },
            "type": "scatterpolargl"
           }
          ],
          "scatterternary": [
           {
            "marker": {
             "colorbar": {
              "outlinewidth": 0,
              "ticks": ""
             }
            },
            "type": "scatterternary"
           }
          ],
          "surface": [
           {
            "colorbar": {
             "outlinewidth": 0,
             "ticks": ""
            },
            "colorscale": [
             [
              0,
              "#0d0887"
             ],
             [
              0.1111111111111111,
              "#46039f"
             ],
             [
              0.2222222222222222,
              "#7201a8"
             ],
             [
              0.3333333333333333,
              "#9c179e"
             ],
             [
              0.4444444444444444,
              "#bd3786"
             ],
             [
              0.5555555555555556,
              "#d8576b"
             ],
             [
              0.6666666666666666,
              "#ed7953"
             ],
             [
              0.7777777777777778,
              "#fb9f3a"
             ],
             [
              0.8888888888888888,
              "#fdca26"
             ],
             [
              1,
              "#f0f921"
             ]
            ],
            "type": "surface"
           }
          ],
          "table": [
           {
            "cells": {
             "fill": {
              "color": "#EBF0F8"
             },
             "line": {
              "color": "white"
             }
            },
            "header": {
             "fill": {
              "color": "#C8D4E3"
             },
             "line": {
              "color": "white"
             }
            },
            "type": "table"
           }
          ]
         },
         "layout": {
          "annotationdefaults": {
           "arrowcolor": "#2a3f5f",
           "arrowhead": 0,
           "arrowwidth": 1
          },
          "autotypenumbers": "strict",
          "coloraxis": {
           "colorbar": {
            "outlinewidth": 0,
            "ticks": ""
           }
          },
          "colorscale": {
           "diverging": [
            [
             0,
             "#8e0152"
            ],
            [
             0.1,
             "#c51b7d"
            ],
            [
             0.2,
             "#de77ae"
            ],
            [
             0.3,
             "#f1b6da"
            ],
            [
             0.4,
             "#fde0ef"
            ],
            [
             0.5,
             "#f7f7f7"
            ],
            [
             0.6,
             "#e6f5d0"
            ],
            [
             0.7,
             "#b8e186"
            ],
            [
             0.8,
             "#7fbc41"
            ],
            [
             0.9,
             "#4d9221"
            ],
            [
             1,
             "#276419"
            ]
           ],
           "sequential": [
            [
             0,
             "#0d0887"
            ],
            [
             0.1111111111111111,
             "#46039f"
            ],
            [
             0.2222222222222222,
             "#7201a8"
            ],
            [
             0.3333333333333333,
             "#9c179e"
            ],
            [
             0.4444444444444444,
             "#bd3786"
            ],
            [
             0.5555555555555556,
             "#d8576b"
            ],
            [
             0.6666666666666666,
             "#ed7953"
            ],
            [
             0.7777777777777778,
             "#fb9f3a"
            ],
            [
             0.8888888888888888,
             "#fdca26"
            ],
            [
             1,
             "#f0f921"
            ]
           ],
           "sequentialminus": [
            [
             0,
             "#0d0887"
            ],
            [
             0.1111111111111111,
             "#46039f"
            ],
            [
             0.2222222222222222,
             "#7201a8"
            ],
            [
             0.3333333333333333,
             "#9c179e"
            ],
            [
             0.4444444444444444,
             "#bd3786"
            ],
            [
             0.5555555555555556,
             "#d8576b"
            ],
            [
             0.6666666666666666,
             "#ed7953"
            ],
            [
             0.7777777777777778,
             "#fb9f3a"
            ],
            [
             0.8888888888888888,
             "#fdca26"
            ],
            [
             1,
             "#f0f921"
            ]
           ]
          },
          "colorway": [
           "#636efa",
           "#EF553B",
           "#00cc96",
           "#ab63fa",
           "#FFA15A",
           "#19d3f3",
           "#FF6692",
           "#B6E880",
           "#FF97FF",
           "#FECB52"
          ],
          "font": {
           "color": "#2a3f5f"
          },
          "geo": {
           "bgcolor": "white",
           "lakecolor": "white",
           "landcolor": "#E5ECF6",
           "showlakes": true,
           "showland": true,
           "subunitcolor": "white"
          },
          "hoverlabel": {
           "align": "left"
          },
          "hovermode": "closest",
          "mapbox": {
           "style": "light"
          },
          "paper_bgcolor": "white",
          "plot_bgcolor": "#E5ECF6",
          "polar": {
           "angularaxis": {
            "gridcolor": "white",
            "linecolor": "white",
            "ticks": ""
           },
           "bgcolor": "#E5ECF6",
           "radialaxis": {
            "gridcolor": "white",
            "linecolor": "white",
            "ticks": ""
           }
          },
          "scene": {
           "xaxis": {
            "backgroundcolor": "#E5ECF6",
            "gridcolor": "white",
            "gridwidth": 2,
            "linecolor": "white",
            "showbackground": true,
            "ticks": "",
            "zerolinecolor": "white"
           },
           "yaxis": {
            "backgroundcolor": "#E5ECF6",
            "gridcolor": "white",
            "gridwidth": 2,
            "linecolor": "white",
            "showbackground": true,
            "ticks": "",
            "zerolinecolor": "white"
           },
           "zaxis": {
            "backgroundcolor": "#E5ECF6",
            "gridcolor": "white",
            "gridwidth": 2,
            "linecolor": "white",
            "showbackground": true,
            "ticks": "",
            "zerolinecolor": "white"
           }
          },
          "shapedefaults": {
           "line": {
            "color": "#2a3f5f"
           }
          },
          "ternary": {
           "aaxis": {
            "gridcolor": "white",
            "linecolor": "white",
            "ticks": ""
           },
           "baxis": {
            "gridcolor": "white",
            "linecolor": "white",
            "ticks": ""
           },
           "bgcolor": "#E5ECF6",
           "caxis": {
            "gridcolor": "white",
            "linecolor": "white",
            "ticks": ""
           }
          },
          "title": {
           "x": 0.05
          },
          "xaxis": {
           "automargin": true,
           "gridcolor": "white",
           "linecolor": "white",
           "ticks": "",
           "title": {
            "standoff": 15
           },
           "zerolinecolor": "white",
           "zerolinewidth": 2
          },
          "yaxis": {
           "automargin": true,
           "gridcolor": "white",
           "linecolor": "white",
           "ticks": "",
           "title": {
            "standoff": 15
           },
           "zerolinecolor": "white",
           "zerolinewidth": 2
          }
         }
        },
        "xaxis": {
         "anchor": "y",
         "autorange": true,
         "domain": [
          0,
          1
         ],
         "range": [
          -1,
          6
         ]
        },
        "yaxis": {
         "anchor": "x",
         "autorange": true,
         "domain": [
          0,
          1
         ],
         "range": [
          -1,
          4
         ]
        }
       }
      },
      "image/png": "[encoded data removed]",
      "text/html": [
       "<div>                            <div id=\"c383444b-f391-4796-91b8-155e9b8ec675\" class=\"plotly-graph-div\" style=\"height:525px; width:100%;\"></div>            <script type=\"text/javascript\">                require([\"plotly\"], function(Plotly) {                    window.PLOTLYENV=window.PLOTLYENV || {};                                    if (document.getElementById(\"c383444b-f391-4796-91b8-155e9b8ec675\")) {                    Plotly.newPlot(                        \"c383444b-f391-4796-91b8-155e9b8ec675\",                        [{\"alignmentgroup\":\"True\",\"hovertemplate\":\"<extra></extra>\",\"legendgroup\":\"\",\"marker\":{\"color\":\"#636efa\",\"pattern\":{\"shape\":\"\"}},\"name\":\"\",\"offsetgroup\":\"\",\"orientation\":\"v\",\"showlegend\":false,\"textposition\":\"auto\",\"xaxis\":\"x\",\"yaxis\":\"y\",\"type\":\"bar\"}],                        {\"template\":{\"data\":{\"histogram2dcontour\":[{\"type\":\"histogram2dcontour\",\"colorbar\":{\"outlinewidth\":0,\"ticks\":\"\"},\"colorscale\":[[0.0,\"#0d0887\"],[0.1111111111111111,\"#46039f\"],[0.2222222222222222,\"#7201a8\"],[0.3333333333333333,\"#9c179e\"],[0.4444444444444444,\"#bd3786\"],[0.5555555555555556,\"#d8576b\"],[0.6666666666666666,\"#ed7953\"],[0.7777777777777778,\"#fb9f3a\"],[0.8888888888888888,\"#fdca26\"],[1.0,\"#f0f921\"]]}],\"choropleth\":[{\"type\":\"choropleth\",\"colorbar\":{\"outlinewidth\":0,\"ticks\":\"\"}}],\"histogram2d\":[{\"type\":\"histogram2d\",\"colorbar\":{\"outlinewidth\":0,\"ticks\":\"\"},\"colorscale\":[[0.0,\"#0d0887\"],[0.1111111111111111,\"#46039f\"],[0.2222222222222222,\"#7201a8\"],[0.3333333333333333,\"#9c179e\"],[0.4444444444444444,\"#bd3786\"],[0.5555555555555556,\"#d8576b\"],[0.6666666666666666,\"#ed7953\"],[0.7777777777777778,\"#fb9f3a\"],[0.8888888888888888,\"#fdca26\"],[1.0,\"#f0f921\"]]}],\"heatmap\":[{\"type\":\"heatmap\",\"colorbar\":{\"outlinewidth\":0,\"ticks\":\"\"},\"colorscale\":[[0.0,\"#0d0887\"],[0.1111111111111111,\"#46039f\"],[0.2222222222222222,\"#7201a8\"],[0.3333333333333333,\"#9c179e\"],[0.4444444444444444,\"#bd3786\"],[0.5555555555555556,\"#d8576b\"],[0.6666666666666666,\"#ed7953\"],[0.7777777777777778,\"#fb9f3a\"],[0.8888888888888888,\"#fdca26\"],[1.0,\"#f0f921\"]]}],\"heatmapgl\":[{\"type\":\"heatmapgl\",\"colorbar\":{\"outlinewidth\":0,\"ticks\":\"\"},\"colorscale\":[[0.0,\"#0d0887\"],[0.1111111111111111,\"#46039f\"],[0.2222222222222222,\"#7201a8\"],[0.3333333333333333,\"#9c179e\"],[0.4444444444444444,\"#bd3786\"],[0.5555555555555556,\"#d8576b\"],[0.6666666666666666,\"#ed7953\"],[0.7777777777777778,\"#fb9f3a\"],[0.8888888888888888,\"#fdca26\"],[1.0,\"#f0f921\"]]}],\"contourcarpet\":[{\"type\":\"contourcarpet\",\"colorbar\":{\"outlinewidth\":0,\"ticks\":\"\"}}],\"contour\":[{\"type\":\"contour\",\"colorbar\":{\"outlinewidth\":0,\"ticks\":\"\"},\"colorscale\":[[0.0,\"#0d0887\"],[0.1111111111111111,\"#46039f\"],[0.2222222222222222,\"#7201a8\"],[0.3333333333333333,\"#9c179e\"],[0.4444444444444444,\"#bd3786\"],[0.5555555555555556,\"#d8576b\"],[0.6666666666666666,\"#ed7953\"],[0.7777777777777778,\"#fb9f3a\"],[0.8888888888888888,\"#fdca26\"],[1.0,\"#f0f921\"]]}],\"surface\":[{\"type\":\"surface\",\"colorbar\":{\"outlinewidth\":0,\"ticks\":\"\"},\"colorscale\":[[0.0,\"#0d0887\"],[0.1111111111111111,\"#46039f\"],[0.2222222222222222,\"#7201a8\"],[0.3333333333333333,\"#9c179e\"],[0.4444444444444444,\"#bd3786\"],[0.5555555555555556,\"#d8576b\"],[0.6666666666666666,\"#ed7953\"],[0.7777777777777778,\"#fb9f3a\"],[0.8888888888888888,\"#fdca26\"],[1.0,\"#f0f921\"]]}],\"mesh3d\":[{\"type\":\"mesh3d\",\"colorbar\":{\"outlinewidth\":0,\"ticks\":\"\"}}],\"scatter\":[{\"fillpattern\":{\"fillmode\":\"overlay\",\"size\":10,\"solidity\":0.2},\"type\":\"scatter\"}],\"parcoords\":[{\"type\":\"parcoords\",\"line\":{\"colorbar\":{\"outlinewidth\":0,\"ticks\":\"\"}}}],\"scatterpolargl\":[{\"type\":\"scatterpolargl\",\"marker\":{\"colorbar\":{\"outlinewidth\":0,\"ticks\":\"\"}}}],\"bar\":[{\"error_x\":{\"color\":\"#2a3f5f\"},\"error_y\":{\"color\":\"#2a3f5f\"},\"marker\":{\"line\":{\"color\":\"#E5ECF6\",\"width\":0.5},\"pattern\":{\"fillmode\":\"overlay\",\"size\":10,\"solidity\":0.2}},\"type\":\"bar\"}],\"scattergeo\":[{\"type\":\"scattergeo\",\"marker\":{\"colorbar\":{\"outlinewidth\":0,\"ticks\":\"\"}}}],\"scatterpolar\":[{\"type\":\"scatterpolar\",\"marker\":{\"colorbar\":{\"outlinewidth\":0,\"ticks\":\"\"}}}],\"histogram\":[{\"marker\":{\"pattern\":{\"fillmode\":\"overlay\",\"size\":10,\"solidity\":0.2}},\"type\":\"histogram\"}],\"scattergl\":[{\"type\":\"scattergl\",\"marker\":{\"colorbar\":{\"outlinewidth\":0,\"ticks\":\"\"}}}],\"scatter3d\":[{\"type\":\"scatter3d\",\"line\":{\"colorbar\":{\"outlinewidth\":0,\"ticks\":\"\"}},\"marker\":{\"colorbar\":{\"outlinewidth\":0,\"ticks\":\"\"}}}],\"scattermapbox\":[{\"type\":\"scattermapbox\",\"marker\":{\"colorbar\":{\"outlinewidth\":0,\"ticks\":\"\"}}}],\"scatterternary\":[{\"type\":\"scatterternary\",\"marker\":{\"colorbar\":{\"outlinewidth\":0,\"ticks\":\"\"}}}],\"scattercarpet\":[{\"type\":\"scattercarpet\",\"marker\":{\"colorbar\":{\"outlinewidth\":0,\"ticks\":\"\"}}}],\"carpet\":[{\"aaxis\":{\"endlinecolor\":\"#2a3f5f\",\"gridcolor\":\"white\",\"linecolor\":\"white\",\"minorgridcolor\":\"white\",\"startlinecolor\":\"#2a3f5f\"},\"baxis\":{\"endlinecolor\":\"#2a3f5f\",\"gridcolor\":\"white\",\"linecolor\":\"white\",\"minorgridcolor\":\"white\",\"startlinecolor\":\"#2a3f5f\"},\"type\":\"carpet\"}],\"table\":[{\"cells\":{\"fill\":{\"color\":\"#EBF0F8\"},\"line\":{\"color\":\"white\"}},\"header\":{\"fill\":{\"color\":\"#C8D4E3\"},\"line\":{\"color\":\"white\"}},\"type\":\"table\"}],\"barpolar\":[{\"marker\":{\"line\":{\"color\":\"#E5ECF6\",\"width\":0.5},\"pattern\":{\"fillmode\":\"overlay\",\"size\":10,\"solidity\":0.2}},\"type\":\"barpolar\"}],\"pie\":[{\"automargin\":true,\"type\":\"pie\"}]},\"layout\":{\"autotypenumbers\":\"strict\",\"colorway\":[\"#636efa\",\"#EF553B\",\"#00cc96\",\"#ab63fa\",\"#FFA15A\",\"#19d3f3\",\"#FF6692\",\"#B6E880\",\"#FF97FF\",\"#FECB52\"],\"font\":{\"color\":\"#2a3f5f\"},\"hovermode\":\"closest\",\"hoverlabel\":{\"align\":\"left\"},\"paper_bgcolor\":\"white\",\"plot_bgcolor\":\"#E5ECF6\",\"polar\":{\"bgcolor\":\"#E5ECF6\",\"angularaxis\":{\"gridcolor\":\"white\",\"linecolor\":\"white\",\"ticks\":\"\"},\"radialaxis\":{\"gridcolor\":\"white\",\"linecolor\":\"white\",\"ticks\":\"\"}},\"ternary\":{\"bgcolor\":\"#E5ECF6\",\"aaxis\":{\"gridcolor\":\"white\",\"linecolor\":\"white\",\"ticks\":\"\"},\"baxis\":{\"gridcolor\":\"white\",\"linecolor\":\"white\",\"ticks\":\"\"},\"caxis\":{\"gridcolor\":\"white\",\"linecolor\":\"white\",\"ticks\":\"\"}},\"coloraxis\":{\"colorbar\":{\"outlinewidth\":0,\"ticks\":\"\"}},\"colorscale\":{\"sequential\":[[0.0,\"#0d0887\"],[0.1111111111111111,\"#46039f\"],[0.2222222222222222,\"#7201a8\"],[0.3333333333333333,\"#9c179e\"],[0.4444444444444444,\"#bd3786\"],[0.5555555555555556,\"#d8576b\"],[0.6666666666666666,\"#ed7953\"],[0.7777777777777778,\"#fb9f3a\"],[0.8888888888888888,\"#fdca26\"],[1.0,\"#f0f921\"]],\"sequentialminus\":[[0.0,\"#0d0887\"],[0.1111111111111111,\"#46039f\"],[0.2222222222222222,\"#7201a8\"],[0.3333333333333333,\"#9c179e\"],[0.4444444444444444,\"#bd3786\"],[0.5555555555555556,\"#d8576b\"],[0.6666666666666666,\"#ed7953\"],[0.7777777777777778,\"#fb9f3a\"],[0.8888888888888888,\"#fdca26\"],[1.0,\"#f0f921\"]],\"diverging\":[[0,\"#8e0152\"],[0.1,\"#c51b7d\"],[0.2,\"#de77ae\"],[0.3,\"#f1b6da\"],[0.4,\"#fde0ef\"],[0.5,\"#f7f7f7\"],[0.6,\"#e6f5d0\"],[0.7,\"#b8e186\"],[0.8,\"#7fbc41\"],[0.9,\"#4d9221\"],[1,\"#276419\"]]},\"xaxis\":{\"gridcolor\":\"white\",\"linecolor\":\"white\",\"ticks\":\"\",\"title\":{\"standoff\":15},\"zerolinecolor\":\"white\",\"automargin\":true,\"zerolinewidth\":2},\"yaxis\":{\"gridcolor\":\"white\",\"linecolor\":\"white\",\"ticks\":\"\",\"title\":{\"standoff\":15},\"zerolinecolor\":\"white\",\"automargin\":true,\"zerolinewidth\":2},\"scene\":{\"xaxis\":{\"backgroundcolor\":\"#E5ECF6\",\"gridcolor\":\"white\",\"linecolor\":\"white\",\"showbackground\":true,\"ticks\":\"\",\"zerolinecolor\":\"white\",\"gridwidth\":2},\"yaxis\":{\"backgroundcolor\":\"#E5ECF6\",\"gridcolor\":\"white\",\"linecolor\":\"white\",\"showbackground\":true,\"ticks\":\"\",\"zerolinecolor\":\"white\",\"gridwidth\":2},\"zaxis\":{\"backgroundcolor\":\"#E5ECF6\",\"gridcolor\":\"white\",\"linecolor\":\"white\",\"showbackground\":true,\"ticks\":\"\",\"zerolinecolor\":\"white\",\"gridwidth\":2}},\"shapedefaults\":{\"line\":{\"color\":\"#2a3f5f\"}},\"annotationdefaults\":{\"arrowcolor\":\"#2a3f5f\",\"arrowhead\":0,\"arrowwidth\":1},\"geo\":{\"bgcolor\":\"white\",\"landcolor\":\"#E5ECF6\",\"subunitcolor\":\"white\",\"showland\":true,\"showlakes\":true,\"lakecolor\":\"white\"},\"title\":{\"x\":0.05},\"mapbox\":{\"style\":\"light\"}}},\"xaxis\":{\"anchor\":\"y\",\"domain\":[0.0,1.0]},\"yaxis\":{\"anchor\":\"x\",\"domain\":[0.0,1.0]},\"legend\":{\"tracegroupgap\":0},\"margin\":{\"t\":60},\"barmode\":\"relative\"},                        {\"responsive\": true}                    ).then(function(){\n",
       "                            \n",
       "var gd = document.getElementById('c383444b-f391-4796-91b8-155e9b8ec675');\n",
       "var x = new MutationObserver(function (mutations, observer) {{\n",
       "        var display = window.getComputedStyle(gd).display;\n",
       "        if (!display || display === 'none') {{\n",
       "            console.log([gd, 'removed!']);\n",
       "            Plotly.purge(gd);\n",
       "            observer.disconnect();\n",
       "        }}\n",
       "}});\n",
       "\n",
       "// Listen for the removal of the full notebook cells\n",
       "var notebookContainer = gd.closest('#notebook-container');\n",
       "if (notebookContainer) {{\n",
       "    x.observe(notebookContainer, {childList: true});\n",
       "}}\n",
       "\n",
       "// Listen for the clearing of the current output cell\n",
       "var outputEl = gd.closest('.output');\n",
       "if (outputEl) {{\n",
       "    x.observe(outputEl, {childList: true});\n",
       "}}\n",
       "\n",
       "                        })                };                });            </script>        </div>"
      ]
     },
     "metadata": {},
     "output_type": "display_data"
    }
   ],
   "source": [
    "plt.hist("
   ]
  },
  {
   "cell_type": "code",
   "execution_count": 37,
   "id": "c4773dde-b7ba-4e8d-82cf-8a006a654379",
   "metadata": {
    "tags": []
   },
   "outputs": [
    {
     "data": {
      "text/html": [
       "<div>\n",
       "<style scoped>\n",
       "    .dataframe tbody tr th:only-of-type {\n",
       "        vertical-align: middle;\n",
       "    }\n",
       "\n",
       "    .dataframe tbody tr th {\n",
       "        vertical-align: top;\n",
       "    }\n",
       "\n",
       "    .dataframe thead th {\n",
       "        text-align: right;\n",
       "    }\n",
       "</style>\n",
       "<table border=\"1\" class=\"dataframe\">\n",
       "  <thead>\n",
       "    <tr style=\"text-align: right;\">\n",
       "      <th></th>\n",
       "      <th>NUM_ENQ</th>\n",
       "      <th>DIFF_DAY</th>\n",
       "      <th>NIVEAU_1</th>\n",
       "      <th>NIVEAU_2</th>\n",
       "      <th>NIVEAU_3</th>\n",
       "      <th>NIVEAU_4</th>\n",
       "      <th>NIVEAU_5</th>\n",
       "    </tr>\n",
       "  </thead>\n",
       "  <tbody>\n",
       "  </tbody>\n",
       "</table>\n",
       "</div>"
      ],
      "text/plain": [
       "Empty DataFrame\n",
       "Columns: [NUM_ENQ, DIFF_DAY, NIVEAU_1, NIVEAU_2, NIVEAU_3, NIVEAU_4, NIVEAU_5]\n",
       "Index: []"
      ]
     },
     "execution_count": 37,
     "metadata": {},
     "output_type": "execute_result"
    }
   ],
   "source": [
    "df_PMSI = bdtot.copy()\n",
    "df_PMSI['NIVEAU_1'] = bdtot['NIVEAU_1'].str.startswith('PM')\n",
    "df_PMSI = df_PMSI[df_PMSI['NIVEAU_1']==True]\n",
    "df_PMSI\n",
    "\n",
    "#POURQUOI C'EST VIDE ? Demander à encadrant"
   ]
  },
  {
   "cell_type": "markdown",
   "id": "94a55b6b-255f-44d1-8ab6-b93e0d800b86",
   "metadata": {},
   "source": [
    "Précisions sur les types de soin :"
   ]
  },
  {
   "cell_type": "code",
   "execution_count": 7,
   "id": "1d48ca44-d8bc-4964-8632-193810339d56",
   "metadata": {
    "tags": []
   },
   "outputs": [
    {
     "data": {
      "text/plain": [
       "['PHA_B',\n",
       " 'PHA_V',\n",
       " 'PHA_P',\n",
       " 'PHA_G',\n",
       " 'PHA_D',\n",
       " 'PHA_H',\n",
       " nan,\n",
       " 'PHA_L',\n",
       " 'PHA_N',\n",
       " 'PHA_A',\n",
       " 'PHA_S',\n",
       " 'PHA_C',\n",
       " 'PHA_J',\n",
       " 'PHA_R',\n",
       " 'PHA_M']"
      ]
     },
     "execution_count": 7,
     "metadata": {},
     "output_type": "execute_result"
    }
   ],
   "source": [
    "bdtot['NIVEAU_1']\n",
    "liste = list(set(list(bdtot['NIVEAU_1'])))\n",
    "liste"
   ]
  },
  {
   "cell_type": "code",
   "execution_count": 11,
   "id": "cb98a786-f883-4727-8acb-f047d6f75c38",
   "metadata": {
    "tags": []
   },
   "outputs": [
    {
     "data": {
      "text/plain": [
       "['PHA_B',\n",
       " 'PHA_V',\n",
       " 'PHA_P',\n",
       " 'PHA_G',\n",
       " 'PHA_D',\n",
       " 'PHA_H',\n",
       " nan,\n",
       " 'PHA_L',\n",
       " 'PHA_N',\n",
       " 'PHA_A',\n",
       " 'PHA_S',\n",
       " 'PHA_C',\n",
       " 'PHA_J',\n",
       " 'PHA_R',\n",
       " 'PHA_M']"
      ]
     },
     "execution_count": 11,
     "metadata": {},
     "output_type": "execute_result"
    }
   ],
   "source": [
    "bdtot_c.dtypes\n",
    "\n",
    "liste"
   ]
  },
  {
   "cell_type": "markdown",
   "id": "ac7a5320-2903-4aff-b3b8-9098ca847894",
   "metadata": {},
   "source": [
    "**Modélisation : Clustering de séries temporelles**"
   ]
  },
  {
   "cell_type": "markdown",
   "id": "2aabdf04-0632-4cbd-9e99-46552cb8b38e",
   "metadata": {},
   "source": [
    "On va appliquer l'algorithme des k-means pour établir des clusters (et donc des profils de patient). Cependant, ayant entre les mains une série temporelle, nous n'allons pas utiliser une distance euclidienne classique mais la \"Dynamic Time Warping Distance\" qui est plus adaptée au type de données qu'on traite. En effet, la distance euclidienne ne permet pas d'absorber l'aspect temporel de la data.\n",
    "\n",
    "Cependant, pour dessiner les profils, on va accoler les informations de la table de population des individus sur la base de soins totale. "
   ]
  },
  {
   "cell_type": "markdown",
   "id": "4c8033e5-6ee8-45f3-8913-65f80bebf341",
   "metadata": {},
   "source": [
    "*Génération de la base de données du clustering*"
   ]
  },
  {
   "cell_type": "code",
   "execution_count": 4,
   "id": "f1c68a87-5ebd-439c-bd48-6812b13d1523",
   "metadata": {
    "tags": []
   },
   "outputs": [
    {
     "data": {
      "text/html": [
       "<div>\n",
       "<style scoped>\n",
       "    .dataframe tbody tr th:only-of-type {\n",
       "        vertical-align: middle;\n",
       "    }\n",
       "\n",
       "    .dataframe tbody tr th {\n",
       "        vertical-align: top;\n",
       "    }\n",
       "\n",
       "    .dataframe thead th {\n",
       "        text-align: right;\n",
       "    }\n",
       "</style>\n",
       "<table border=\"1\" class=\"dataframe\">\n",
       "  <thead>\n",
       "    <tr style=\"text-align: right;\">\n",
       "      <th></th>\n",
       "      <th>NUM_ENQ</th>\n",
       "      <th>DIFF_DAY</th>\n",
       "      <th>NIVEAU_1</th>\n",
       "      <th>NIVEAU_2</th>\n",
       "      <th>NIVEAU_3</th>\n",
       "      <th>NIVEAU_4</th>\n",
       "      <th>NIVEAU_5</th>\n",
       "      <th>GROUPE</th>\n",
       "      <th>ID_MATCHING</th>\n",
       "      <th>ANTERIORITE_DISPONIBLE</th>\n",
       "      <th>...</th>\n",
       "      <th>DTD_DCD</th>\n",
       "      <th>AGE</th>\n",
       "      <th>TYPE_LIEU</th>\n",
       "      <th>TEMOIN</th>\n",
       "      <th>RCP_TEMOIN</th>\n",
       "      <th>ADMIS_VIVANT_HOPITAL</th>\n",
       "      <th>RYTHME_CHOQUABLE</th>\n",
       "      <th>CORO</th>\n",
       "      <th>ANN_EVT</th>\n",
       "      <th>TYPE_ASSURANCE</th>\n",
       "    </tr>\n",
       "  </thead>\n",
       "  <tbody>\n",
       "    <tr>\n",
       "      <th>0</th>\n",
       "      <td>G0-749</td>\n",
       "      <td>-1799</td>\n",
       "      <td>PHA_R</td>\n",
       "      <td>PHA_R06</td>\n",
       "      <td>PHA_R06A</td>\n",
       "      <td>PHA_R06AB</td>\n",
       "      <td>PHA_R06AB52</td>\n",
       "      <td>mort_subite</td>\n",
       "      <td>G0-&lt;NA&gt;</td>\n",
       "      <td>2070.0</td>\n",
       "      <td>...</td>\n",
       "      <td>2011-09-02</td>\n",
       "      <td>44.543009</td>\n",
       "      <td>1.0</td>\n",
       "      <td>1.0</td>\n",
       "      <td>1.0</td>\n",
       "      <td>0.0</td>\n",
       "      <td>0.0</td>\n",
       "      <td>0.0</td>\n",
       "      <td>NaN</td>\n",
       "      <td>NaN</td>\n",
       "    </tr>\n",
       "    <tr>\n",
       "      <th>1</th>\n",
       "      <td>G0-749</td>\n",
       "      <td>-1799</td>\n",
       "      <td>PHA_D</td>\n",
       "      <td>PHA_D08</td>\n",
       "      <td>PHA_D08A</td>\n",
       "      <td>PHA_D08AC</td>\n",
       "      <td>PHA_D08AC52</td>\n",
       "      <td>mort_subite</td>\n",
       "      <td>G0-&lt;NA&gt;</td>\n",
       "      <td>2070.0</td>\n",
       "      <td>...</td>\n",
       "      <td>2011-09-02</td>\n",
       "      <td>44.543009</td>\n",
       "      <td>1.0</td>\n",
       "      <td>1.0</td>\n",
       "      <td>1.0</td>\n",
       "      <td>0.0</td>\n",
       "      <td>0.0</td>\n",
       "      <td>0.0</td>\n",
       "      <td>NaN</td>\n",
       "      <td>NaN</td>\n",
       "    </tr>\n",
       "    <tr>\n",
       "      <th>2</th>\n",
       "      <td>G0-749</td>\n",
       "      <td>-1799</td>\n",
       "      <td>PHA_R</td>\n",
       "      <td>PHA_R06</td>\n",
       "      <td>PHA_R06A</td>\n",
       "      <td>PHA_R06AE</td>\n",
       "      <td>PHA_R06AE09</td>\n",
       "      <td>mort_subite</td>\n",
       "      <td>G0-&lt;NA&gt;</td>\n",
       "      <td>2070.0</td>\n",
       "      <td>...</td>\n",
       "      <td>2011-09-02</td>\n",
       "      <td>44.543009</td>\n",
       "      <td>1.0</td>\n",
       "      <td>1.0</td>\n",
       "      <td>1.0</td>\n",
       "      <td>0.0</td>\n",
       "      <td>0.0</td>\n",
       "      <td>0.0</td>\n",
       "      <td>NaN</td>\n",
       "      <td>NaN</td>\n",
       "    </tr>\n",
       "    <tr>\n",
       "      <th>3</th>\n",
       "      <td>G0-749</td>\n",
       "      <td>-1799</td>\n",
       "      <td>PHA_D</td>\n",
       "      <td>PHA_D08</td>\n",
       "      <td>PHA_D08A</td>\n",
       "      <td>PHA_D08AC</td>\n",
       "      <td>PHA_D08AC52</td>\n",
       "      <td>mort_subite</td>\n",
       "      <td>G0-&lt;NA&gt;</td>\n",
       "      <td>2070.0</td>\n",
       "      <td>...</td>\n",
       "      <td>2011-09-02</td>\n",
       "      <td>44.543009</td>\n",
       "      <td>1.0</td>\n",
       "      <td>1.0</td>\n",
       "      <td>1.0</td>\n",
       "      <td>0.0</td>\n",
       "      <td>0.0</td>\n",
       "      <td>0.0</td>\n",
       "      <td>NaN</td>\n",
       "      <td>NaN</td>\n",
       "    </tr>\n",
       "    <tr>\n",
       "      <th>4</th>\n",
       "      <td>G0-749</td>\n",
       "      <td>-1799</td>\n",
       "      <td>PHA_D</td>\n",
       "      <td>PHA_D07</td>\n",
       "      <td>PHA_D07A</td>\n",
       "      <td>PHA_D07AB</td>\n",
       "      <td>PHA_D07AB02</td>\n",
       "      <td>mort_subite</td>\n",
       "      <td>G0-&lt;NA&gt;</td>\n",
       "      <td>2070.0</td>\n",
       "      <td>...</td>\n",
       "      <td>2011-09-02</td>\n",
       "      <td>44.543009</td>\n",
       "      <td>1.0</td>\n",
       "      <td>1.0</td>\n",
       "      <td>1.0</td>\n",
       "      <td>0.0</td>\n",
       "      <td>0.0</td>\n",
       "      <td>0.0</td>\n",
       "      <td>NaN</td>\n",
       "      <td>NaN</td>\n",
       "    </tr>\n",
       "    <tr>\n",
       "      <th>...</th>\n",
       "      <td>...</td>\n",
       "      <td>...</td>\n",
       "      <td>...</td>\n",
       "      <td>...</td>\n",
       "      <td>...</td>\n",
       "      <td>...</td>\n",
       "      <td>...</td>\n",
       "      <td>...</td>\n",
       "      <td>...</td>\n",
       "      <td>...</td>\n",
       "      <td>...</td>\n",
       "      <td>...</td>\n",
       "      <td>...</td>\n",
       "      <td>...</td>\n",
       "      <td>...</td>\n",
       "      <td>...</td>\n",
       "      <td>...</td>\n",
       "      <td>...</td>\n",
       "      <td>...</td>\n",
       "      <td>...</td>\n",
       "      <td>...</td>\n",
       "    </tr>\n",
       "    <tr>\n",
       "      <th>209919</th>\n",
       "      <td>G0-28481</td>\n",
       "      <td>-562</td>\n",
       "      <td>PHA_A</td>\n",
       "      <td>PHA_A10</td>\n",
       "      <td>PHA_A10B</td>\n",
       "      <td>PHA_A10BA</td>\n",
       "      <td>PHA_A10BA02</td>\n",
       "      <td>mort_subite</td>\n",
       "      <td>G0-&lt;NA&gt;</td>\n",
       "      <td>4622.0</td>\n",
       "      <td>...</td>\n",
       "      <td>NaN</td>\n",
       "      <td>50.659493</td>\n",
       "      <td>0.0</td>\n",
       "      <td>1.0</td>\n",
       "      <td>0.0</td>\n",
       "      <td>0.0</td>\n",
       "      <td>0.0</td>\n",
       "      <td>NaN</td>\n",
       "      <td>NaN</td>\n",
       "      <td>NaN</td>\n",
       "    </tr>\n",
       "    <tr>\n",
       "      <th>209920</th>\n",
       "      <td>G0-28481</td>\n",
       "      <td>-562</td>\n",
       "      <td>PHA_J</td>\n",
       "      <td>PHA_J01</td>\n",
       "      <td>PHA_J01C</td>\n",
       "      <td>PHA_J01CA</td>\n",
       "      <td>PHA_J01CA04</td>\n",
       "      <td>mort_subite</td>\n",
       "      <td>G0-&lt;NA&gt;</td>\n",
       "      <td>4622.0</td>\n",
       "      <td>...</td>\n",
       "      <td>NaN</td>\n",
       "      <td>50.659493</td>\n",
       "      <td>0.0</td>\n",
       "      <td>1.0</td>\n",
       "      <td>0.0</td>\n",
       "      <td>0.0</td>\n",
       "      <td>0.0</td>\n",
       "      <td>NaN</td>\n",
       "      <td>NaN</td>\n",
       "      <td>NaN</td>\n",
       "    </tr>\n",
       "    <tr>\n",
       "      <th>209921</th>\n",
       "      <td>G0-28481</td>\n",
       "      <td>-562</td>\n",
       "      <td>PHA_R</td>\n",
       "      <td>PHA_R05</td>\n",
       "      <td>PHA_R05D</td>\n",
       "      <td>PHA_R05DA</td>\n",
       "      <td>PHA_R05DA08</td>\n",
       "      <td>mort_subite</td>\n",
       "      <td>G0-&lt;NA&gt;</td>\n",
       "      <td>4622.0</td>\n",
       "      <td>...</td>\n",
       "      <td>NaN</td>\n",
       "      <td>50.659493</td>\n",
       "      <td>0.0</td>\n",
       "      <td>1.0</td>\n",
       "      <td>0.0</td>\n",
       "      <td>0.0</td>\n",
       "      <td>0.0</td>\n",
       "      <td>NaN</td>\n",
       "      <td>NaN</td>\n",
       "      <td>NaN</td>\n",
       "    </tr>\n",
       "    <tr>\n",
       "      <th>209922</th>\n",
       "      <td>G0-28481</td>\n",
       "      <td>-562</td>\n",
       "      <td>PHA_C</td>\n",
       "      <td>PHA_C08</td>\n",
       "      <td>PHA_C08D</td>\n",
       "      <td>PHA_C08DA</td>\n",
       "      <td>PHA_C08DA01</td>\n",
       "      <td>mort_subite</td>\n",
       "      <td>G0-&lt;NA&gt;</td>\n",
       "      <td>4622.0</td>\n",
       "      <td>...</td>\n",
       "      <td>NaN</td>\n",
       "      <td>50.659493</td>\n",
       "      <td>0.0</td>\n",
       "      <td>1.0</td>\n",
       "      <td>0.0</td>\n",
       "      <td>0.0</td>\n",
       "      <td>0.0</td>\n",
       "      <td>NaN</td>\n",
       "      <td>NaN</td>\n",
       "      <td>NaN</td>\n",
       "    </tr>\n",
       "    <tr>\n",
       "      <th>209923</th>\n",
       "      <td>G0-28481</td>\n",
       "      <td>-562</td>\n",
       "      <td>PHA_R</td>\n",
       "      <td>PHA_R01</td>\n",
       "      <td>PHA_R01A</td>\n",
       "      <td>PHA_R01AD</td>\n",
       "      <td>PHA_R01AD05</td>\n",
       "      <td>mort_subite</td>\n",
       "      <td>G0-&lt;NA&gt;</td>\n",
       "      <td>4622.0</td>\n",
       "      <td>...</td>\n",
       "      <td>NaN</td>\n",
       "      <td>50.659493</td>\n",
       "      <td>0.0</td>\n",
       "      <td>1.0</td>\n",
       "      <td>0.0</td>\n",
       "      <td>0.0</td>\n",
       "      <td>0.0</td>\n",
       "      <td>NaN</td>\n",
       "      <td>NaN</td>\n",
       "      <td>NaN</td>\n",
       "    </tr>\n",
       "  </tbody>\n",
       "</table>\n",
       "<p>209924 rows × 25 columns</p>\n",
       "</div>"
      ],
      "text/plain": [
       "         NUM_ENQ DIFF_DAY NIVEAU_1 NIVEAU_2  NIVEAU_3   NIVEAU_4     NIVEAU_5  \\\n",
       "0         G0-749    -1799    PHA_R  PHA_R06  PHA_R06A  PHA_R06AB  PHA_R06AB52   \n",
       "1         G0-749    -1799    PHA_D  PHA_D08  PHA_D08A  PHA_D08AC  PHA_D08AC52   \n",
       "2         G0-749    -1799    PHA_R  PHA_R06  PHA_R06A  PHA_R06AE  PHA_R06AE09   \n",
       "3         G0-749    -1799    PHA_D  PHA_D08  PHA_D08A  PHA_D08AC  PHA_D08AC52   \n",
       "4         G0-749    -1799    PHA_D  PHA_D07  PHA_D07A  PHA_D07AB  PHA_D07AB02   \n",
       "...          ...      ...      ...      ...       ...        ...          ...   \n",
       "209919  G0-28481     -562    PHA_A  PHA_A10  PHA_A10B  PHA_A10BA  PHA_A10BA02   \n",
       "209920  G0-28481     -562    PHA_J  PHA_J01  PHA_J01C  PHA_J01CA  PHA_J01CA04   \n",
       "209921  G0-28481     -562    PHA_R  PHA_R05  PHA_R05D  PHA_R05DA  PHA_R05DA08   \n",
       "209922  G0-28481     -562    PHA_C  PHA_C08  PHA_C08D  PHA_C08DA  PHA_C08DA01   \n",
       "209923  G0-28481     -562    PHA_R  PHA_R01  PHA_R01A  PHA_R01AD  PHA_R01AD05   \n",
       "\n",
       "             GROUPE ID_MATCHING  ANTERIORITE_DISPONIBLE  ...     DTD_DCD  \\\n",
       "0       mort_subite     G0-<NA>                  2070.0  ...  2011-09-02   \n",
       "1       mort_subite     G0-<NA>                  2070.0  ...  2011-09-02   \n",
       "2       mort_subite     G0-<NA>                  2070.0  ...  2011-09-02   \n",
       "3       mort_subite     G0-<NA>                  2070.0  ...  2011-09-02   \n",
       "4       mort_subite     G0-<NA>                  2070.0  ...  2011-09-02   \n",
       "...             ...         ...                     ...  ...         ...   \n",
       "209919  mort_subite     G0-<NA>                  4622.0  ...         NaN   \n",
       "209920  mort_subite     G0-<NA>                  4622.0  ...         NaN   \n",
       "209921  mort_subite     G0-<NA>                  4622.0  ...         NaN   \n",
       "209922  mort_subite     G0-<NA>                  4622.0  ...         NaN   \n",
       "209923  mort_subite     G0-<NA>                  4622.0  ...         NaN   \n",
       "\n",
       "              AGE  TYPE_LIEU  TEMOIN  RCP_TEMOIN ADMIS_VIVANT_HOPITAL  \\\n",
       "0       44.543009        1.0     1.0         1.0                  0.0   \n",
       "1       44.543009        1.0     1.0         1.0                  0.0   \n",
       "2       44.543009        1.0     1.0         1.0                  0.0   \n",
       "3       44.543009        1.0     1.0         1.0                  0.0   \n",
       "4       44.543009        1.0     1.0         1.0                  0.0   \n",
       "...           ...        ...     ...         ...                  ...   \n",
       "209919  50.659493        0.0     1.0         0.0                  0.0   \n",
       "209920  50.659493        0.0     1.0         0.0                  0.0   \n",
       "209921  50.659493        0.0     1.0         0.0                  0.0   \n",
       "209922  50.659493        0.0     1.0         0.0                  0.0   \n",
       "209923  50.659493        0.0     1.0         0.0                  0.0   \n",
       "\n",
       "        RYTHME_CHOQUABLE  CORO  ANN_EVT  TYPE_ASSURANCE  \n",
       "0                    0.0   0.0      NaN             NaN  \n",
       "1                    0.0   0.0      NaN             NaN  \n",
       "2                    0.0   0.0      NaN             NaN  \n",
       "3                    0.0   0.0      NaN             NaN  \n",
       "4                    0.0   0.0      NaN             NaN  \n",
       "...                  ...   ...      ...             ...  \n",
       "209919               0.0   NaN      NaN             NaN  \n",
       "209920               0.0   NaN      NaN             NaN  \n",
       "209921               0.0   NaN      NaN             NaN  \n",
       "209922               0.0   NaN      NaN             NaN  \n",
       "209923               0.0   NaN      NaN             NaN  \n",
       "\n",
       "[209924 rows x 25 columns]"
      ]
     },
     "execution_count": 4,
     "metadata": {},
     "output_type": "execute_result"
    }
   ],
   "source": [
    "df_cl = pd.merge(bdtot, Table_Pop, on =['NUM_ENQ'])\n",
    "#Définir le temps\n",
    "df_cl"
   ]
  },
  {
   "cell_type": "markdown",
   "id": "5028bb86-679e-4a90-a710-6b8719a03171",
   "metadata": {
    "tags": []
   },
   "source": [
    "*Choisir le bon nombre de clusters*"
   ]
  },
  {
   "cell_type": "markdown",
   "id": "62e56c40-2730-45c2-b5e5-4fc5a7d79860",
   "metadata": {},
   "source": [
    "Nous allons estimer cela en ayant recours à la méthode \"silhouette coefficient\". Ce coefficient calcule à quel point les points d'un même cluster sont proches entre eux et à quel point ces points sont bien éloignés des autres clusters. On va donc le calculer pour un certain nombre de cluster afin de déterminer le nombre idéal à générer : ce nombre sera celui qui maximise le coefficient. "
   ]
  },
  {
   "cell_type": "code",
   "execution_count": null,
   "id": "73a5184f-240f-4447-86c7-c76e075000e8",
   "metadata": {},
   "outputs": [],
   "source": [
    "silhouette_coefficients = []\n",
    "\n",
    "for k in range(2, 11):\n",
    "    kmeans = TimeSeriesKMeans(n_clusters=k,metric=\"dtw\", max_iter=10)\n",
    "    kmeans.fit(scaled_features)\n",
    "    score = silhouette_score(scaled_features, kmeans.labels_)\n",
    "    silhouette_coefficients.append(score)\n",
    "\n",
    "nb_ideal = max(silhouette_coefficients)\n",
    "    "
   ]
  },
  {
   "cell_type": "markdown",
   "id": "5b8b3138-c7fd-4c12-9535-49712bafec56",
   "metadata": {
    "tags": []
   },
   "source": [
    "*k-means*"
   ]
  },
  {
   "cell_type": "code",
   "execution_count": null,
   "id": "afe7da81-7ea1-45a0-ab2f-b17f4d6fd775",
   "metadata": {},
   "outputs": [],
   "source": [
    "model = TimeSeriesKMeans(n_clusters=nb_ideal, metric=\"dtw\", max_iter=10)\n",
    "model.fit(df_cl)"
   ]
  }
 ],
 "metadata": {
  "kernelspec": {
   "display_name": "Python 3 (ipykernel)",
   "language": "python",
   "name": "python3"
  },
  "language_info": {
   "codemirror_mode": {
    "name": "ipython",
    "version": 3
   },
   "file_extension": ".py",
   "mimetype": "text/x-python",
   "name": "python",
   "nbconvert_exporter": "python",
   "pygments_lexer": "ipython3",
   "version": "3.10.9"
  }
 },
 "nbformat": 4,
 "nbformat_minor": 5
}
