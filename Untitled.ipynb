{
 "cells": [
  {
   "cell_type": "markdown",
   "id": "56afe656-080e-4cfd-a6ed-3af3455c71f2",
   "metadata": {
    "tags": []
   },
   "source": [
    "Nous allons étudier la mort subite \n",
    "D'abord, importons nos packages et ouvrons les bases de données"
   ]
  },
  {
   "cell_type": "code",
   "execution_count": 1,
   "id": "0498941e-ae6b-442d-b0ae-1c516aeedd52",
   "metadata": {
    "tags": []
   },
   "outputs": [],
   "source": [
    "import numpy as np\n",
    "import pandas as pd\n",
    "import os\n",
    "import matplotlib.pyplot as plt"
   ]
  },
  {
   "cell_type": "code",
   "execution_count": 6,
   "id": "173f6d6c-f6e9-47a2-96b1-fd893642b19f",
   "metadata": {
    "tags": []
   },
   "outputs": [
    {
     "ename": "FileNotFoundError",
     "evalue": "[Errno 2] No such file or directory: 'Ce PC/Documents/SemModStat/MSTP.csv'",
     "output_type": "error",
     "traceback": [
      "\u001b[0;31m---------------------------------------------------------------------------\u001b[0m",
      "\u001b[0;31mFileNotFoundError\u001b[0m                         Traceback (most recent call last)",
      "Cell \u001b[0;32mIn[6], line 1\u001b[0m\n\u001b[0;32m----> 1\u001b[0m f \u001b[38;5;241m=\u001b[39m \u001b[43mos\u001b[49m\u001b[38;5;241;43m.\u001b[39;49m\u001b[43mopen\u001b[49m\u001b[43m(\u001b[49m\u001b[38;5;124;43m'\u001b[39;49m\u001b[38;5;124;43mCe PC/Documents/SemModStat/MSTP.csv\u001b[39;49m\u001b[38;5;124;43m'\u001b[39;49m\u001b[43m,\u001b[49m\u001b[43m \u001b[49m\u001b[43mos\u001b[49m\u001b[38;5;241;43m.\u001b[39;49m\u001b[43mO_RDONLY\u001b[49m\u001b[43m)\u001b[49m\n\u001b[1;32m      2\u001b[0m Table_Pop \u001b[38;5;241m=\u001b[39m pd\u001b[38;5;241m.\u001b[39mread_csv(f)\n\u001b[1;32m      3\u001b[0m Table_Pop\n",
      "\u001b[0;31mFileNotFoundError\u001b[0m: [Errno 2] No such file or directory: 'Ce PC/Documents/SemModStat/MSTP.csv'"
     ]
    }
   ],
   "source": [
    "Table_Pop = pd.read_csv('Ce PC/Documents/SemModStat/MSTP.csv')\n",
    "bd0 = pd.read_csv('Ce PC/Documents/SemModStat/MS_BD0.csv')\n",
    "bd1 = pd.read_csv('Ce PC/Documents/SemModStat/MS_BD1.csv')\n",
    "bd2 = pd.read_csv('Ce PC/Documents/SemModStat/MS_BD2.csv')"
   ]
  },
  {
   "cell_type": "markdown",
   "id": "ca584fdd-a569-494c-869d-981fbd69df01",
   "metadata": {},
   "source": [
    "Bon cette partie marche pas encore mais je vais préparer la suite. Je vais concaténer les traitements. "
   ]
  },
  {
   "cell_type": "code",
   "execution_count": null,
   "id": "51afaaae-4a78-4897-929c-044410588938",
   "metadata": {},
   "outputs": [],
   "source": [
    "bdtot = pd.concat(['bd0', 'bd1', 'bd2'])"
   ]
  },
  {
   "cell_type": "markdown",
   "id": "e37e9022-c372-4d3f-867f-4ec5f56011bb",
   "metadata": {},
   "source": [
    "On va établir une liste des enquêtés pour pouvoir compter leurs soins à l'avenir"
   ]
  },
  {
   "cell_type": "code",
   "execution_count": 7,
   "id": "3d9a3218-87d8-43dd-97ee-f770091586e9",
   "metadata": {
    "tags": []
   },
   "outputs": [
    {
     "ename": "SyntaxError",
     "evalue": "invalid syntax (1756146641.py, line 1)",
     "output_type": "error",
     "traceback": [
      "\u001b[0;36m  Cell \u001b[0;32mIn[7], line 1\u001b[0;36m\u001b[0m\n\u001b[0;31m    list_enq = []for elem in Table_Pop['NUM_ENQ']\u001b[0m\n\u001b[0m                 ^\u001b[0m\n\u001b[0;31mSyntaxError\u001b[0m\u001b[0;31m:\u001b[0m invalid syntax\n"
     ]
    }
   ],
   "source": [
    "list_enq = [] #On crée une liste vide\n",
    "for elem in Table_Pop['NUM_ENQ']\n",
    "    list_enq.append(str(elem)) #On ajoute chaque numéro d'enquêté, présent une seule fois sur la table de population"
   ]
  },
  {
   "cell_type": "markdown",
   "id": "2e436a40-8c0a-41a7-b00f-3b7560622f77",
   "metadata": {},
   "source": [
    "Maintenant, on va chercher à compter combien d'actes de soins ont été reçus par enquêtés. Pour ce faire, nous allons compter les occurences de chaque éléments de la liste dans la base de données totale. On va les implémenter dans la Table Pop ensuite. "
   ]
  },
  {
   "cell_type": "code",
   "execution_count": null,
   "id": "a841a919-d1a1-4c8e-8ab1-044fbacffa36",
   "metadata": {},
   "outputs": [],
   "source": [
    "Table_Pop = Table_Pop.assign(Nbr_Soins=0) #On crée une nouvelle colonne pour stocker ces données, on la remplit de 0 pour l'edit plus tard\n",
    "\n",
    "#On va maintenant chercher à associer à chaque enquêté le nombre de soin reçu.\n",
    "#Calcul des soins par personnes\n",
    "Nbr_Soins = []\n",
    "for elem in list_enq:\n",
    "    c = 0 #Ce sera notre compteur d'itération\n",
    "    for val in bdt['NUM_ENQ']:\n",
    "        if elem==var:\n",
    "        c = c+1\n",
    "    Nbr_Soins.append(c)\n",
    "\n",
    "#On crée une dataframe à partie de ça. Normalement ça correspond car le calcul se fait dans l'ordre des enquêtés \n",
    "df = pd.DataFrame(list(zip(list_enq,Nbr_Soins)), columns = ['NUM_ENQ','Nbr_Soins'])\n",
    "Table_Pop = pd.merge(Table_Pop, 'df')"
   ]
  },
  {
   "cell_type": "markdown",
   "id": "7c226846-64f0-4e29-905c-f6078f30eb5f",
   "metadata": {},
   "source": [
    "Ainsi, on peut commencer à effectuer quelques statistiques descriptives"
   ]
  }
 ],
 "metadata": {
  "kernelspec": {
   "display_name": "Python 3 (ipykernel)",
   "language": "python",
   "name": "python3"
  },
  "language_info": {
   "codemirror_mode": {
    "name": "ipython",
    "version": 3
   },
   "file_extension": ".py",
   "mimetype": "text/x-python",
   "name": "python",
   "nbconvert_exporter": "python",
   "pygments_lexer": "ipython3",
   "version": "3.10.8"
  }
 },
 "nbformat": 4,
 "nbformat_minor": 5
}
